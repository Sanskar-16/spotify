{
 "cells": [
  {
   "cell_type": "code",
   "execution_count": 121,
   "metadata": {},
   "outputs": [],
   "source": [
    "import pandas as pd\n",
    "import seaborn as sns\n",
    "import matplotlib.pyplot as plt"
   ]
  },
  {
   "cell_type": "code",
   "execution_count": 104,
   "metadata": {},
   "outputs": [],
   "source": [
    "df = pd.read_csv(\"combined-data/spotify-data.csv\")"
   ]
  },
  {
   "cell_type": "code",
   "execution_count": 105,
   "metadata": {},
   "outputs": [
    {
     "data": {
      "text/plain": "            endTime      artistName  \\\n0  2021-01-20 19:34   Billie Eilish   \n1  2021-01-21 00:05      Atif Aslam   \n2  2021-01-21 00:11      Atif Aslam   \n3  2021-01-21 00:15  Akhil Sachdeva   \n4  2021-01-21 00:20    Arijit Singh   \n\n                                      trackName  msPlayed Language  \n0                                    i love you    205230       en  \n1                                   Tu Jaane Na    341933       mr  \n2                                         Aadat    333740       hi  \n3       Humsafar (From \"Badrinath Ki Dulhania\")    268463       hi  \n4  Tujhe Kitna Chahne Lage (From \"Kabir Singh\")    284779       hi  ",
      "text/html": "<div>\n<style scoped>\n    .dataframe tbody tr th:only-of-type {\n        vertical-align: middle;\n    }\n\n    .dataframe tbody tr th {\n        vertical-align: top;\n    }\n\n    .dataframe thead th {\n        text-align: right;\n    }\n</style>\n<table border=\"1\" class=\"dataframe\">\n  <thead>\n    <tr style=\"text-align: right;\">\n      <th></th>\n      <th>endTime</th>\n      <th>artistName</th>\n      <th>trackName</th>\n      <th>msPlayed</th>\n      <th>Language</th>\n    </tr>\n  </thead>\n  <tbody>\n    <tr>\n      <th>0</th>\n      <td>2021-01-20 19:34</td>\n      <td>Billie Eilish</td>\n      <td>i love you</td>\n      <td>205230</td>\n      <td>en</td>\n    </tr>\n    <tr>\n      <th>1</th>\n      <td>2021-01-21 00:05</td>\n      <td>Atif Aslam</td>\n      <td>Tu Jaane Na</td>\n      <td>341933</td>\n      <td>mr</td>\n    </tr>\n    <tr>\n      <th>2</th>\n      <td>2021-01-21 00:11</td>\n      <td>Atif Aslam</td>\n      <td>Aadat</td>\n      <td>333740</td>\n      <td>hi</td>\n    </tr>\n    <tr>\n      <th>3</th>\n      <td>2021-01-21 00:15</td>\n      <td>Akhil Sachdeva</td>\n      <td>Humsafar (From \"Badrinath Ki Dulhania\")</td>\n      <td>268463</td>\n      <td>hi</td>\n    </tr>\n    <tr>\n      <th>4</th>\n      <td>2021-01-21 00:20</td>\n      <td>Arijit Singh</td>\n      <td>Tujhe Kitna Chahne Lage (From \"Kabir Singh\")</td>\n      <td>284779</td>\n      <td>hi</td>\n    </tr>\n  </tbody>\n</table>\n</div>"
     },
     "execution_count": 105,
     "metadata": {},
     "output_type": "execute_result"
    }
   ],
   "source": [
    "df.head()"
   ]
  },
  {
   "cell_type": "code",
   "execution_count": 106,
   "metadata": {},
   "outputs": [],
   "source": [
    "df = df.rename(columns={'artistName':'artist', 'trackName':'track', 'msPlayed':'duration'})"
   ]
  },
  {
   "cell_type": "code",
   "execution_count": 107,
   "metadata": {},
   "outputs": [],
   "source": [
    "df['duration'] = round((df['duration']/60000), 2)"
   ]
  },
  {
   "cell_type": "code",
   "execution_count": 108,
   "metadata": {
    "pycharm": {
     "name": "#%%\n"
    }
   },
   "outputs": [
    {
     "data": {
      "text/plain": "            endTime          artist  \\\n0  2021-01-20 19:34   Billie Eilish   \n1  2021-01-21 00:05      Atif Aslam   \n2  2021-01-21 00:11      Atif Aslam   \n3  2021-01-21 00:15  Akhil Sachdeva   \n4  2021-01-21 00:20    Arijit Singh   \n\n                                          track  duration Language  \n0                                    i love you      3.42       en  \n1                                   Tu Jaane Na      5.70       mr  \n2                                         Aadat      5.56       hi  \n3       Humsafar (From \"Badrinath Ki Dulhania\")      4.47       hi  \n4  Tujhe Kitna Chahne Lage (From \"Kabir Singh\")      4.75       hi  ",
      "text/html": "<div>\n<style scoped>\n    .dataframe tbody tr th:only-of-type {\n        vertical-align: middle;\n    }\n\n    .dataframe tbody tr th {\n        vertical-align: top;\n    }\n\n    .dataframe thead th {\n        text-align: right;\n    }\n</style>\n<table border=\"1\" class=\"dataframe\">\n  <thead>\n    <tr style=\"text-align: right;\">\n      <th></th>\n      <th>endTime</th>\n      <th>artist</th>\n      <th>track</th>\n      <th>duration</th>\n      <th>Language</th>\n    </tr>\n  </thead>\n  <tbody>\n    <tr>\n      <th>0</th>\n      <td>2021-01-20 19:34</td>\n      <td>Billie Eilish</td>\n      <td>i love you</td>\n      <td>3.42</td>\n      <td>en</td>\n    </tr>\n    <tr>\n      <th>1</th>\n      <td>2021-01-21 00:05</td>\n      <td>Atif Aslam</td>\n      <td>Tu Jaane Na</td>\n      <td>5.70</td>\n      <td>mr</td>\n    </tr>\n    <tr>\n      <th>2</th>\n      <td>2021-01-21 00:11</td>\n      <td>Atif Aslam</td>\n      <td>Aadat</td>\n      <td>5.56</td>\n      <td>hi</td>\n    </tr>\n    <tr>\n      <th>3</th>\n      <td>2021-01-21 00:15</td>\n      <td>Akhil Sachdeva</td>\n      <td>Humsafar (From \"Badrinath Ki Dulhania\")</td>\n      <td>4.47</td>\n      <td>hi</td>\n    </tr>\n    <tr>\n      <th>4</th>\n      <td>2021-01-21 00:20</td>\n      <td>Arijit Singh</td>\n      <td>Tujhe Kitna Chahne Lage (From \"Kabir Singh\")</td>\n      <td>4.75</td>\n      <td>hi</td>\n    </tr>\n  </tbody>\n</table>\n</div>"
     },
     "execution_count": 108,
     "metadata": {},
     "output_type": "execute_result"
    }
   ],
   "source": [
    "df.head()"
   ]
  },
  {
   "cell_type": "code",
   "execution_count": 109,
   "outputs": [],
   "source": [
    "df2 = pd.DataFrame(df.groupby(['track']).sum())"
   ],
   "metadata": {
    "collapsed": false,
    "pycharm": {
     "name": "#%%\n"
    }
   }
  },
  {
   "cell_type": "code",
   "execution_count": 110,
   "outputs": [
    {
     "data": {
      "text/plain": "                                              duration\ntrack                                                 \n!I'll Be Back!                                    1.97\n$orries                                          52.71\n(Everything I Do) I Do It For You                 0.22\n(I Can't Get No) Satisfaction - Mono Version      3.71\n(i hope you) miss me                              1.31",
      "text/html": "<div>\n<style scoped>\n    .dataframe tbody tr th:only-of-type {\n        vertical-align: middle;\n    }\n\n    .dataframe tbody tr th {\n        vertical-align: top;\n    }\n\n    .dataframe thead th {\n        text-align: right;\n    }\n</style>\n<table border=\"1\" class=\"dataframe\">\n  <thead>\n    <tr style=\"text-align: right;\">\n      <th></th>\n      <th>duration</th>\n    </tr>\n    <tr>\n      <th>track</th>\n      <th></th>\n    </tr>\n  </thead>\n  <tbody>\n    <tr>\n      <th>!I'll Be Back!</th>\n      <td>1.97</td>\n    </tr>\n    <tr>\n      <th>$orries</th>\n      <td>52.71</td>\n    </tr>\n    <tr>\n      <th>(Everything I Do) I Do It For You</th>\n      <td>0.22</td>\n    </tr>\n    <tr>\n      <th>(I Can't Get No) Satisfaction - Mono Version</th>\n      <td>3.71</td>\n    </tr>\n    <tr>\n      <th>(i hope you) miss me</th>\n      <td>1.31</td>\n    </tr>\n  </tbody>\n</table>\n</div>"
     },
     "execution_count": 110,
     "metadata": {},
     "output_type": "execute_result"
    }
   ],
   "source": [
    "df2.head()"
   ],
   "metadata": {
    "collapsed": false,
    "pycharm": {
     "name": "#%%\n"
    }
   }
  },
  {
   "cell_type": "code",
   "execution_count": 111,
   "outputs": [],
   "source": [
    "df2.to_csv('hello.csv')"
   ],
   "metadata": {
    "collapsed": false,
    "pycharm": {
     "name": "#%%\n"
    }
   }
  },
  {
   "cell_type": "code",
   "execution_count": 112,
   "outputs": [],
   "source": [
    "mergedRes = pd.merge(df, df2, on ='track')"
   ],
   "metadata": {
    "collapsed": false,
    "pycharm": {
     "name": "#%%\n"
    }
   }
  },
  {
   "cell_type": "code",
   "execution_count": 113,
   "outputs": [
    {
     "data": {
      "text/plain": "             endTime         artist       track  duration_x Language  \\\n0   2021-01-20 19:34  Billie Eilish  i love you        3.42       en   \n1   2021-01-21 08:34  Billie Eilish  i love you        4.51       en   \n2   2021-02-13 13:23  Billie Eilish  i love you        0.00       en   \n3   2021-02-28 14:32  Billie Eilish  i love you        3.53       en   \n4   2021-08-09 17:40  Billie Eilish  i love you        4.86       en   \n..               ...            ...         ...         ...      ...   \n95  2021-02-27 11:53         Pritam   Mere Bina        2.69       hi   \n96  2021-03-04 23:00         Pritam   Mere Bina        4.83       hi   \n97  2021-06-06 08:16         Pritam   Mere Bina        2.58       hi   \n98  2021-06-12 21:22         Pritam   Mere Bina        4.49       hi   \n99  2021-06-18 20:40         Pritam   Mere Bina        1.52       hi   \n\n    duration_y  \n0        16.32  \n1        16.32  \n2        16.32  \n3        16.32  \n4        16.32  \n..         ...  \n95       80.17  \n96       80.17  \n97       80.17  \n98       80.17  \n99       80.17  \n\n[100 rows x 6 columns]",
      "text/html": "<div>\n<style scoped>\n    .dataframe tbody tr th:only-of-type {\n        vertical-align: middle;\n    }\n\n    .dataframe tbody tr th {\n        vertical-align: top;\n    }\n\n    .dataframe thead th {\n        text-align: right;\n    }\n</style>\n<table border=\"1\" class=\"dataframe\">\n  <thead>\n    <tr style=\"text-align: right;\">\n      <th></th>\n      <th>endTime</th>\n      <th>artist</th>\n      <th>track</th>\n      <th>duration_x</th>\n      <th>Language</th>\n      <th>duration_y</th>\n    </tr>\n  </thead>\n  <tbody>\n    <tr>\n      <th>0</th>\n      <td>2021-01-20 19:34</td>\n      <td>Billie Eilish</td>\n      <td>i love you</td>\n      <td>3.42</td>\n      <td>en</td>\n      <td>16.32</td>\n    </tr>\n    <tr>\n      <th>1</th>\n      <td>2021-01-21 08:34</td>\n      <td>Billie Eilish</td>\n      <td>i love you</td>\n      <td>4.51</td>\n      <td>en</td>\n      <td>16.32</td>\n    </tr>\n    <tr>\n      <th>2</th>\n      <td>2021-02-13 13:23</td>\n      <td>Billie Eilish</td>\n      <td>i love you</td>\n      <td>0.00</td>\n      <td>en</td>\n      <td>16.32</td>\n    </tr>\n    <tr>\n      <th>3</th>\n      <td>2021-02-28 14:32</td>\n      <td>Billie Eilish</td>\n      <td>i love you</td>\n      <td>3.53</td>\n      <td>en</td>\n      <td>16.32</td>\n    </tr>\n    <tr>\n      <th>4</th>\n      <td>2021-08-09 17:40</td>\n      <td>Billie Eilish</td>\n      <td>i love you</td>\n      <td>4.86</td>\n      <td>en</td>\n      <td>16.32</td>\n    </tr>\n    <tr>\n      <th>...</th>\n      <td>...</td>\n      <td>...</td>\n      <td>...</td>\n      <td>...</td>\n      <td>...</td>\n      <td>...</td>\n    </tr>\n    <tr>\n      <th>95</th>\n      <td>2021-02-27 11:53</td>\n      <td>Pritam</td>\n      <td>Mere Bina</td>\n      <td>2.69</td>\n      <td>hi</td>\n      <td>80.17</td>\n    </tr>\n    <tr>\n      <th>96</th>\n      <td>2021-03-04 23:00</td>\n      <td>Pritam</td>\n      <td>Mere Bina</td>\n      <td>4.83</td>\n      <td>hi</td>\n      <td>80.17</td>\n    </tr>\n    <tr>\n      <th>97</th>\n      <td>2021-06-06 08:16</td>\n      <td>Pritam</td>\n      <td>Mere Bina</td>\n      <td>2.58</td>\n      <td>hi</td>\n      <td>80.17</td>\n    </tr>\n    <tr>\n      <th>98</th>\n      <td>2021-06-12 21:22</td>\n      <td>Pritam</td>\n      <td>Mere Bina</td>\n      <td>4.49</td>\n      <td>hi</td>\n      <td>80.17</td>\n    </tr>\n    <tr>\n      <th>99</th>\n      <td>2021-06-18 20:40</td>\n      <td>Pritam</td>\n      <td>Mere Bina</td>\n      <td>1.52</td>\n      <td>hi</td>\n      <td>80.17</td>\n    </tr>\n  </tbody>\n</table>\n<p>100 rows × 6 columns</p>\n</div>"
     },
     "execution_count": 113,
     "metadata": {},
     "output_type": "execute_result"
    }
   ],
   "source": [
    "mergedRes.head(100)"
   ],
   "metadata": {
    "collapsed": false,
    "pycharm": {
     "name": "#%%\n"
    }
   }
  },
  {
   "cell_type": "code",
   "execution_count": 114,
   "outputs": [],
   "source": [
    "final_df = mergedRes.sort_values('duration_y', ascending=False)"
   ],
   "metadata": {
    "collapsed": false,
    "pycharm": {
     "name": "#%%\n"
    }
   }
  },
  {
   "cell_type": "code",
   "execution_count": 115,
   "outputs": [],
   "source": [
    "final_df = final_df.drop_duplicates('track')\n",
    "final_df = final_df.drop(['duration_x'], axis =1)"
   ],
   "metadata": {
    "collapsed": false,
    "pycharm": {
     "name": "#%%\n"
    }
   }
  },
  {
   "cell_type": "code",
   "execution_count": 116,
   "outputs": [],
   "source": [
    "final_df = final_df.rename(columns = {'duration_y':'duration'})"
   ],
   "metadata": {
    "collapsed": false,
    "pycharm": {
     "name": "#%%\n"
    }
   }
  },
  {
   "cell_type": "code",
   "execution_count": 117,
   "outputs": [
    {
     "data": {
      "text/plain": "6200                                            20/20\n11317                                Calling My Phone\n22909    Dreamcatcher (feat. Swae Lee & Travis Scott)\n3976                    Come and See Me (feat. Drake)\n13788             Car Sick (feat. NAV & Metro Boomin)\n                             ...                     \n22742                                    Do It Myself\n28189                                   Es un Secreto\n25169                                     Soon Enough\n8116                                           Soarin\n20166                                  Risky Business\nName: track, Length: 3198, dtype: object"
     },
     "execution_count": 117,
     "metadata": {},
     "output_type": "execute_result"
    }
   ],
   "source": [
    "final_df['track'].str.replace('\\$','', regex=True).astype(str)"
   ],
   "metadata": {
    "collapsed": false,
    "pycharm": {
     "name": "#%%\n"
    }
   }
  },
  {
   "cell_type": "code",
   "execution_count": 118,
   "outputs": [
    {
     "data": {
      "text/plain": "                endTime         artist  \\\n6200   2021-09-15 08:13       Lil Tjay   \n11317  2021-10-18 17:53       Lil Tjay   \n22909  2022-01-16 00:46   Metro Boomin   \n3976   2021-09-24 11:35  PARTYNEXTDOOR   \n13788  2021-10-16 19:47          Gunna   \n2902   2021-06-18 05:33    Aaron Smith   \n2788   2021-12-11 07:55    Kaash Paige   \n1998   2021-10-21 00:50  Summer Walker   \n4224   2021-03-12 05:49            SZA   \n10623  2021-07-30 13:34  Bryson Tiller   \n10052  2021-10-29 01:53   benny blanco   \n27357  2022-01-19 12:33     Marc Seguí   \n8771   2021-12-27 01:40  PARTYNEXTDOOR   \n14889  2021-11-15 20:23         Khalid   \n17944  2021-10-18 11:10          6LACK   \n2981   2021-04-10 08:39          Powfu   \n2188   2021-04-18 21:31  Glass Animals   \n9353   2021-05-31 08:53  Jeremy Zucker   \n1385   2021-12-31 11:17         Eluzai   \n3785   2021-10-21 11:17          keshi   \n\n                                              track Language  duration  \n6200                                          20/20      und    565.34  \n11317                              Calling My Phone       en    508.69  \n22909  Dreamcatcher (feat. Swae Lee & Travis Scott)       en    441.03  \n3976                  Come and See Me (feat. Drake)       en    380.13  \n13788           Car Sick (feat. NAV & Metro Boomin)       en    335.55  \n2902                           Dancin - Krono Remix       sl    317.60  \n2788                                      Soul Ties       en    313.04  \n1998              My Affection (with PARTYNEXTDOOR)       en    311.04  \n4224               Love Galore (feat. Travis Scott)       en    305.13  \n10623                                      Exchange       en    298.88  \n10052               Eastside (with Halsey & Khalid)       en    298.10  \n27357                               Tiroteo - Remix       en    292.73  \n8771                                    SHOWING YOU       en    291.46  \n14889                                        Better       en    291.14  \n17944                                 ATL Freestyle       en    287.26  \n2981                               Life Is Changing       en    277.54  \n2188                                     Heat Waves       en    276.76  \n9353                                thinking 2 much       en    274.67  \n1385                             call my friends...       en    273.47  \n3785                                         2 soon       en    266.07  ",
      "text/html": "<div>\n<style scoped>\n    .dataframe tbody tr th:only-of-type {\n        vertical-align: middle;\n    }\n\n    .dataframe tbody tr th {\n        vertical-align: top;\n    }\n\n    .dataframe thead th {\n        text-align: right;\n    }\n</style>\n<table border=\"1\" class=\"dataframe\">\n  <thead>\n    <tr style=\"text-align: right;\">\n      <th></th>\n      <th>endTime</th>\n      <th>artist</th>\n      <th>track</th>\n      <th>Language</th>\n      <th>duration</th>\n    </tr>\n  </thead>\n  <tbody>\n    <tr>\n      <th>6200</th>\n      <td>2021-09-15 08:13</td>\n      <td>Lil Tjay</td>\n      <td>20/20</td>\n      <td>und</td>\n      <td>565.34</td>\n    </tr>\n    <tr>\n      <th>11317</th>\n      <td>2021-10-18 17:53</td>\n      <td>Lil Tjay</td>\n      <td>Calling My Phone</td>\n      <td>en</td>\n      <td>508.69</td>\n    </tr>\n    <tr>\n      <th>22909</th>\n      <td>2022-01-16 00:46</td>\n      <td>Metro Boomin</td>\n      <td>Dreamcatcher (feat. Swae Lee &amp; Travis Scott)</td>\n      <td>en</td>\n      <td>441.03</td>\n    </tr>\n    <tr>\n      <th>3976</th>\n      <td>2021-09-24 11:35</td>\n      <td>PARTYNEXTDOOR</td>\n      <td>Come and See Me (feat. Drake)</td>\n      <td>en</td>\n      <td>380.13</td>\n    </tr>\n    <tr>\n      <th>13788</th>\n      <td>2021-10-16 19:47</td>\n      <td>Gunna</td>\n      <td>Car Sick (feat. NAV &amp; Metro Boomin)</td>\n      <td>en</td>\n      <td>335.55</td>\n    </tr>\n    <tr>\n      <th>2902</th>\n      <td>2021-06-18 05:33</td>\n      <td>Aaron Smith</td>\n      <td>Dancin - Krono Remix</td>\n      <td>sl</td>\n      <td>317.60</td>\n    </tr>\n    <tr>\n      <th>2788</th>\n      <td>2021-12-11 07:55</td>\n      <td>Kaash Paige</td>\n      <td>Soul Ties</td>\n      <td>en</td>\n      <td>313.04</td>\n    </tr>\n    <tr>\n      <th>1998</th>\n      <td>2021-10-21 00:50</td>\n      <td>Summer Walker</td>\n      <td>My Affection (with PARTYNEXTDOOR)</td>\n      <td>en</td>\n      <td>311.04</td>\n    </tr>\n    <tr>\n      <th>4224</th>\n      <td>2021-03-12 05:49</td>\n      <td>SZA</td>\n      <td>Love Galore (feat. Travis Scott)</td>\n      <td>en</td>\n      <td>305.13</td>\n    </tr>\n    <tr>\n      <th>10623</th>\n      <td>2021-07-30 13:34</td>\n      <td>Bryson Tiller</td>\n      <td>Exchange</td>\n      <td>en</td>\n      <td>298.88</td>\n    </tr>\n    <tr>\n      <th>10052</th>\n      <td>2021-10-29 01:53</td>\n      <td>benny blanco</td>\n      <td>Eastside (with Halsey &amp; Khalid)</td>\n      <td>en</td>\n      <td>298.10</td>\n    </tr>\n    <tr>\n      <th>27357</th>\n      <td>2022-01-19 12:33</td>\n      <td>Marc Seguí</td>\n      <td>Tiroteo - Remix</td>\n      <td>en</td>\n      <td>292.73</td>\n    </tr>\n    <tr>\n      <th>8771</th>\n      <td>2021-12-27 01:40</td>\n      <td>PARTYNEXTDOOR</td>\n      <td>SHOWING YOU</td>\n      <td>en</td>\n      <td>291.46</td>\n    </tr>\n    <tr>\n      <th>14889</th>\n      <td>2021-11-15 20:23</td>\n      <td>Khalid</td>\n      <td>Better</td>\n      <td>en</td>\n      <td>291.14</td>\n    </tr>\n    <tr>\n      <th>17944</th>\n      <td>2021-10-18 11:10</td>\n      <td>6LACK</td>\n      <td>ATL Freestyle</td>\n      <td>en</td>\n      <td>287.26</td>\n    </tr>\n    <tr>\n      <th>2981</th>\n      <td>2021-04-10 08:39</td>\n      <td>Powfu</td>\n      <td>Life Is Changing</td>\n      <td>en</td>\n      <td>277.54</td>\n    </tr>\n    <tr>\n      <th>2188</th>\n      <td>2021-04-18 21:31</td>\n      <td>Glass Animals</td>\n      <td>Heat Waves</td>\n      <td>en</td>\n      <td>276.76</td>\n    </tr>\n    <tr>\n      <th>9353</th>\n      <td>2021-05-31 08:53</td>\n      <td>Jeremy Zucker</td>\n      <td>thinking 2 much</td>\n      <td>en</td>\n      <td>274.67</td>\n    </tr>\n    <tr>\n      <th>1385</th>\n      <td>2021-12-31 11:17</td>\n      <td>Eluzai</td>\n      <td>call my friends...</td>\n      <td>en</td>\n      <td>273.47</td>\n    </tr>\n    <tr>\n      <th>3785</th>\n      <td>2021-10-21 11:17</td>\n      <td>keshi</td>\n      <td>2 soon</td>\n      <td>en</td>\n      <td>266.07</td>\n    </tr>\n  </tbody>\n</table>\n</div>"
     },
     "execution_count": 118,
     "metadata": {},
     "output_type": "execute_result"
    }
   ],
   "source": [
    "final_df.head(20)"
   ],
   "metadata": {
    "collapsed": false,
    "pycharm": {
     "name": "#%%\n"
    }
   }
  },
  {
   "cell_type": "code",
   "execution_count": 124,
   "outputs": [
    {
     "data": {
      "text/plain": "<AxesSubplot:xlabel='duration', ylabel='track'>"
     },
     "execution_count": 124,
     "metadata": {},
     "output_type": "execute_result"
    },
    {
     "ename": "ValueError",
     "evalue": "\nP*$$Y Fairy (OTW)\n  ^\nExpected end of text, found '$'  (at char 2), (line:1, col:3)",
     "output_type": "error",
     "traceback": [
      "\u001B[1;31m---------------------------------------------------------------------------\u001B[0m",
      "\u001B[1;31mParseException\u001B[0m                            Traceback (most recent call last)",
      "File \u001B[1;32m~\\anaconda3\\envs\\dataSci\\lib\\site-packages\\matplotlib\\_mathtext.py:2237\u001B[0m, in \u001B[0;36mParser.parse\u001B[1;34m(self, s, fonts_object, fontsize, dpi)\u001B[0m\n\u001B[0;32m   2236\u001B[0m \u001B[38;5;28;01mtry\u001B[39;00m:\n\u001B[1;32m-> 2237\u001B[0m     result \u001B[38;5;241m=\u001B[39m \u001B[38;5;28;43mself\u001B[39;49m\u001B[38;5;241;43m.\u001B[39;49m\u001B[43m_expression\u001B[49m\u001B[38;5;241;43m.\u001B[39;49m\u001B[43mparseString\u001B[49m\u001B[43m(\u001B[49m\u001B[43ms\u001B[49m\u001B[43m)\u001B[49m\n\u001B[0;32m   2238\u001B[0m \u001B[38;5;28;01mexcept\u001B[39;00m ParseBaseException \u001B[38;5;28;01mas\u001B[39;00m err:\n",
      "File \u001B[1;32m~\\anaconda3\\envs\\dataSci\\lib\\site-packages\\pyparsing\\core.py:1107\u001B[0m, in \u001B[0;36mParserElement.parse_string\u001B[1;34m(self, instring, parse_all, parseAll)\u001B[0m\n\u001B[0;32m   1105\u001B[0m     \u001B[38;5;28;01melse\u001B[39;00m:\n\u001B[0;32m   1106\u001B[0m         \u001B[38;5;66;03m# catch and re-raise exception from here, clearing out pyparsing internal stack trace\u001B[39;00m\n\u001B[1;32m-> 1107\u001B[0m         \u001B[38;5;28;01mraise\u001B[39;00m exc\u001B[38;5;241m.\u001B[39mwith_traceback(\u001B[38;5;28;01mNone\u001B[39;00m)\n\u001B[0;32m   1108\u001B[0m \u001B[38;5;28;01melse\u001B[39;00m:\n",
      "\u001B[1;31mParseException\u001B[0m: Expected end of text, found '$'  (at char 2), (line:1, col:3)",
      "\nThe above exception was the direct cause of the following exception:\n",
      "\u001B[1;31mValueError\u001B[0m                                Traceback (most recent call last)",
      "File \u001B[1;32m~\\anaconda3\\envs\\dataSci\\lib\\site-packages\\IPython\\core\\formatters.py:339\u001B[0m, in \u001B[0;36mBaseFormatter.__call__\u001B[1;34m(self, obj)\u001B[0m\n\u001B[0;32m    337\u001B[0m     \u001B[38;5;28;01mpass\u001B[39;00m\n\u001B[0;32m    338\u001B[0m \u001B[38;5;28;01melse\u001B[39;00m:\n\u001B[1;32m--> 339\u001B[0m     \u001B[38;5;28;01mreturn\u001B[39;00m \u001B[43mprinter\u001B[49m\u001B[43m(\u001B[49m\u001B[43mobj\u001B[49m\u001B[43m)\u001B[49m\n\u001B[0;32m    340\u001B[0m \u001B[38;5;66;03m# Finally look for special method names\u001B[39;00m\n\u001B[0;32m    341\u001B[0m method \u001B[38;5;241m=\u001B[39m get_real_method(obj, \u001B[38;5;28mself\u001B[39m\u001B[38;5;241m.\u001B[39mprint_method)\n",
      "File \u001B[1;32m~\\anaconda3\\envs\\dataSci\\lib\\site-packages\\IPython\\core\\pylabtools.py:151\u001B[0m, in \u001B[0;36mprint_figure\u001B[1;34m(fig, fmt, bbox_inches, base64, **kwargs)\u001B[0m\n\u001B[0;32m    148\u001B[0m     \u001B[38;5;28;01mfrom\u001B[39;00m \u001B[38;5;21;01mmatplotlib\u001B[39;00m\u001B[38;5;21;01m.\u001B[39;00m\u001B[38;5;21;01mbackend_bases\u001B[39;00m \u001B[38;5;28;01mimport\u001B[39;00m FigureCanvasBase\n\u001B[0;32m    149\u001B[0m     FigureCanvasBase(fig)\n\u001B[1;32m--> 151\u001B[0m fig\u001B[38;5;241m.\u001B[39mcanvas\u001B[38;5;241m.\u001B[39mprint_figure(bytes_io, \u001B[38;5;241m*\u001B[39m\u001B[38;5;241m*\u001B[39mkw)\n\u001B[0;32m    152\u001B[0m data \u001B[38;5;241m=\u001B[39m bytes_io\u001B[38;5;241m.\u001B[39mgetvalue()\n\u001B[0;32m    153\u001B[0m \u001B[38;5;28;01mif\u001B[39;00m fmt \u001B[38;5;241m==\u001B[39m \u001B[38;5;124m'\u001B[39m\u001B[38;5;124msvg\u001B[39m\u001B[38;5;124m'\u001B[39m:\n",
      "File \u001B[1;32m~\\anaconda3\\envs\\dataSci\\lib\\site-packages\\matplotlib\\backend_bases.py:2295\u001B[0m, in \u001B[0;36mFigureCanvasBase.print_figure\u001B[1;34m(self, filename, dpi, facecolor, edgecolor, orientation, format, bbox_inches, pad_inches, bbox_extra_artists, backend, **kwargs)\u001B[0m\n\u001B[0;32m   2289\u001B[0m     renderer \u001B[38;5;241m=\u001B[39m _get_renderer(\n\u001B[0;32m   2290\u001B[0m         \u001B[38;5;28mself\u001B[39m\u001B[38;5;241m.\u001B[39mfigure,\n\u001B[0;32m   2291\u001B[0m         functools\u001B[38;5;241m.\u001B[39mpartial(\n\u001B[0;32m   2292\u001B[0m             print_method, orientation\u001B[38;5;241m=\u001B[39morientation)\n\u001B[0;32m   2293\u001B[0m     )\n\u001B[0;32m   2294\u001B[0m     \u001B[38;5;28;01mwith\u001B[39;00m \u001B[38;5;28mgetattr\u001B[39m(renderer, \u001B[38;5;124m\"\u001B[39m\u001B[38;5;124m_draw_disabled\u001B[39m\u001B[38;5;124m\"\u001B[39m, nullcontext)():\n\u001B[1;32m-> 2295\u001B[0m         \u001B[38;5;28;43mself\u001B[39;49m\u001B[38;5;241;43m.\u001B[39;49m\u001B[43mfigure\u001B[49m\u001B[38;5;241;43m.\u001B[39;49m\u001B[43mdraw\u001B[49m\u001B[43m(\u001B[49m\u001B[43mrenderer\u001B[49m\u001B[43m)\u001B[49m\n\u001B[0;32m   2297\u001B[0m \u001B[38;5;28;01mif\u001B[39;00m bbox_inches:\n\u001B[0;32m   2298\u001B[0m     \u001B[38;5;28;01mif\u001B[39;00m bbox_inches \u001B[38;5;241m==\u001B[39m \u001B[38;5;124m\"\u001B[39m\u001B[38;5;124mtight\u001B[39m\u001B[38;5;124m\"\u001B[39m:\n",
      "File \u001B[1;32m~\\anaconda3\\envs\\dataSci\\lib\\site-packages\\matplotlib\\artist.py:73\u001B[0m, in \u001B[0;36m_finalize_rasterization.<locals>.draw_wrapper\u001B[1;34m(artist, renderer, *args, **kwargs)\u001B[0m\n\u001B[0;32m     71\u001B[0m \u001B[38;5;129m@wraps\u001B[39m(draw)\n\u001B[0;32m     72\u001B[0m \u001B[38;5;28;01mdef\u001B[39;00m \u001B[38;5;21mdraw_wrapper\u001B[39m(artist, renderer, \u001B[38;5;241m*\u001B[39margs, \u001B[38;5;241m*\u001B[39m\u001B[38;5;241m*\u001B[39mkwargs):\n\u001B[1;32m---> 73\u001B[0m     result \u001B[38;5;241m=\u001B[39m draw(artist, renderer, \u001B[38;5;241m*\u001B[39margs, \u001B[38;5;241m*\u001B[39m\u001B[38;5;241m*\u001B[39mkwargs)\n\u001B[0;32m     74\u001B[0m     \u001B[38;5;28;01mif\u001B[39;00m renderer\u001B[38;5;241m.\u001B[39m_rasterizing:\n\u001B[0;32m     75\u001B[0m         renderer\u001B[38;5;241m.\u001B[39mstop_rasterizing()\n",
      "File \u001B[1;32m~\\anaconda3\\envs\\dataSci\\lib\\site-packages\\matplotlib\\artist.py:50\u001B[0m, in \u001B[0;36mallow_rasterization.<locals>.draw_wrapper\u001B[1;34m(artist, renderer)\u001B[0m\n\u001B[0;32m     47\u001B[0m     \u001B[38;5;28;01mif\u001B[39;00m artist\u001B[38;5;241m.\u001B[39mget_agg_filter() \u001B[38;5;129;01mis\u001B[39;00m \u001B[38;5;129;01mnot\u001B[39;00m \u001B[38;5;28;01mNone\u001B[39;00m:\n\u001B[0;32m     48\u001B[0m         renderer\u001B[38;5;241m.\u001B[39mstart_filter()\n\u001B[1;32m---> 50\u001B[0m     \u001B[38;5;28;01mreturn\u001B[39;00m \u001B[43mdraw\u001B[49m\u001B[43m(\u001B[49m\u001B[43martist\u001B[49m\u001B[43m,\u001B[49m\u001B[43m \u001B[49m\u001B[43mrenderer\u001B[49m\u001B[43m)\u001B[49m\n\u001B[0;32m     51\u001B[0m \u001B[38;5;28;01mfinally\u001B[39;00m:\n\u001B[0;32m     52\u001B[0m     \u001B[38;5;28;01mif\u001B[39;00m artist\u001B[38;5;241m.\u001B[39mget_agg_filter() \u001B[38;5;129;01mis\u001B[39;00m \u001B[38;5;129;01mnot\u001B[39;00m \u001B[38;5;28;01mNone\u001B[39;00m:\n",
      "File \u001B[1;32m~\\anaconda3\\envs\\dataSci\\lib\\site-packages\\matplotlib\\figure.py:2810\u001B[0m, in \u001B[0;36mFigure.draw\u001B[1;34m(self, renderer)\u001B[0m\n\u001B[0;32m   2807\u001B[0m         \u001B[38;5;66;03m# ValueError can occur when resizing a window.\u001B[39;00m\n\u001B[0;32m   2809\u001B[0m \u001B[38;5;28mself\u001B[39m\u001B[38;5;241m.\u001B[39mpatch\u001B[38;5;241m.\u001B[39mdraw(renderer)\n\u001B[1;32m-> 2810\u001B[0m \u001B[43mmimage\u001B[49m\u001B[38;5;241;43m.\u001B[39;49m\u001B[43m_draw_list_compositing_images\u001B[49m\u001B[43m(\u001B[49m\n\u001B[0;32m   2811\u001B[0m \u001B[43m    \u001B[49m\u001B[43mrenderer\u001B[49m\u001B[43m,\u001B[49m\u001B[43m \u001B[49m\u001B[38;5;28;43mself\u001B[39;49m\u001B[43m,\u001B[49m\u001B[43m \u001B[49m\u001B[43martists\u001B[49m\u001B[43m,\u001B[49m\u001B[43m \u001B[49m\u001B[38;5;28;43mself\u001B[39;49m\u001B[38;5;241;43m.\u001B[39;49m\u001B[43msuppressComposite\u001B[49m\u001B[43m)\u001B[49m\n\u001B[0;32m   2813\u001B[0m \u001B[38;5;28;01mfor\u001B[39;00m sfig \u001B[38;5;129;01min\u001B[39;00m \u001B[38;5;28mself\u001B[39m\u001B[38;5;241m.\u001B[39msubfigs:\n\u001B[0;32m   2814\u001B[0m     sfig\u001B[38;5;241m.\u001B[39mdraw(renderer)\n",
      "File \u001B[1;32m~\\anaconda3\\envs\\dataSci\\lib\\site-packages\\matplotlib\\image.py:132\u001B[0m, in \u001B[0;36m_draw_list_compositing_images\u001B[1;34m(renderer, parent, artists, suppress_composite)\u001B[0m\n\u001B[0;32m    130\u001B[0m \u001B[38;5;28;01mif\u001B[39;00m not_composite \u001B[38;5;129;01mor\u001B[39;00m \u001B[38;5;129;01mnot\u001B[39;00m has_images:\n\u001B[0;32m    131\u001B[0m     \u001B[38;5;28;01mfor\u001B[39;00m a \u001B[38;5;129;01min\u001B[39;00m artists:\n\u001B[1;32m--> 132\u001B[0m         \u001B[43ma\u001B[49m\u001B[38;5;241;43m.\u001B[39;49m\u001B[43mdraw\u001B[49m\u001B[43m(\u001B[49m\u001B[43mrenderer\u001B[49m\u001B[43m)\u001B[49m\n\u001B[0;32m    133\u001B[0m \u001B[38;5;28;01melse\u001B[39;00m:\n\u001B[0;32m    134\u001B[0m     \u001B[38;5;66;03m# Composite any adjacent images together\u001B[39;00m\n\u001B[0;32m    135\u001B[0m     image_group \u001B[38;5;241m=\u001B[39m []\n",
      "File \u001B[1;32m~\\anaconda3\\envs\\dataSci\\lib\\site-packages\\matplotlib\\artist.py:50\u001B[0m, in \u001B[0;36mallow_rasterization.<locals>.draw_wrapper\u001B[1;34m(artist, renderer)\u001B[0m\n\u001B[0;32m     47\u001B[0m     \u001B[38;5;28;01mif\u001B[39;00m artist\u001B[38;5;241m.\u001B[39mget_agg_filter() \u001B[38;5;129;01mis\u001B[39;00m \u001B[38;5;129;01mnot\u001B[39;00m \u001B[38;5;28;01mNone\u001B[39;00m:\n\u001B[0;32m     48\u001B[0m         renderer\u001B[38;5;241m.\u001B[39mstart_filter()\n\u001B[1;32m---> 50\u001B[0m     \u001B[38;5;28;01mreturn\u001B[39;00m \u001B[43mdraw\u001B[49m\u001B[43m(\u001B[49m\u001B[43martist\u001B[49m\u001B[43m,\u001B[49m\u001B[43m \u001B[49m\u001B[43mrenderer\u001B[49m\u001B[43m)\u001B[49m\n\u001B[0;32m     51\u001B[0m \u001B[38;5;28;01mfinally\u001B[39;00m:\n\u001B[0;32m     52\u001B[0m     \u001B[38;5;28;01mif\u001B[39;00m artist\u001B[38;5;241m.\u001B[39mget_agg_filter() \u001B[38;5;129;01mis\u001B[39;00m \u001B[38;5;129;01mnot\u001B[39;00m \u001B[38;5;28;01mNone\u001B[39;00m:\n",
      "File \u001B[1;32m~\\anaconda3\\envs\\dataSci\\lib\\site-packages\\matplotlib\\axes\\_base.py:3082\u001B[0m, in \u001B[0;36m_AxesBase.draw\u001B[1;34m(self, renderer)\u001B[0m\n\u001B[0;32m   3079\u001B[0m         a\u001B[38;5;241m.\u001B[39mdraw(renderer)\n\u001B[0;32m   3080\u001B[0m     renderer\u001B[38;5;241m.\u001B[39mstop_rasterizing()\n\u001B[1;32m-> 3082\u001B[0m \u001B[43mmimage\u001B[49m\u001B[38;5;241;43m.\u001B[39;49m\u001B[43m_draw_list_compositing_images\u001B[49m\u001B[43m(\u001B[49m\n\u001B[0;32m   3083\u001B[0m \u001B[43m    \u001B[49m\u001B[43mrenderer\u001B[49m\u001B[43m,\u001B[49m\u001B[43m \u001B[49m\u001B[38;5;28;43mself\u001B[39;49m\u001B[43m,\u001B[49m\u001B[43m \u001B[49m\u001B[43martists\u001B[49m\u001B[43m,\u001B[49m\u001B[43m \u001B[49m\u001B[38;5;28;43mself\u001B[39;49m\u001B[38;5;241;43m.\u001B[39;49m\u001B[43mfigure\u001B[49m\u001B[38;5;241;43m.\u001B[39;49m\u001B[43msuppressComposite\u001B[49m\u001B[43m)\u001B[49m\n\u001B[0;32m   3085\u001B[0m renderer\u001B[38;5;241m.\u001B[39mclose_group(\u001B[38;5;124m'\u001B[39m\u001B[38;5;124maxes\u001B[39m\u001B[38;5;124m'\u001B[39m)\n\u001B[0;32m   3086\u001B[0m \u001B[38;5;28mself\u001B[39m\u001B[38;5;241m.\u001B[39mstale \u001B[38;5;241m=\u001B[39m \u001B[38;5;28;01mFalse\u001B[39;00m\n",
      "File \u001B[1;32m~\\anaconda3\\envs\\dataSci\\lib\\site-packages\\matplotlib\\image.py:132\u001B[0m, in \u001B[0;36m_draw_list_compositing_images\u001B[1;34m(renderer, parent, artists, suppress_composite)\u001B[0m\n\u001B[0;32m    130\u001B[0m \u001B[38;5;28;01mif\u001B[39;00m not_composite \u001B[38;5;129;01mor\u001B[39;00m \u001B[38;5;129;01mnot\u001B[39;00m has_images:\n\u001B[0;32m    131\u001B[0m     \u001B[38;5;28;01mfor\u001B[39;00m a \u001B[38;5;129;01min\u001B[39;00m artists:\n\u001B[1;32m--> 132\u001B[0m         \u001B[43ma\u001B[49m\u001B[38;5;241;43m.\u001B[39;49m\u001B[43mdraw\u001B[49m\u001B[43m(\u001B[49m\u001B[43mrenderer\u001B[49m\u001B[43m)\u001B[49m\n\u001B[0;32m    133\u001B[0m \u001B[38;5;28;01melse\u001B[39;00m:\n\u001B[0;32m    134\u001B[0m     \u001B[38;5;66;03m# Composite any adjacent images together\u001B[39;00m\n\u001B[0;32m    135\u001B[0m     image_group \u001B[38;5;241m=\u001B[39m []\n",
      "File \u001B[1;32m~\\anaconda3\\envs\\dataSci\\lib\\site-packages\\matplotlib\\artist.py:50\u001B[0m, in \u001B[0;36mallow_rasterization.<locals>.draw_wrapper\u001B[1;34m(artist, renderer)\u001B[0m\n\u001B[0;32m     47\u001B[0m     \u001B[38;5;28;01mif\u001B[39;00m artist\u001B[38;5;241m.\u001B[39mget_agg_filter() \u001B[38;5;129;01mis\u001B[39;00m \u001B[38;5;129;01mnot\u001B[39;00m \u001B[38;5;28;01mNone\u001B[39;00m:\n\u001B[0;32m     48\u001B[0m         renderer\u001B[38;5;241m.\u001B[39mstart_filter()\n\u001B[1;32m---> 50\u001B[0m     \u001B[38;5;28;01mreturn\u001B[39;00m \u001B[43mdraw\u001B[49m\u001B[43m(\u001B[49m\u001B[43martist\u001B[49m\u001B[43m,\u001B[49m\u001B[43m \u001B[49m\u001B[43mrenderer\u001B[49m\u001B[43m)\u001B[49m\n\u001B[0;32m     51\u001B[0m \u001B[38;5;28;01mfinally\u001B[39;00m:\n\u001B[0;32m     52\u001B[0m     \u001B[38;5;28;01mif\u001B[39;00m artist\u001B[38;5;241m.\u001B[39mget_agg_filter() \u001B[38;5;129;01mis\u001B[39;00m \u001B[38;5;129;01mnot\u001B[39;00m \u001B[38;5;28;01mNone\u001B[39;00m:\n",
      "File \u001B[1;32m~\\anaconda3\\envs\\dataSci\\lib\\site-packages\\matplotlib\\axis.py:1159\u001B[0m, in \u001B[0;36mAxis.draw\u001B[1;34m(self, renderer, *args, **kwargs)\u001B[0m\n\u001B[0;32m   1156\u001B[0m renderer\u001B[38;5;241m.\u001B[39mopen_group(\u001B[38;5;18m__name__\u001B[39m, gid\u001B[38;5;241m=\u001B[39m\u001B[38;5;28mself\u001B[39m\u001B[38;5;241m.\u001B[39mget_gid())\n\u001B[0;32m   1158\u001B[0m ticks_to_draw \u001B[38;5;241m=\u001B[39m \u001B[38;5;28mself\u001B[39m\u001B[38;5;241m.\u001B[39m_update_ticks()\n\u001B[1;32m-> 1159\u001B[0m ticklabelBoxes, ticklabelBoxes2 \u001B[38;5;241m=\u001B[39m \u001B[38;5;28;43mself\u001B[39;49m\u001B[38;5;241;43m.\u001B[39;49m\u001B[43m_get_tick_bboxes\u001B[49m\u001B[43m(\u001B[49m\u001B[43mticks_to_draw\u001B[49m\u001B[43m,\u001B[49m\n\u001B[0;32m   1160\u001B[0m \u001B[43m                                                        \u001B[49m\u001B[43mrenderer\u001B[49m\u001B[43m)\u001B[49m\n\u001B[0;32m   1162\u001B[0m \u001B[38;5;28;01mfor\u001B[39;00m tick \u001B[38;5;129;01min\u001B[39;00m ticks_to_draw:\n\u001B[0;32m   1163\u001B[0m     tick\u001B[38;5;241m.\u001B[39mdraw(renderer)\n",
      "File \u001B[1;32m~\\anaconda3\\envs\\dataSci\\lib\\site-packages\\matplotlib\\axis.py:1085\u001B[0m, in \u001B[0;36mAxis._get_tick_bboxes\u001B[1;34m(self, ticks, renderer)\u001B[0m\n\u001B[0;32m   1083\u001B[0m \u001B[38;5;28;01mdef\u001B[39;00m \u001B[38;5;21m_get_tick_bboxes\u001B[39m(\u001B[38;5;28mself\u001B[39m, ticks, renderer):\n\u001B[0;32m   1084\u001B[0m     \u001B[38;5;124;03m\"\"\"Return lists of bboxes for ticks' label1's and label2's.\"\"\"\u001B[39;00m\n\u001B[1;32m-> 1085\u001B[0m     \u001B[38;5;28;01mreturn\u001B[39;00m ([tick\u001B[38;5;241m.\u001B[39mlabel1\u001B[38;5;241m.\u001B[39mget_window_extent(renderer)\n\u001B[0;32m   1086\u001B[0m              \u001B[38;5;28;01mfor\u001B[39;00m tick \u001B[38;5;129;01min\u001B[39;00m ticks \u001B[38;5;28;01mif\u001B[39;00m tick\u001B[38;5;241m.\u001B[39mlabel1\u001B[38;5;241m.\u001B[39mget_visible()],\n\u001B[0;32m   1087\u001B[0m             [tick\u001B[38;5;241m.\u001B[39mlabel2\u001B[38;5;241m.\u001B[39mget_window_extent(renderer)\n\u001B[0;32m   1088\u001B[0m              \u001B[38;5;28;01mfor\u001B[39;00m tick \u001B[38;5;129;01min\u001B[39;00m ticks \u001B[38;5;28;01mif\u001B[39;00m tick\u001B[38;5;241m.\u001B[39mlabel2\u001B[38;5;241m.\u001B[39mget_visible()])\n",
      "File \u001B[1;32m~\\anaconda3\\envs\\dataSci\\lib\\site-packages\\matplotlib\\axis.py:1085\u001B[0m, in \u001B[0;36m<listcomp>\u001B[1;34m(.0)\u001B[0m\n\u001B[0;32m   1083\u001B[0m \u001B[38;5;28;01mdef\u001B[39;00m \u001B[38;5;21m_get_tick_bboxes\u001B[39m(\u001B[38;5;28mself\u001B[39m, ticks, renderer):\n\u001B[0;32m   1084\u001B[0m     \u001B[38;5;124;03m\"\"\"Return lists of bboxes for ticks' label1's and label2's.\"\"\"\u001B[39;00m\n\u001B[1;32m-> 1085\u001B[0m     \u001B[38;5;28;01mreturn\u001B[39;00m ([\u001B[43mtick\u001B[49m\u001B[38;5;241;43m.\u001B[39;49m\u001B[43mlabel1\u001B[49m\u001B[38;5;241;43m.\u001B[39;49m\u001B[43mget_window_extent\u001B[49m\u001B[43m(\u001B[49m\u001B[43mrenderer\u001B[49m\u001B[43m)\u001B[49m\n\u001B[0;32m   1086\u001B[0m              \u001B[38;5;28;01mfor\u001B[39;00m tick \u001B[38;5;129;01min\u001B[39;00m ticks \u001B[38;5;28;01mif\u001B[39;00m tick\u001B[38;5;241m.\u001B[39mlabel1\u001B[38;5;241m.\u001B[39mget_visible()],\n\u001B[0;32m   1087\u001B[0m             [tick\u001B[38;5;241m.\u001B[39mlabel2\u001B[38;5;241m.\u001B[39mget_window_extent(renderer)\n\u001B[0;32m   1088\u001B[0m              \u001B[38;5;28;01mfor\u001B[39;00m tick \u001B[38;5;129;01min\u001B[39;00m ticks \u001B[38;5;28;01mif\u001B[39;00m tick\u001B[38;5;241m.\u001B[39mlabel2\u001B[38;5;241m.\u001B[39mget_visible()])\n",
      "File \u001B[1;32m~\\anaconda3\\envs\\dataSci\\lib\\site-packages\\matplotlib\\text.py:910\u001B[0m, in \u001B[0;36mText.get_window_extent\u001B[1;34m(self, renderer, dpi)\u001B[0m\n\u001B[0;32m    907\u001B[0m     \u001B[38;5;28;01mraise\u001B[39;00m \u001B[38;5;167;01mRuntimeError\u001B[39;00m(\u001B[38;5;124m'\u001B[39m\u001B[38;5;124mCannot get window extent w/o renderer\u001B[39m\u001B[38;5;124m'\u001B[39m)\n\u001B[0;32m    909\u001B[0m \u001B[38;5;28;01mwith\u001B[39;00m cbook\u001B[38;5;241m.\u001B[39m_setattr_cm(\u001B[38;5;28mself\u001B[39m\u001B[38;5;241m.\u001B[39mfigure, dpi\u001B[38;5;241m=\u001B[39mdpi):\n\u001B[1;32m--> 910\u001B[0m     bbox, info, descent \u001B[38;5;241m=\u001B[39m \u001B[38;5;28;43mself\u001B[39;49m\u001B[38;5;241;43m.\u001B[39;49m\u001B[43m_get_layout\u001B[49m\u001B[43m(\u001B[49m\u001B[38;5;28;43mself\u001B[39;49m\u001B[38;5;241;43m.\u001B[39;49m\u001B[43m_renderer\u001B[49m\u001B[43m)\u001B[49m\n\u001B[0;32m    911\u001B[0m     x, y \u001B[38;5;241m=\u001B[39m \u001B[38;5;28mself\u001B[39m\u001B[38;5;241m.\u001B[39mget_unitless_position()\n\u001B[0;32m    912\u001B[0m     x, y \u001B[38;5;241m=\u001B[39m \u001B[38;5;28mself\u001B[39m\u001B[38;5;241m.\u001B[39mget_transform()\u001B[38;5;241m.\u001B[39mtransform((x, y))\n",
      "File \u001B[1;32m~\\anaconda3\\envs\\dataSci\\lib\\site-packages\\matplotlib\\text.py:317\u001B[0m, in \u001B[0;36mText._get_layout\u001B[1;34m(self, renderer)\u001B[0m\n\u001B[0;32m    315\u001B[0m clean_line, ismath \u001B[38;5;241m=\u001B[39m \u001B[38;5;28mself\u001B[39m\u001B[38;5;241m.\u001B[39m_preprocess_math(line)\n\u001B[0;32m    316\u001B[0m \u001B[38;5;28;01mif\u001B[39;00m clean_line:\n\u001B[1;32m--> 317\u001B[0m     w, h, d \u001B[38;5;241m=\u001B[39m \u001B[43mrenderer\u001B[49m\u001B[38;5;241;43m.\u001B[39;49m\u001B[43mget_text_width_height_descent\u001B[49m\u001B[43m(\u001B[49m\n\u001B[0;32m    318\u001B[0m \u001B[43m        \u001B[49m\u001B[43mclean_line\u001B[49m\u001B[43m,\u001B[49m\u001B[43m \u001B[49m\u001B[38;5;28;43mself\u001B[39;49m\u001B[38;5;241;43m.\u001B[39;49m\u001B[43m_fontproperties\u001B[49m\u001B[43m,\u001B[49m\u001B[43m \u001B[49m\u001B[43mismath\u001B[49m\u001B[38;5;241;43m=\u001B[39;49m\u001B[43mismath\u001B[49m\u001B[43m)\u001B[49m\n\u001B[0;32m    319\u001B[0m \u001B[38;5;28;01melse\u001B[39;00m:\n\u001B[0;32m    320\u001B[0m     w \u001B[38;5;241m=\u001B[39m h \u001B[38;5;241m=\u001B[39m d \u001B[38;5;241m=\u001B[39m \u001B[38;5;241m0\u001B[39m\n",
      "File \u001B[1;32m~\\anaconda3\\envs\\dataSci\\lib\\site-packages\\matplotlib\\backends\\backend_agg.py:265\u001B[0m, in \u001B[0;36mRendererAgg.get_text_width_height_descent\u001B[1;34m(self, s, prop, ismath)\u001B[0m\n\u001B[0;32m    261\u001B[0m     \u001B[38;5;28;01mreturn\u001B[39;00m w, h, d\n\u001B[0;32m    263\u001B[0m \u001B[38;5;28;01mif\u001B[39;00m ismath:\n\u001B[0;32m    264\u001B[0m     ox, oy, width, height, descent, fonts, used_characters \u001B[38;5;241m=\u001B[39m \\\n\u001B[1;32m--> 265\u001B[0m         \u001B[38;5;28;43mself\u001B[39;49m\u001B[38;5;241;43m.\u001B[39;49m\u001B[43mmathtext_parser\u001B[49m\u001B[38;5;241;43m.\u001B[39;49m\u001B[43mparse\u001B[49m\u001B[43m(\u001B[49m\u001B[43ms\u001B[49m\u001B[43m,\u001B[49m\u001B[43m \u001B[49m\u001B[38;5;28;43mself\u001B[39;49m\u001B[38;5;241;43m.\u001B[39;49m\u001B[43mdpi\u001B[49m\u001B[43m,\u001B[49m\u001B[43m \u001B[49m\u001B[43mprop\u001B[49m\u001B[43m)\u001B[49m\n\u001B[0;32m    266\u001B[0m     \u001B[38;5;28;01mreturn\u001B[39;00m width, height, descent\n\u001B[0;32m    268\u001B[0m flags \u001B[38;5;241m=\u001B[39m get_hinting_flag()\n",
      "File \u001B[1;32m~\\anaconda3\\envs\\dataSci\\lib\\site-packages\\matplotlib\\mathtext.py:435\u001B[0m, in \u001B[0;36mMathTextParser.parse\u001B[1;34m(self, s, dpi, prop, _force_standard_ps_fonts)\u001B[0m\n\u001B[0;32m    420\u001B[0m     _api\u001B[38;5;241m.\u001B[39mwarn_deprecated(\n\u001B[0;32m    421\u001B[0m         \u001B[38;5;124m\"\u001B[39m\u001B[38;5;124m3.4\u001B[39m\u001B[38;5;124m\"\u001B[39m,\n\u001B[0;32m    422\u001B[0m         removal\u001B[38;5;241m=\u001B[39m\u001B[38;5;124m\"\u001B[39m\u001B[38;5;124m3.5\u001B[39m\u001B[38;5;124m\"\u001B[39m,\n\u001B[1;32m   (...)\u001B[0m\n\u001B[0;32m    429\u001B[0m         )\n\u001B[0;32m    430\u001B[0m     )\n\u001B[0;32m    432\u001B[0m \u001B[38;5;66;03m# lru_cache can't decorate parse() directly because the ps.useafm and\u001B[39;00m\n\u001B[0;32m    433\u001B[0m \u001B[38;5;66;03m# mathtext.fontset rcParams also affect the parse (e.g. by affecting\u001B[39;00m\n\u001B[0;32m    434\u001B[0m \u001B[38;5;66;03m# the glyph metrics).\u001B[39;00m\n\u001B[1;32m--> 435\u001B[0m \u001B[38;5;28;01mreturn\u001B[39;00m \u001B[38;5;28;43mself\u001B[39;49m\u001B[38;5;241;43m.\u001B[39;49m\u001B[43m_parse_cached\u001B[49m\u001B[43m(\u001B[49m\u001B[43ms\u001B[49m\u001B[43m,\u001B[49m\u001B[43m \u001B[49m\u001B[43mdpi\u001B[49m\u001B[43m,\u001B[49m\u001B[43m \u001B[49m\u001B[43mprop\u001B[49m\u001B[43m,\u001B[49m\u001B[43m \u001B[49m\u001B[43m_force_standard_ps_fonts\u001B[49m\u001B[43m)\u001B[49m\n",
      "File \u001B[1;32m~\\anaconda3\\envs\\dataSci\\lib\\site-packages\\matplotlib\\mathtext.py:456\u001B[0m, in \u001B[0;36mMathTextParser._parse_cached\u001B[1;34m(self, s, dpi, prop, force_standard_ps_fonts)\u001B[0m\n\u001B[0;32m    453\u001B[0m \u001B[38;5;28;01mif\u001B[39;00m \u001B[38;5;28mself\u001B[39m\u001B[38;5;241m.\u001B[39m_parser \u001B[38;5;129;01mis\u001B[39;00m \u001B[38;5;28;01mNone\u001B[39;00m:\n\u001B[0;32m    454\u001B[0m     \u001B[38;5;28mself\u001B[39m\u001B[38;5;241m.\u001B[39m\u001B[38;5;18m__class__\u001B[39m\u001B[38;5;241m.\u001B[39m_parser \u001B[38;5;241m=\u001B[39m _mathtext\u001B[38;5;241m.\u001B[39mParser()\n\u001B[1;32m--> 456\u001B[0m box \u001B[38;5;241m=\u001B[39m \u001B[38;5;28;43mself\u001B[39;49m\u001B[38;5;241;43m.\u001B[39;49m\u001B[43m_parser\u001B[49m\u001B[38;5;241;43m.\u001B[39;49m\u001B[43mparse\u001B[49m\u001B[43m(\u001B[49m\u001B[43ms\u001B[49m\u001B[43m,\u001B[49m\u001B[43m \u001B[49m\u001B[43mfont_output\u001B[49m\u001B[43m,\u001B[49m\u001B[43m \u001B[49m\u001B[43mfontsize\u001B[49m\u001B[43m,\u001B[49m\u001B[43m \u001B[49m\u001B[43mdpi\u001B[49m\u001B[43m)\u001B[49m\n\u001B[0;32m    457\u001B[0m font_output\u001B[38;5;241m.\u001B[39mset_canvas_size(box\u001B[38;5;241m.\u001B[39mwidth, box\u001B[38;5;241m.\u001B[39mheight, box\u001B[38;5;241m.\u001B[39mdepth)\n\u001B[0;32m    458\u001B[0m \u001B[38;5;28;01mreturn\u001B[39;00m font_output\u001B[38;5;241m.\u001B[39mget_results(box)\n",
      "File \u001B[1;32m~\\anaconda3\\envs\\dataSci\\lib\\site-packages\\matplotlib\\_mathtext.py:2239\u001B[0m, in \u001B[0;36mParser.parse\u001B[1;34m(self, s, fonts_object, fontsize, dpi)\u001B[0m\n\u001B[0;32m   2237\u001B[0m     result \u001B[38;5;241m=\u001B[39m \u001B[38;5;28mself\u001B[39m\u001B[38;5;241m.\u001B[39m_expression\u001B[38;5;241m.\u001B[39mparseString(s)\n\u001B[0;32m   2238\u001B[0m \u001B[38;5;28;01mexcept\u001B[39;00m ParseBaseException \u001B[38;5;28;01mas\u001B[39;00m err:\n\u001B[1;32m-> 2239\u001B[0m     \u001B[38;5;28;01mraise\u001B[39;00m \u001B[38;5;167;01mValueError\u001B[39;00m(\u001B[38;5;124m\"\u001B[39m\u001B[38;5;130;01m\\n\u001B[39;00m\u001B[38;5;124m\"\u001B[39m\u001B[38;5;241m.\u001B[39mjoin([\u001B[38;5;124m\"\u001B[39m\u001B[38;5;124m\"\u001B[39m,\n\u001B[0;32m   2240\u001B[0m                                 err\u001B[38;5;241m.\u001B[39mline,\n\u001B[0;32m   2241\u001B[0m                                 \u001B[38;5;124m\"\u001B[39m\u001B[38;5;124m \u001B[39m\u001B[38;5;124m\"\u001B[39m \u001B[38;5;241m*\u001B[39m (err\u001B[38;5;241m.\u001B[39mcolumn \u001B[38;5;241m-\u001B[39m \u001B[38;5;241m1\u001B[39m) \u001B[38;5;241m+\u001B[39m \u001B[38;5;124m\"\u001B[39m\u001B[38;5;124m^\u001B[39m\u001B[38;5;124m\"\u001B[39m,\n\u001B[0;32m   2242\u001B[0m                                 \u001B[38;5;28mstr\u001B[39m(err)])) \u001B[38;5;28;01mfrom\u001B[39;00m \u001B[38;5;21;01merr\u001B[39;00m\n\u001B[0;32m   2243\u001B[0m \u001B[38;5;28mself\u001B[39m\u001B[38;5;241m.\u001B[39m_state_stack \u001B[38;5;241m=\u001B[39m \u001B[38;5;28;01mNone\u001B[39;00m\n\u001B[0;32m   2244\u001B[0m \u001B[38;5;28mself\u001B[39m\u001B[38;5;241m.\u001B[39m_em_width_cache \u001B[38;5;241m=\u001B[39m {}\n",
      "\u001B[1;31mValueError\u001B[0m: \nP*$$Y Fairy (OTW)\n  ^\nExpected end of text, found '$'  (at char 2), (line:1, col:3)"
     ]
    },
    {
     "data": {
      "text/plain": "<Figure size 432x288 with 1 Axes>"
     },
     "metadata": {
      "needs_background": "light"
     },
     "output_type": "display_data"
    }
   ],
   "source": [
    "sns.barplot(data=final_df, x='duration', y='track')"
   ],
   "metadata": {
    "collapsed": false,
    "pycharm": {
     "name": "#%%\n"
    }
   }
  }
 ],
 "metadata": {
  "kernelspec": {
   "display_name": "Python 3.10.0 ('dataSci')",
   "language": "python",
   "name": "python3"
  },
  "language_info": {
   "codemirror_mode": {
    "name": "ipython",
    "version": 3
   },
   "file_extension": ".py",
   "mimetype": "text/x-python",
   "name": "python",
   "nbconvert_exporter": "python",
   "pygments_lexer": "ipython3",
   "version": "3.10.0"
  },
  "orig_nbformat": 4,
  "vscode": {
   "interpreter": {
    "hash": "7acad10c90d0830569aa5e16e1db80068540a62def00df14baaf46831ea3f98e"
   }
  }
 },
 "nbformat": 4,
 "nbformat_minor": 2
}