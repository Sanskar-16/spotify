{
 "cells": [
  {
   "cell_type": "code",
   "execution_count": 1,
   "metadata": {},
   "outputs": [],
   "source": [
    "import pandas as pd"
   ]
  },
  {
   "cell_type": "code",
   "execution_count": 4,
   "metadata": {},
   "outputs": [],
   "source": [
    "df = pd.read_csv(\"combined-data/spotify-data.csv\")"
   ]
  },
  {
   "cell_type": "code",
   "execution_count": 5,
   "metadata": {},
   "outputs": [
    {
     "data": {
      "text/html": [
       "<div>\n",
       "<style scoped>\n",
       "    .dataframe tbody tr th:only-of-type {\n",
       "        vertical-align: middle;\n",
       "    }\n",
       "\n",
       "    .dataframe tbody tr th {\n",
       "        vertical-align: top;\n",
       "    }\n",
       "\n",
       "    .dataframe thead th {\n",
       "        text-align: right;\n",
       "    }\n",
       "</style>\n",
       "<table border=\"1\" class=\"dataframe\">\n",
       "  <thead>\n",
       "    <tr style=\"text-align: right;\">\n",
       "      <th></th>\n",
       "      <th>endTime</th>\n",
       "      <th>artistName</th>\n",
       "      <th>trackName</th>\n",
       "      <th>msPlayed</th>\n",
       "      <th>Language</th>\n",
       "    </tr>\n",
       "  </thead>\n",
       "  <tbody>\n",
       "    <tr>\n",
       "      <th>0</th>\n",
       "      <td>2021-01-20 19:34</td>\n",
       "      <td>Billie Eilish</td>\n",
       "      <td>i love you</td>\n",
       "      <td>205230</td>\n",
       "      <td>en</td>\n",
       "    </tr>\n",
       "    <tr>\n",
       "      <th>1</th>\n",
       "      <td>2021-01-21 00:05</td>\n",
       "      <td>Atif Aslam</td>\n",
       "      <td>Tu Jaane Na</td>\n",
       "      <td>341933</td>\n",
       "      <td>mr</td>\n",
       "    </tr>\n",
       "    <tr>\n",
       "      <th>2</th>\n",
       "      <td>2021-01-21 00:11</td>\n",
       "      <td>Atif Aslam</td>\n",
       "      <td>Aadat</td>\n",
       "      <td>333740</td>\n",
       "      <td>hi</td>\n",
       "    </tr>\n",
       "    <tr>\n",
       "      <th>3</th>\n",
       "      <td>2021-01-21 00:15</td>\n",
       "      <td>Akhil Sachdeva</td>\n",
       "      <td>Humsafar (From \"Badrinath Ki Dulhania\")</td>\n",
       "      <td>268463</td>\n",
       "      <td>hi</td>\n",
       "    </tr>\n",
       "    <tr>\n",
       "      <th>4</th>\n",
       "      <td>2021-01-21 00:20</td>\n",
       "      <td>Arijit Singh</td>\n",
       "      <td>Tujhe Kitna Chahne Lage (From \"Kabir Singh\")</td>\n",
       "      <td>284779</td>\n",
       "      <td>hi</td>\n",
       "    </tr>\n",
       "  </tbody>\n",
       "</table>\n",
       "</div>"
      ],
      "text/plain": [
       "            endTime      artistName  \\\n",
       "0  2021-01-20 19:34   Billie Eilish   \n",
       "1  2021-01-21 00:05      Atif Aslam   \n",
       "2  2021-01-21 00:11      Atif Aslam   \n",
       "3  2021-01-21 00:15  Akhil Sachdeva   \n",
       "4  2021-01-21 00:20    Arijit Singh   \n",
       "\n",
       "                                      trackName  msPlayed Language  \n",
       "0                                    i love you    205230       en  \n",
       "1                                   Tu Jaane Na    341933       mr  \n",
       "2                                         Aadat    333740       hi  \n",
       "3       Humsafar (From \"Badrinath Ki Dulhania\")    268463       hi  \n",
       "4  Tujhe Kitna Chahne Lage (From \"Kabir Singh\")    284779       hi  "
      ]
     },
     "execution_count": 5,
     "metadata": {},
     "output_type": "execute_result"
    }
   ],
   "source": [
    "df.head()"
   ]
  },
  {
   "cell_type": "code",
   "execution_count": 6,
   "metadata": {},
   "outputs": [],
   "source": [
    "df = df.rename(columns={'artistName':'artist', 'trackName':'track', 'msPlayed':'duration'})"
   ]
  },
  {
   "cell_type": "code",
   "execution_count": 13,
   "metadata": {},
   "outputs": [],
   "source": [
    "df['duration'] = df['duration']/60000"
   ]
  },
  {
   "cell_type": "code",
   "execution_count": 14,
   "metadata": {},
   "outputs": [
    {
     "data": {
      "text/html": [
       "<div>\n",
       "<style scoped>\n",
       "    .dataframe tbody tr th:only-of-type {\n",
       "        vertical-align: middle;\n",
       "    }\n",
       "\n",
       "    .dataframe tbody tr th {\n",
       "        vertical-align: top;\n",
       "    }\n",
       "\n",
       "    .dataframe thead th {\n",
       "        text-align: right;\n",
       "    }\n",
       "</style>\n",
       "<table border=\"1\" class=\"dataframe\">\n",
       "  <thead>\n",
       "    <tr style=\"text-align: right;\">\n",
       "      <th></th>\n",
       "      <th>endTime</th>\n",
       "      <th>artist</th>\n",
       "      <th>track</th>\n",
       "      <th>duration</th>\n",
       "      <th>Language</th>\n",
       "    </tr>\n",
       "  </thead>\n",
       "  <tbody>\n",
       "    <tr>\n",
       "      <th>0</th>\n",
       "      <td>2021-01-20 19:34</td>\n",
       "      <td>Billie Eilish</td>\n",
       "      <td>i love you</td>\n",
       "      <td>3.420500</td>\n",
       "      <td>en</td>\n",
       "    </tr>\n",
       "    <tr>\n",
       "      <th>1</th>\n",
       "      <td>2021-01-21 00:05</td>\n",
       "      <td>Atif Aslam</td>\n",
       "      <td>Tu Jaane Na</td>\n",
       "      <td>5.698883</td>\n",
       "      <td>mr</td>\n",
       "    </tr>\n",
       "    <tr>\n",
       "      <th>2</th>\n",
       "      <td>2021-01-21 00:11</td>\n",
       "      <td>Atif Aslam</td>\n",
       "      <td>Aadat</td>\n",
       "      <td>5.562333</td>\n",
       "      <td>hi</td>\n",
       "    </tr>\n",
       "    <tr>\n",
       "      <th>3</th>\n",
       "      <td>2021-01-21 00:15</td>\n",
       "      <td>Akhil Sachdeva</td>\n",
       "      <td>Humsafar (From \"Badrinath Ki Dulhania\")</td>\n",
       "      <td>4.474383</td>\n",
       "      <td>hi</td>\n",
       "    </tr>\n",
       "    <tr>\n",
       "      <th>4</th>\n",
       "      <td>2021-01-21 00:20</td>\n",
       "      <td>Arijit Singh</td>\n",
       "      <td>Tujhe Kitna Chahne Lage (From \"Kabir Singh\")</td>\n",
       "      <td>4.746317</td>\n",
       "      <td>hi</td>\n",
       "    </tr>\n",
       "  </tbody>\n",
       "</table>\n",
       "</div>"
      ],
      "text/plain": [
       "            endTime          artist  \\\n",
       "0  2021-01-20 19:34   Billie Eilish   \n",
       "1  2021-01-21 00:05      Atif Aslam   \n",
       "2  2021-01-21 00:11      Atif Aslam   \n",
       "3  2021-01-21 00:15  Akhil Sachdeva   \n",
       "4  2021-01-21 00:20    Arijit Singh   \n",
       "\n",
       "                                          track  duration Language  \n",
       "0                                    i love you  3.420500       en  \n",
       "1                                   Tu Jaane Na  5.698883       mr  \n",
       "2                                         Aadat  5.562333       hi  \n",
       "3       Humsafar (From \"Badrinath Ki Dulhania\")  4.474383       hi  \n",
       "4  Tujhe Kitna Chahne Lage (From \"Kabir Singh\")  4.746317       hi  "
      ]
     },
     "execution_count": 14,
     "metadata": {},
     "output_type": "execute_result"
    }
   ],
   "source": [
    "df.head()"
   ]
  }
 ],
 "metadata": {
  "kernelspec": {
   "display_name": "Python 3.10.0 ('dataSci')",
   "language": "python",
   "name": "python3"
  },
  "language_info": {
   "codemirror_mode": {
    "name": "ipython",
    "version": 3
   },
   "file_extension": ".py",
   "mimetype": "text/x-python",
   "name": "python",
   "nbconvert_exporter": "python",
   "pygments_lexer": "ipython3",
   "version": "3.10.0"
  },
  "orig_nbformat": 4,
  "vscode": {
   "interpreter": {
    "hash": "7acad10c90d0830569aa5e16e1db80068540a62def00df14baaf46831ea3f98e"
   }
  }
 },
 "nbformat": 4,
 "nbformat_minor": 2
}
