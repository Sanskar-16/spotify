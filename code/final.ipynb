{
 "cells": [
  {
   "cell_type": "code",
   "execution_count": 2,
   "metadata": {
    "collapsed": true
   },
   "outputs": [],
   "source": [
    "import pandas as pd\n",
    "import seaborn as sns\n",
    "from matplotlib import pyplot as plt"
   ]
  },
  {
   "cell_type": "code",
   "execution_count": 3,
   "metadata": {
    "collapsed": false,
    "pycharm": {
     "name": "#%%\n"
    }
   },
   "outputs": [],
   "source": [
    "temp = pd.read_csv('C:/Users/sansk/Desktop/github/spotify/combined-csv/edited-spotify-data.csv')"
   ]
  },
  {
   "cell_type": "code",
   "execution_count": 4,
   "metadata": {
    "collapsed": false,
    "pycharm": {
     "name": "#%%\n"
    }
   },
   "outputs": [
    {
     "data": {
      "text/html": [
       "<div>\n",
       "<style scoped>\n",
       "    .dataframe tbody tr th:only-of-type {\n",
       "        vertical-align: middle;\n",
       "    }\n",
       "\n",
       "    .dataframe tbody tr th {\n",
       "        vertical-align: top;\n",
       "    }\n",
       "\n",
       "    .dataframe thead th {\n",
       "        text-align: right;\n",
       "    }\n",
       "</style>\n",
       "<table border=\"1\" class=\"dataframe\">\n",
       "  <thead>\n",
       "    <tr style=\"text-align: right;\">\n",
       "      <th></th>\n",
       "      <th>endTime</th>\n",
       "      <th>artist</th>\n",
       "      <th>track</th>\n",
       "      <th>time</th>\n",
       "    </tr>\n",
       "  </thead>\n",
       "  <tbody>\n",
       "    <tr>\n",
       "      <th>0</th>\n",
       "      <td>21/06/2021 17:55</td>\n",
       "      <td>dontaskalex</td>\n",
       "      <td>Heaven</td>\n",
       "      <td>1.631583</td>\n",
       "    </tr>\n",
       "    <tr>\n",
       "      <th>1</th>\n",
       "      <td>22/06/2021 07:38</td>\n",
       "      <td>Offset</td>\n",
       "      <td>Ric Flair Drip (with Metro Boomin)</td>\n",
       "      <td>0.016383</td>\n",
       "    </tr>\n",
       "    <tr>\n",
       "      <th>2</th>\n",
       "      <td>22/06/2021 07:38</td>\n",
       "      <td>DJ Khaled</td>\n",
       "      <td>POPSTAR (feat. Drake)</td>\n",
       "      <td>0.010733</td>\n",
       "    </tr>\n",
       "    <tr>\n",
       "      <th>3</th>\n",
       "      <td>22/06/2021 07:38</td>\n",
       "      <td>Pop Smoke</td>\n",
       "      <td>Dior</td>\n",
       "      <td>0.047467</td>\n",
       "    </tr>\n",
       "    <tr>\n",
       "      <th>4</th>\n",
       "      <td>22/06/2021 07:38</td>\n",
       "      <td>Drake</td>\n",
       "      <td>Chicago Freestyle (feat. Giveon)</td>\n",
       "      <td>0.083667</td>\n",
       "    </tr>\n",
       "  </tbody>\n",
       "</table>\n",
       "</div>"
      ],
      "text/plain": [
       "            endTime       artist                               track      time\n",
       "0  21/06/2021 17:55  dontaskalex                              Heaven  1.631583\n",
       "1  22/06/2021 07:38       Offset  Ric Flair Drip (with Metro Boomin)  0.016383\n",
       "2  22/06/2021 07:38    DJ Khaled               POPSTAR (feat. Drake)  0.010733\n",
       "3  22/06/2021 07:38    Pop Smoke                                Dior  0.047467\n",
       "4  22/06/2021 07:38        Drake    Chicago Freestyle (feat. Giveon)  0.083667"
      ]
     },
     "execution_count": 4,
     "metadata": {},
     "output_type": "execute_result"
    }
   ],
   "source": [
    "temp.head()"
   ]
  },
  {
   "cell_type": "code",
   "execution_count": 5,
   "metadata": {
    "collapsed": false,
    "pycharm": {
     "name": "#%%\n"
    }
   },
   "outputs": [],
   "source": [
    "temp['time'] = round(temp['time'], 3)"
   ]
  },
  {
   "cell_type": "code",
   "execution_count": 6,
   "metadata": {
    "collapsed": false,
    "pycharm": {
     "name": "#%%\n"
    }
   },
   "outputs": [],
   "source": [
    "temp2 = pd.DataFrame(temp.groupby(['track', 'artist']).sum())"
   ]
  },
  {
   "cell_type": "code",
   "execution_count": 7,
   "metadata": {
    "collapsed": false,
    "pycharm": {
     "name": "#%%\n"
    }
   },
   "outputs": [
    {
     "data": {
      "text/html": [
       "<div>\n",
       "<style scoped>\n",
       "    .dataframe tbody tr th:only-of-type {\n",
       "        vertical-align: middle;\n",
       "    }\n",
       "\n",
       "    .dataframe tbody tr th {\n",
       "        vertical-align: top;\n",
       "    }\n",
       "\n",
       "    .dataframe thead th {\n",
       "        text-align: right;\n",
       "    }\n",
       "</style>\n",
       "<table border=\"1\" class=\"dataframe\">\n",
       "  <thead>\n",
       "    <tr style=\"text-align: right;\">\n",
       "      <th></th>\n",
       "      <th></th>\n",
       "      <th>time</th>\n",
       "    </tr>\n",
       "    <tr>\n",
       "      <th>track</th>\n",
       "      <th>artist</th>\n",
       "      <th></th>\n",
       "    </tr>\n",
       "  </thead>\n",
       "  <tbody>\n",
       "    <tr>\n",
       "      <th>!!!!!!!</th>\n",
       "      <th>Billie Eilish</th>\n",
       "      <td>0.000</td>\n",
       "    </tr>\n",
       "    <tr>\n",
       "      <th>!I'll Be Back!</th>\n",
       "      <th>Rilès</th>\n",
       "      <td>1.966</td>\n",
       "    </tr>\n",
       "    <tr>\n",
       "      <th>'Till I Collapse</th>\n",
       "      <th>Eminem</th>\n",
       "      <td>5.951</td>\n",
       "    </tr>\n",
       "    <tr>\n",
       "      <th>(Everything I Do) I Do It For You</th>\n",
       "      <th>Bryan Adams</th>\n",
       "      <td>6.743</td>\n",
       "    </tr>\n",
       "    <tr>\n",
       "      <th>(I Can't Get No) Satisfaction - Mono Version</th>\n",
       "      <th>The Rolling Stones</th>\n",
       "      <td>3.714</td>\n",
       "    </tr>\n",
       "  </tbody>\n",
       "</table>\n",
       "</div>"
      ],
      "text/plain": [
       "                                                                  time\n",
       "track                                        artist                   \n",
       "!!!!!!!                                      Billie Eilish       0.000\n",
       "!I'll Be Back!                               Rilès               1.966\n",
       "'Till I Collapse                             Eminem              5.951\n",
       "(Everything I Do) I Do It For You            Bryan Adams         6.743\n",
       "(I Can't Get No) Satisfaction - Mono Version The Rolling Stones  3.714"
      ]
     },
     "execution_count": 7,
     "metadata": {},
     "output_type": "execute_result"
    }
   ],
   "source": [
    "temp2.head()"
   ]
  },
  {
   "cell_type": "code",
   "execution_count": 8,
   "metadata": {
    "collapsed": false,
    "pycharm": {
     "name": "#%%\n"
    }
   },
   "outputs": [],
   "source": [
    "mergedRes = pd.merge(temp, temp2, on =('track', 'artist'))"
   ]
  },
  {
   "cell_type": "code",
   "execution_count": 9,
   "metadata": {
    "collapsed": false,
    "pycharm": {
     "name": "#%%\n"
    }
   },
   "outputs": [
    {
     "data": {
      "text/html": [
       "<div>\n",
       "<style scoped>\n",
       "    .dataframe tbody tr th:only-of-type {\n",
       "        vertical-align: middle;\n",
       "    }\n",
       "\n",
       "    .dataframe tbody tr th {\n",
       "        vertical-align: top;\n",
       "    }\n",
       "\n",
       "    .dataframe thead th {\n",
       "        text-align: right;\n",
       "    }\n",
       "</style>\n",
       "<table border=\"1\" class=\"dataframe\">\n",
       "  <thead>\n",
       "    <tr style=\"text-align: right;\">\n",
       "      <th></th>\n",
       "      <th>endTime</th>\n",
       "      <th>artist</th>\n",
       "      <th>track</th>\n",
       "      <th>time_x</th>\n",
       "      <th>time_y</th>\n",
       "    </tr>\n",
       "  </thead>\n",
       "  <tbody>\n",
       "    <tr>\n",
       "      <th>0</th>\n",
       "      <td>21/06/2021 17:55</td>\n",
       "      <td>dontaskalex</td>\n",
       "      <td>Heaven</td>\n",
       "      <td>1.632</td>\n",
       "      <td>81.639</td>\n",
       "    </tr>\n",
       "    <tr>\n",
       "      <th>1</th>\n",
       "      <td>24/06/2021 07:48</td>\n",
       "      <td>dontaskalex</td>\n",
       "      <td>Heaven</td>\n",
       "      <td>1.662</td>\n",
       "      <td>81.639</td>\n",
       "    </tr>\n",
       "    <tr>\n",
       "      <th>2</th>\n",
       "      <td>30/06/2021 18:54</td>\n",
       "      <td>dontaskalex</td>\n",
       "      <td>Heaven</td>\n",
       "      <td>1.920</td>\n",
       "      <td>81.639</td>\n",
       "    </tr>\n",
       "    <tr>\n",
       "      <th>3</th>\n",
       "      <td>05/07/2021 18:00</td>\n",
       "      <td>dontaskalex</td>\n",
       "      <td>Heaven</td>\n",
       "      <td>1.920</td>\n",
       "      <td>81.639</td>\n",
       "    </tr>\n",
       "    <tr>\n",
       "      <th>4</th>\n",
       "      <td>31/08/2021 12:47</td>\n",
       "      <td>dontaskalex</td>\n",
       "      <td>Heaven</td>\n",
       "      <td>1.920</td>\n",
       "      <td>81.639</td>\n",
       "    </tr>\n",
       "  </tbody>\n",
       "</table>\n",
       "</div>"
      ],
      "text/plain": [
       "            endTime       artist   track  time_x  time_y\n",
       "0  21/06/2021 17:55  dontaskalex  Heaven   1.632  81.639\n",
       "1  24/06/2021 07:48  dontaskalex  Heaven   1.662  81.639\n",
       "2  30/06/2021 18:54  dontaskalex  Heaven   1.920  81.639\n",
       "3  05/07/2021 18:00  dontaskalex  Heaven   1.920  81.639\n",
       "4  31/08/2021 12:47  dontaskalex  Heaven   1.920  81.639"
      ]
     },
     "execution_count": 9,
     "metadata": {},
     "output_type": "execute_result"
    }
   ],
   "source": [
    "mergedRes.head()"
   ]
  },
  {
   "cell_type": "code",
   "execution_count": 10,
   "metadata": {
    "collapsed": false,
    "pycharm": {
     "name": "#%%\n"
    }
   },
   "outputs": [],
   "source": [
    "final_df = mergedRes.sort_values('time_y', ascending=False)"
   ]
  },
  {
   "cell_type": "code",
   "execution_count": 11,
   "metadata": {
    "collapsed": false,
    "pycharm": {
     "name": "#%%\n"
    }
   },
   "outputs": [],
   "source": [
    "final_df = final_df.drop_duplicates('track')\n",
    "final_df = final_df.drop(['time_x'], axis =1)"
   ]
  },
  {
   "cell_type": "code",
   "execution_count": 12,
   "metadata": {
    "collapsed": false,
    "pycharm": {
     "name": "#%%\n"
    }
   },
   "outputs": [],
   "source": [
    "final_df = final_df.rename(columns = {'time_y':'time'})"
   ]
  },
  {
   "cell_type": "code",
   "execution_count": 13,
   "metadata": {
    "collapsed": false,
    "pycharm": {
     "name": "#%%\n"
    }
   },
   "outputs": [
    {
     "data": {
      "text/plain": [
       "(3562, 4)"
      ]
     },
     "execution_count": 13,
     "metadata": {},
     "output_type": "execute_result"
    }
   ],
   "source": [
    "final_df.shape"
   ]
  },
  {
   "cell_type": "code",
   "execution_count": 14,
   "metadata": {
    "collapsed": false,
    "pycharm": {
     "name": "#%%\n"
    }
   },
   "outputs": [
    {
     "data": {
      "text/html": [
       "<div>\n",
       "<style scoped>\n",
       "    .dataframe tbody tr th:only-of-type {\n",
       "        vertical-align: middle;\n",
       "    }\n",
       "\n",
       "    .dataframe tbody tr th {\n",
       "        vertical-align: top;\n",
       "    }\n",
       "\n",
       "    .dataframe thead th {\n",
       "        text-align: right;\n",
       "    }\n",
       "</style>\n",
       "<table border=\"1\" class=\"dataframe\">\n",
       "  <thead>\n",
       "    <tr style=\"text-align: right;\">\n",
       "      <th></th>\n",
       "      <th>endTime</th>\n",
       "      <th>artist</th>\n",
       "      <th>track</th>\n",
       "      <th>time</th>\n",
       "    </tr>\n",
       "  </thead>\n",
       "  <tbody>\n",
       "    <tr>\n",
       "      <th>28281</th>\n",
       "      <td>21/06/2022 12:57</td>\n",
       "      <td>Neanderthal</td>\n",
       "      <td>White Lies</td>\n",
       "      <td>930.462</td>\n",
       "    </tr>\n",
       "    <tr>\n",
       "      <th>8133</th>\n",
       "      <td>02/06/2022 14:37</td>\n",
       "      <td>Metro Boomin</td>\n",
       "      <td>Dreamcatcher (feat. Swae Lee &amp; Travis Scott)</td>\n",
       "      <td>689.912</td>\n",
       "    </tr>\n",
       "    <tr>\n",
       "      <th>10019</th>\n",
       "      <td>22/05/2022 04:37</td>\n",
       "      <td>Khalid</td>\n",
       "      <td>Better</td>\n",
       "      <td>680.091</td>\n",
       "    </tr>\n",
       "    <tr>\n",
       "      <th>14448</th>\n",
       "      <td>07/09/2021 11:37</td>\n",
       "      <td>Lil Tjay</td>\n",
       "      <td>20/20</td>\n",
       "      <td>585.679</td>\n",
       "    </tr>\n",
       "    <tr>\n",
       "      <th>3128</th>\n",
       "      <td>17/06/2022 13:08</td>\n",
       "      <td>PARTYNEXTDOOR</td>\n",
       "      <td>Come and See Me (feat. Drake)</td>\n",
       "      <td>565.210</td>\n",
       "    </tr>\n",
       "    <tr>\n",
       "      <th>10572</th>\n",
       "      <td>25/01/2022 22:48</td>\n",
       "      <td>Lil Tjay</td>\n",
       "      <td>Calling My Phone</td>\n",
       "      <td>540.495</td>\n",
       "    </tr>\n",
       "    <tr>\n",
       "      <th>27452</th>\n",
       "      <td>18/10/2021 10:53</td>\n",
       "      <td>Neanderthal</td>\n",
       "      <td>Get Out of My Head</td>\n",
       "      <td>526.758</td>\n",
       "    </tr>\n",
       "    <tr>\n",
       "      <th>30377</th>\n",
       "      <td>11/05/2022 11:34</td>\n",
       "      <td>T78</td>\n",
       "      <td>The Antidote</td>\n",
       "      <td>484.690</td>\n",
       "    </tr>\n",
       "    <tr>\n",
       "      <th>35920</th>\n",
       "      <td>22/05/2022 04:35</td>\n",
       "      <td>Marc Seguí</td>\n",
       "      <td>Tiroteo - Remix</td>\n",
       "      <td>466.454</td>\n",
       "    </tr>\n",
       "    <tr>\n",
       "      <th>11426</th>\n",
       "      <td>13/04/2022 17:57</td>\n",
       "      <td>6LACK</td>\n",
       "      <td>ATL Freestyle</td>\n",
       "      <td>408.107</td>\n",
       "    </tr>\n",
       "    <tr>\n",
       "      <th>4726</th>\n",
       "      <td>26/02/2022 11:50</td>\n",
       "      <td>Aaron Smith</td>\n",
       "      <td>Dancin - Krono Remix</td>\n",
       "      <td>402.962</td>\n",
       "    </tr>\n",
       "    <tr>\n",
       "      <th>20792</th>\n",
       "      <td>16/11/2021 16:05</td>\n",
       "      <td>Powfu</td>\n",
       "      <td>Life Is Changing</td>\n",
       "      <td>399.268</td>\n",
       "    </tr>\n",
       "    <tr>\n",
       "      <th>5445</th>\n",
       "      <td>30/05/2022 10:43</td>\n",
       "      <td>PARTYNEXTDOOR</td>\n",
       "      <td>SHOWING YOU</td>\n",
       "      <td>384.293</td>\n",
       "    </tr>\n",
       "    <tr>\n",
       "      <th>3851</th>\n",
       "      <td>31/07/2021 17:00</td>\n",
       "      <td>Gunna</td>\n",
       "      <td>Car Sick (feat. NAV &amp; Metro Boomin)</td>\n",
       "      <td>381.374</td>\n",
       "    </tr>\n",
       "    <tr>\n",
       "      <th>18951</th>\n",
       "      <td>16/02/2022 14:14</td>\n",
       "      <td>Izzamuzzic</td>\n",
       "      <td>Adventure - Original Mix</td>\n",
       "      <td>374.960</td>\n",
       "    </tr>\n",
       "    <tr>\n",
       "      <th>13768</th>\n",
       "      <td>21/10/2021 13:13</td>\n",
       "      <td>Metro Boomin</td>\n",
       "      <td>No More (feat. Travis Scott, Kodak Black &amp; 21 ...</td>\n",
       "      <td>374.293</td>\n",
       "    </tr>\n",
       "    <tr>\n",
       "      <th>28930</th>\n",
       "      <td>29/12/2021 21:44</td>\n",
       "      <td>Verzache</td>\n",
       "      <td>Some Things</td>\n",
       "      <td>373.422</td>\n",
       "    </tr>\n",
       "    <tr>\n",
       "      <th>5450</th>\n",
       "      <td>23/06/2021 17:45</td>\n",
       "      <td>Eluzai</td>\n",
       "      <td>call my friends...</td>\n",
       "      <td>371.614</td>\n",
       "    </tr>\n",
       "    <tr>\n",
       "      <th>16920</th>\n",
       "      <td>29/04/2022 19:17</td>\n",
       "      <td>The Weeknd</td>\n",
       "      <td>Wasted Times</td>\n",
       "      <td>371.014</td>\n",
       "    </tr>\n",
       "    <tr>\n",
       "      <th>9571</th>\n",
       "      <td>13/02/2022 16:28</td>\n",
       "      <td>Drake</td>\n",
       "      <td>Laugh Now Cry Later (feat. Lil Durk)</td>\n",
       "      <td>369.416</td>\n",
       "    </tr>\n",
       "  </tbody>\n",
       "</table>\n",
       "</div>"
      ],
      "text/plain": [
       "                endTime         artist  \\\n",
       "28281  21/06/2022 12:57    Neanderthal   \n",
       "8133   02/06/2022 14:37   Metro Boomin   \n",
       "10019  22/05/2022 04:37         Khalid   \n",
       "14448  07/09/2021 11:37       Lil Tjay   \n",
       "3128   17/06/2022 13:08  PARTYNEXTDOOR   \n",
       "10572  25/01/2022 22:48       Lil Tjay   \n",
       "27452  18/10/2021 10:53    Neanderthal   \n",
       "30377  11/05/2022 11:34            T78   \n",
       "35920  22/05/2022 04:35     Marc Seguí   \n",
       "11426  13/04/2022 17:57          6LACK   \n",
       "4726   26/02/2022 11:50    Aaron Smith   \n",
       "20792  16/11/2021 16:05          Powfu   \n",
       "5445   30/05/2022 10:43  PARTYNEXTDOOR   \n",
       "3851   31/07/2021 17:00          Gunna   \n",
       "18951  16/02/2022 14:14     Izzamuzzic   \n",
       "13768  21/10/2021 13:13   Metro Boomin   \n",
       "28930  29/12/2021 21:44       Verzache   \n",
       "5450   23/06/2021 17:45         Eluzai   \n",
       "16920  29/04/2022 19:17     The Weeknd   \n",
       "9571   13/02/2022 16:28          Drake   \n",
       "\n",
       "                                                   track     time  \n",
       "28281                                         White Lies  930.462  \n",
       "8133        Dreamcatcher (feat. Swae Lee & Travis Scott)  689.912  \n",
       "10019                                             Better  680.091  \n",
       "14448                                              20/20  585.679  \n",
       "3128                       Come and See Me (feat. Drake)  565.210  \n",
       "10572                                   Calling My Phone  540.495  \n",
       "27452                                 Get Out of My Head  526.758  \n",
       "30377                                       The Antidote  484.690  \n",
       "35920                                    Tiroteo - Remix  466.454  \n",
       "11426                                      ATL Freestyle  408.107  \n",
       "4726                                Dancin - Krono Remix  402.962  \n",
       "20792                                   Life Is Changing  399.268  \n",
       "5445                                         SHOWING YOU  384.293  \n",
       "3851                 Car Sick (feat. NAV & Metro Boomin)  381.374  \n",
       "18951                           Adventure - Original Mix  374.960  \n",
       "13768  No More (feat. Travis Scott, Kodak Black & 21 ...  374.293  \n",
       "28930                                        Some Things  373.422  \n",
       "5450                                  call my friends...  371.614  \n",
       "16920                                       Wasted Times  371.014  \n",
       "9571                Laugh Now Cry Later (feat. Lil Durk)  369.416  "
      ]
     },
     "execution_count": 14,
     "metadata": {},
     "output_type": "execute_result"
    }
   ],
   "source": [
    "final_df.head(20)"
   ]
  },
  {
   "cell_type": "code",
   "execution_count": 27,
   "metadata": {
    "collapsed": false,
    "pycharm": {
     "name": "#%%\n"
    }
   },
   "outputs": [
    {
     "data": {
      "text/plain": "(50.0, 0.0)"
     },
     "execution_count": 27,
     "metadata": {},
     "output_type": "execute_result"
    },
    {
     "data": {
      "text/plain": "<Figure size 864x720 with 1 Axes>",
      "image/png": "[encoded data removed]"
     },
     "metadata": {
      "needs_background": "light"
     },
     "output_type": "display_data"
    }
   ],
   "source": [
    "plt.figure(figsize=(12, 10))\n",
    "sns.barplot(data=final_df, x='time', y='track', palette= 'crest')\n",
    "sns.despine(left=True, bottom=True)\n",
    "plt.ylim(50, 0)"
   ]
  }
 ],
 "metadata": {
  "kernelspec": {
   "display_name": "Python 3.10.0 ('dataSci')",
   "language": "python",
   "name": "python3"
  },
  "language_info": {
   "codemirror_mode": {
    "name": "ipython",
    "version": 3
   },
   "file_extension": ".py",
   "mimetype": "text/x-python",
   "name": "python",
   "nbconvert_exporter": "python",
   "pygments_lexer": "ipython3",
   "version": "3.10.0"
  },
  "vscode": {
   "interpreter": {
    "hash": "7acad10c90d0830569aa5e16e1db80068540a62def00df14baaf46831ea3f98e"
   }
  }
 },
 "nbformat": 4,
 "nbformat_minor": 0
}