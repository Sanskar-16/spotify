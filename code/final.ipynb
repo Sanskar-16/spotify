{
 "cells": [
  {
   "cell_type": "code",
   "execution_count": 43,
   "metadata": {
    "collapsed": true
   },
   "outputs": [],
   "source": [
    "import pandas as pd\n",
    "import seaborn as sns\n",
    "from matplotlib import pyplot as plt"
   ]
  },
  {
   "cell_type": "code",
   "execution_count": 44,
   "metadata": {
    "collapsed": false,
    "pycharm": {
     "name": "#%%\n"
    }
   },
   "outputs": [],
   "source": [
    "temp = pd.read_csv('C:/Users/sansk/Desktop/github/spotify/combined-csv/edited-spotify-data.csv')"
   ]
  },
  {
   "cell_type": "code",
   "execution_count": 45,
   "metadata": {
    "collapsed": false,
    "pycharm": {
     "name": "#%%\n"
    }
   },
   "outputs": [
    {
     "data": {
      "text/html": [
       "<div>\n",
       "<style scoped>\n",
       "    .dataframe tbody tr th:only-of-type {\n",
       "        vertical-align: middle;\n",
       "    }\n",
       "\n",
       "    .dataframe tbody tr th {\n",
       "        vertical-align: top;\n",
       "    }\n",
       "\n",
       "    .dataframe thead th {\n",
       "        text-align: right;\n",
       "    }\n",
       "</style>\n",
       "<table border=\"1\" class=\"dataframe\">\n",
       "  <thead>\n",
       "    <tr style=\"text-align: right;\">\n",
       "      <th></th>\n",
       "      <th>endTime</th>\n",
       "      <th>artist</th>\n",
       "      <th>track</th>\n",
       "      <th>time</th>\n",
       "    </tr>\n",
       "  </thead>\n",
       "  <tbody>\n",
       "    <tr>\n",
       "      <th>0</th>\n",
       "      <td>21/06/2021 17:55</td>\n",
       "      <td>dontaskalex</td>\n",
       "      <td>Heaven</td>\n",
       "      <td>1.631583</td>\n",
       "    </tr>\n",
       "    <tr>\n",
       "      <th>1</th>\n",
       "      <td>22/06/2021 07:38</td>\n",
       "      <td>Offset</td>\n",
       "      <td>Ric Flair Drip (with Metro Boomin)</td>\n",
       "      <td>0.016383</td>\n",
       "    </tr>\n",
       "    <tr>\n",
       "      <th>2</th>\n",
       "      <td>22/06/2021 07:38</td>\n",
       "      <td>DJ Khaled</td>\n",
       "      <td>POPSTAR (feat. Drake)</td>\n",
       "      <td>0.010733</td>\n",
       "    </tr>\n",
       "    <tr>\n",
       "      <th>3</th>\n",
       "      <td>22/06/2021 07:38</td>\n",
       "      <td>Pop Smoke</td>\n",
       "      <td>Dior</td>\n",
       "      <td>0.047467</td>\n",
       "    </tr>\n",
       "    <tr>\n",
       "      <th>4</th>\n",
       "      <td>22/06/2021 07:38</td>\n",
       "      <td>Drake</td>\n",
       "      <td>Chicago Freestyle (feat. Giveon)</td>\n",
       "      <td>0.083667</td>\n",
       "    </tr>\n",
       "  </tbody>\n",
       "</table>\n",
       "</div>"
      ],
      "text/plain": [
       "            endTime       artist                               track      time\n",
       "0  21/06/2021 17:55  dontaskalex                              Heaven  1.631583\n",
       "1  22/06/2021 07:38       Offset  Ric Flair Drip (with Metro Boomin)  0.016383\n",
       "2  22/06/2021 07:38    DJ Khaled               POPSTAR (feat. Drake)  0.010733\n",
       "3  22/06/2021 07:38    Pop Smoke                                Dior  0.047467\n",
       "4  22/06/2021 07:38        Drake    Chicago Freestyle (feat. Giveon)  0.083667"
      ]
     },
     "execution_count": 45,
     "metadata": {},
     "output_type": "execute_result"
    }
   ],
   "source": [
    "temp.head()"
   ]
  },
  {
   "cell_type": "code",
   "execution_count": 46,
   "metadata": {
    "collapsed": false,
    "pycharm": {
     "name": "#%%\n"
    }
   },
   "outputs": [],
   "source": [
    "temp['time'] = round(temp['time'], 3)"
   ]
  },
  {
   "cell_type": "code",
   "execution_count": 47,
   "metadata": {
    "collapsed": false,
    "pycharm": {
     "name": "#%%\n"
    }
   },
   "outputs": [],
   "source": [
    "temp2 = pd.DataFrame(temp.groupby(['track']).sum())"
   ]
  },
  {
   "cell_type": "code",
   "execution_count": 48,
   "metadata": {},
   "outputs": [],
   "source": [
    "temp3 = pd.DataFrame(temp.groupby(['artist']).sum())"
   ]
  },
  {
   "cell_type": "code",
   "execution_count": 49,
   "metadata": {
    "collapsed": false,
    "pycharm": {
     "name": "#%%\n"
    }
   },
   "outputs": [
    {
     "data": {
      "text/html": [
       "<div>\n",
       "<style scoped>\n",
       "    .dataframe tbody tr th:only-of-type {\n",
       "        vertical-align: middle;\n",
       "    }\n",
       "\n",
       "    .dataframe tbody tr th {\n",
       "        vertical-align: top;\n",
       "    }\n",
       "\n",
       "    .dataframe thead th {\n",
       "        text-align: right;\n",
       "    }\n",
       "</style>\n",
       "<table border=\"1\" class=\"dataframe\">\n",
       "  <thead>\n",
       "    <tr style=\"text-align: right;\">\n",
       "      <th></th>\n",
       "      <th>time</th>\n",
       "    </tr>\n",
       "    <tr>\n",
       "      <th>track</th>\n",
       "      <th></th>\n",
       "    </tr>\n",
       "  </thead>\n",
       "  <tbody>\n",
       "    <tr>\n",
       "      <th>!!!!!!!</th>\n",
       "      <td>0.000</td>\n",
       "    </tr>\n",
       "    <tr>\n",
       "      <th>!I'll Be Back!</th>\n",
       "      <td>1.966</td>\n",
       "    </tr>\n",
       "    <tr>\n",
       "      <th>'Till I Collapse</th>\n",
       "      <td>5.951</td>\n",
       "    </tr>\n",
       "    <tr>\n",
       "      <th>(Everything I Do) I Do It For You</th>\n",
       "      <td>6.743</td>\n",
       "    </tr>\n",
       "    <tr>\n",
       "      <th>(I Can't Get No) Satisfaction - Mono Version</th>\n",
       "      <td>3.714</td>\n",
       "    </tr>\n",
       "  </tbody>\n",
       "</table>\n",
       "</div>"
      ],
      "text/plain": [
       "                                               time\n",
       "track                                              \n",
       "!!!!!!!                                       0.000\n",
       "!I'll Be Back!                                1.966\n",
       "'Till I Collapse                              5.951\n",
       "(Everything I Do) I Do It For You             6.743\n",
       "(I Can't Get No) Satisfaction - Mono Version  3.714"
      ]
     },
     "execution_count": 49,
     "metadata": {},
     "output_type": "execute_result"
    }
   ],
   "source": [
    "temp2.head()"
   ]
  },
  {
   "cell_type": "code",
   "execution_count": 50,
   "metadata": {},
   "outputs": [
    {
     "data": {
      "text/html": [
       "<div>\n",
       "<style scoped>\n",
       "    .dataframe tbody tr th:only-of-type {\n",
       "        vertical-align: middle;\n",
       "    }\n",
       "\n",
       "    .dataframe tbody tr th {\n",
       "        vertical-align: top;\n",
       "    }\n",
       "\n",
       "    .dataframe thead th {\n",
       "        text-align: right;\n",
       "    }\n",
       "</style>\n",
       "<table border=\"1\" class=\"dataframe\">\n",
       "  <thead>\n",
       "    <tr style=\"text-align: right;\">\n",
       "      <th></th>\n",
       "      <th>time</th>\n",
       "    </tr>\n",
       "    <tr>\n",
       "      <th>artist</th>\n",
       "      <th></th>\n",
       "    </tr>\n",
       "  </thead>\n",
       "  <tbody>\n",
       "    <tr>\n",
       "      <th>&amp;ME</th>\n",
       "      <td>0.152</td>\n",
       "    </tr>\n",
       "    <tr>\n",
       "      <th>16yrold</th>\n",
       "      <td>5.305</td>\n",
       "    </tr>\n",
       "    <tr>\n",
       "      <th>2 Chainz</th>\n",
       "      <td>22.374</td>\n",
       "    </tr>\n",
       "    <tr>\n",
       "      <th>21 Savage</th>\n",
       "      <td>548.752</td>\n",
       "    </tr>\n",
       "    <tr>\n",
       "      <th>24kGoldn</th>\n",
       "      <td>10.012</td>\n",
       "    </tr>\n",
       "  </tbody>\n",
       "</table>\n",
       "</div>"
      ],
      "text/plain": [
       "              time\n",
       "artist            \n",
       "&ME          0.152\n",
       "16yrold      5.305\n",
       "2 Chainz    22.374\n",
       "21 Savage  548.752\n",
       "24kGoldn    10.012"
      ]
     },
     "execution_count": 50,
     "metadata": {},
     "output_type": "execute_result"
    }
   ],
   "source": [
    "temp3.head()"
   ]
  },
  {
   "cell_type": "code",
   "execution_count": 51,
   "metadata": {
    "collapsed": false,
    "pycharm": {
     "name": "#%%\n"
    }
   },
   "outputs": [],
   "source": [
    "mergedRes = pd.merge(temp, temp2, on =('track'))"
   ]
  },
  {
   "cell_type": "code",
   "execution_count": 52,
   "metadata": {},
   "outputs": [],
   "source": [
    "mergedRes2 = pd.merge(temp, temp3, on =('artist'))"
   ]
  },
  {
   "cell_type": "code",
   "execution_count": 53,
   "metadata": {
    "collapsed": false,
    "pycharm": {
     "name": "#%%\n"
    }
   },
   "outputs": [
    {
     "data": {
      "text/html": [
       "<div>\n",
       "<style scoped>\n",
       "    .dataframe tbody tr th:only-of-type {\n",
       "        vertical-align: middle;\n",
       "    }\n",
       "\n",
       "    .dataframe tbody tr th {\n",
       "        vertical-align: top;\n",
       "    }\n",
       "\n",
       "    .dataframe thead th {\n",
       "        text-align: right;\n",
       "    }\n",
       "</style>\n",
       "<table border=\"1\" class=\"dataframe\">\n",
       "  <thead>\n",
       "    <tr style=\"text-align: right;\">\n",
       "      <th></th>\n",
       "      <th>endTime</th>\n",
       "      <th>artist</th>\n",
       "      <th>track</th>\n",
       "      <th>time_x</th>\n",
       "      <th>time_y</th>\n",
       "    </tr>\n",
       "  </thead>\n",
       "  <tbody>\n",
       "    <tr>\n",
       "      <th>0</th>\n",
       "      <td>21/06/2021 17:55</td>\n",
       "      <td>dontaskalex</td>\n",
       "      <td>Heaven</td>\n",
       "      <td>1.632</td>\n",
       "      <td>81.639</td>\n",
       "    </tr>\n",
       "    <tr>\n",
       "      <th>1</th>\n",
       "      <td>24/06/2021 07:48</td>\n",
       "      <td>dontaskalex</td>\n",
       "      <td>Heaven</td>\n",
       "      <td>1.662</td>\n",
       "      <td>81.639</td>\n",
       "    </tr>\n",
       "    <tr>\n",
       "      <th>2</th>\n",
       "      <td>30/06/2021 18:54</td>\n",
       "      <td>dontaskalex</td>\n",
       "      <td>Heaven</td>\n",
       "      <td>1.920</td>\n",
       "      <td>81.639</td>\n",
       "    </tr>\n",
       "    <tr>\n",
       "      <th>3</th>\n",
       "      <td>05/07/2021 18:00</td>\n",
       "      <td>dontaskalex</td>\n",
       "      <td>Heaven</td>\n",
       "      <td>1.920</td>\n",
       "      <td>81.639</td>\n",
       "    </tr>\n",
       "    <tr>\n",
       "      <th>4</th>\n",
       "      <td>31/08/2021 12:47</td>\n",
       "      <td>dontaskalex</td>\n",
       "      <td>Heaven</td>\n",
       "      <td>1.920</td>\n",
       "      <td>81.639</td>\n",
       "    </tr>\n",
       "  </tbody>\n",
       "</table>\n",
       "</div>"
      ],
      "text/plain": [
       "            endTime       artist   track  time_x  time_y\n",
       "0  21/06/2021 17:55  dontaskalex  Heaven   1.632  81.639\n",
       "1  24/06/2021 07:48  dontaskalex  Heaven   1.662  81.639\n",
       "2  30/06/2021 18:54  dontaskalex  Heaven   1.920  81.639\n",
       "3  05/07/2021 18:00  dontaskalex  Heaven   1.920  81.639\n",
       "4  31/08/2021 12:47  dontaskalex  Heaven   1.920  81.639"
      ]
     },
     "execution_count": 53,
     "metadata": {},
     "output_type": "execute_result"
    }
   ],
   "source": [
    "mergedRes.head()"
   ]
  },
  {
   "cell_type": "code",
   "execution_count": 54,
   "metadata": {},
   "outputs": [
    {
     "data": {
      "text/html": [
       "<div>\n",
       "<style scoped>\n",
       "    .dataframe tbody tr th:only-of-type {\n",
       "        vertical-align: middle;\n",
       "    }\n",
       "\n",
       "    .dataframe tbody tr th {\n",
       "        vertical-align: top;\n",
       "    }\n",
       "\n",
       "    .dataframe thead th {\n",
       "        text-align: right;\n",
       "    }\n",
       "</style>\n",
       "<table border=\"1\" class=\"dataframe\">\n",
       "  <thead>\n",
       "    <tr style=\"text-align: right;\">\n",
       "      <th></th>\n",
       "      <th>endTime</th>\n",
       "      <th>artist</th>\n",
       "      <th>track</th>\n",
       "      <th>time_x</th>\n",
       "      <th>time_y</th>\n",
       "    </tr>\n",
       "  </thead>\n",
       "  <tbody>\n",
       "    <tr>\n",
       "      <th>0</th>\n",
       "      <td>21/06/2021 17:55</td>\n",
       "      <td>dontaskalex</td>\n",
       "      <td>Heaven</td>\n",
       "      <td>1.632</td>\n",
       "      <td>81.639</td>\n",
       "    </tr>\n",
       "    <tr>\n",
       "      <th>1</th>\n",
       "      <td>24/06/2021 07:48</td>\n",
       "      <td>dontaskalex</td>\n",
       "      <td>Heaven</td>\n",
       "      <td>1.662</td>\n",
       "      <td>81.639</td>\n",
       "    </tr>\n",
       "    <tr>\n",
       "      <th>2</th>\n",
       "      <td>30/06/2021 18:54</td>\n",
       "      <td>dontaskalex</td>\n",
       "      <td>Heaven</td>\n",
       "      <td>1.920</td>\n",
       "      <td>81.639</td>\n",
       "    </tr>\n",
       "    <tr>\n",
       "      <th>3</th>\n",
       "      <td>05/07/2021 18:00</td>\n",
       "      <td>dontaskalex</td>\n",
       "      <td>Heaven</td>\n",
       "      <td>1.920</td>\n",
       "      <td>81.639</td>\n",
       "    </tr>\n",
       "    <tr>\n",
       "      <th>4</th>\n",
       "      <td>31/08/2021 12:47</td>\n",
       "      <td>dontaskalex</td>\n",
       "      <td>Heaven</td>\n",
       "      <td>1.920</td>\n",
       "      <td>81.639</td>\n",
       "    </tr>\n",
       "  </tbody>\n",
       "</table>\n",
       "</div>"
      ],
      "text/plain": [
       "            endTime       artist   track  time_x  time_y\n",
       "0  21/06/2021 17:55  dontaskalex  Heaven   1.632  81.639\n",
       "1  24/06/2021 07:48  dontaskalex  Heaven   1.662  81.639\n",
       "2  30/06/2021 18:54  dontaskalex  Heaven   1.920  81.639\n",
       "3  05/07/2021 18:00  dontaskalex  Heaven   1.920  81.639\n",
       "4  31/08/2021 12:47  dontaskalex  Heaven   1.920  81.639"
      ]
     },
     "execution_count": 54,
     "metadata": {},
     "output_type": "execute_result"
    }
   ],
   "source": [
    "mergedRes2.head()"
   ]
  },
  {
   "cell_type": "code",
   "execution_count": 55,
   "metadata": {
    "collapsed": false,
    "pycharm": {
     "name": "#%%\n"
    }
   },
   "outputs": [],
   "source": [
    "final_df = mergedRes.sort_values('time_y', ascending=False)"
   ]
  },
  {
   "cell_type": "code",
   "execution_count": 56,
   "metadata": {},
   "outputs": [],
   "source": [
    "final_df2 = mergedRes2.sort_values('time_y', ascending=False)"
   ]
  },
  {
   "cell_type": "code",
   "execution_count": 57,
   "metadata": {
    "collapsed": false,
    "pycharm": {
     "name": "#%%\n"
    }
   },
   "outputs": [],
   "source": [
    "final_df = final_df.drop_duplicates('track')\n",
    "final_df = final_df.drop(['time_x'], axis =1)"
   ]
  },
  {
   "cell_type": "code",
   "execution_count": 58,
   "metadata": {},
   "outputs": [],
   "source": [
    "final_df2 = final_df2.drop_duplicates('artist')\n",
    "final_df2 = final_df2.drop(['time_x', 'track'], axis =1)"
   ]
  },
  {
   "cell_type": "code",
   "execution_count": 59,
   "metadata": {
    "collapsed": false,
    "pycharm": {
     "name": "#%%\n"
    }
   },
   "outputs": [],
   "source": [
    "final_df = final_df.rename(columns = {'time_y':'time'})"
   ]
  },
  {
   "cell_type": "code",
   "execution_count": 60,
   "metadata": {},
   "outputs": [],
   "source": [
    "final_df2 = final_df2.rename(columns = {'time_y':'time'})"
   ]
  },
  {
   "cell_type": "code",
   "execution_count": 61,
   "metadata": {
    "collapsed": false,
    "pycharm": {
     "name": "#%%\n"
    }
   },
   "outputs": [
    {
     "data": {
      "text/plain": [
       "(3562, 4)"
      ]
     },
     "execution_count": 61,
     "metadata": {},
     "output_type": "execute_result"
    }
   ],
   "source": [
    "final_df.shape"
   ]
  },
  {
   "cell_type": "code",
   "execution_count": 62,
   "metadata": {},
   "outputs": [
    {
     "data": {
      "text/plain": [
       "(1435, 3)"
      ]
     },
     "execution_count": 62,
     "metadata": {},
     "output_type": "execute_result"
    }
   ],
   "source": [
    "final_df2.shape"
   ]
  },
  {
   "cell_type": "code",
   "execution_count": 63,
   "metadata": {
    "collapsed": false,
    "pycharm": {
     "name": "#%%\n"
    }
   },
   "outputs": [
    {
     "data": {
      "text/html": [
       "<div>\n",
       "<style scoped>\n",
       "    .dataframe tbody tr th:only-of-type {\n",
       "        vertical-align: middle;\n",
       "    }\n",
       "\n",
       "    .dataframe tbody tr th {\n",
       "        vertical-align: top;\n",
       "    }\n",
       "\n",
       "    .dataframe thead th {\n",
       "        text-align: right;\n",
       "    }\n",
       "</style>\n",
       "<table border=\"1\" class=\"dataframe\">\n",
       "  <thead>\n",
       "    <tr style=\"text-align: right;\">\n",
       "      <th></th>\n",
       "      <th>endTime</th>\n",
       "      <th>artist</th>\n",
       "      <th>track</th>\n",
       "      <th>time</th>\n",
       "    </tr>\n",
       "  </thead>\n",
       "  <tbody>\n",
       "    <tr>\n",
       "      <th>28415</th>\n",
       "      <td>12/02/2022 17:02</td>\n",
       "      <td>Neanderthal</td>\n",
       "      <td>White Lies</td>\n",
       "      <td>930.462</td>\n",
       "    </tr>\n",
       "    <tr>\n",
       "      <th>8180</th>\n",
       "      <td>20/02/2022 20:26</td>\n",
       "      <td>Metro Boomin</td>\n",
       "      <td>Dreamcatcher (feat. Swae Lee &amp; Travis Scott)</td>\n",
       "      <td>689.912</td>\n",
       "    </tr>\n",
       "    <tr>\n",
       "      <th>10085</th>\n",
       "      <td>13/08/2021 15:07</td>\n",
       "      <td>Khalid</td>\n",
       "      <td>Better</td>\n",
       "      <td>680.091</td>\n",
       "    </tr>\n",
       "    <tr>\n",
       "      <th>14633</th>\n",
       "      <td>03/12/2021 18:09</td>\n",
       "      <td>Lil Tjay</td>\n",
       "      <td>20/20</td>\n",
       "      <td>585.679</td>\n",
       "    </tr>\n",
       "    <tr>\n",
       "      <th>2965</th>\n",
       "      <td>29/09/2021 10:09</td>\n",
       "      <td>PARTYNEXTDOOR</td>\n",
       "      <td>Come and See Me (feat. Drake)</td>\n",
       "      <td>565.210</td>\n",
       "    </tr>\n",
       "    <tr>\n",
       "      <th>10708</th>\n",
       "      <td>04/11/2021 21:06</td>\n",
       "      <td>Lil Tjay</td>\n",
       "      <td>Calling My Phone</td>\n",
       "      <td>540.495</td>\n",
       "    </tr>\n",
       "    <tr>\n",
       "      <th>27696</th>\n",
       "      <td>27/09/2021 15:07</td>\n",
       "      <td>Neanderthal</td>\n",
       "      <td>Get Out of My Head</td>\n",
       "      <td>526.758</td>\n",
       "    </tr>\n",
       "    <tr>\n",
       "      <th>30662</th>\n",
       "      <td>06/03/2022 18:15</td>\n",
       "      <td>T78</td>\n",
       "      <td>The Antidote</td>\n",
       "      <td>484.690</td>\n",
       "    </tr>\n",
       "    <tr>\n",
       "      <th>36220</th>\n",
       "      <td>19/05/2022 08:18</td>\n",
       "      <td>Marc Seguí</td>\n",
       "      <td>Tiroteo - Remix</td>\n",
       "      <td>466.454</td>\n",
       "    </tr>\n",
       "    <tr>\n",
       "      <th>6250</th>\n",
       "      <td>15/04/2022 07:51</td>\n",
       "      <td>The Weeknd</td>\n",
       "      <td>After Hours</td>\n",
       "      <td>448.434</td>\n",
       "    </tr>\n",
       "    <tr>\n",
       "      <th>11526</th>\n",
       "      <td>21/09/2021 12:25</td>\n",
       "      <td>6LACK</td>\n",
       "      <td>ATL Freestyle</td>\n",
       "      <td>408.107</td>\n",
       "    </tr>\n",
       "    <tr>\n",
       "      <th>4730</th>\n",
       "      <td>26/02/2022 11:50</td>\n",
       "      <td>Aaron Smith</td>\n",
       "      <td>Dancin - Krono Remix</td>\n",
       "      <td>402.962</td>\n",
       "    </tr>\n",
       "    <tr>\n",
       "      <th>21117</th>\n",
       "      <td>31/05/2022 18:54</td>\n",
       "      <td>Powfu</td>\n",
       "      <td>Life Is Changing</td>\n",
       "      <td>399.268</td>\n",
       "    </tr>\n",
       "    <tr>\n",
       "      <th>5441</th>\n",
       "      <td>16/05/2022 10:02</td>\n",
       "      <td>PARTYNEXTDOOR</td>\n",
       "      <td>SHOWING YOU</td>\n",
       "      <td>384.293</td>\n",
       "    </tr>\n",
       "    <tr>\n",
       "      <th>3938</th>\n",
       "      <td>18/04/2022 15:43</td>\n",
       "      <td>Gunna</td>\n",
       "      <td>Car Sick (feat. NAV &amp; Metro Boomin)</td>\n",
       "      <td>381.374</td>\n",
       "    </tr>\n",
       "    <tr>\n",
       "      <th>19196</th>\n",
       "      <td>20/07/2021 05:35</td>\n",
       "      <td>Izzamuzzic</td>\n",
       "      <td>Adventure - Original Mix</td>\n",
       "      <td>374.960</td>\n",
       "    </tr>\n",
       "    <tr>\n",
       "      <th>13937</th>\n",
       "      <td>28/02/2022 23:20</td>\n",
       "      <td>Metro Boomin</td>\n",
       "      <td>No More (feat. Travis Scott, Kodak Black &amp; 21 ...</td>\n",
       "      <td>374.293</td>\n",
       "    </tr>\n",
       "    <tr>\n",
       "      <th>29218</th>\n",
       "      <td>24/11/2021 16:11</td>\n",
       "      <td>Verzache</td>\n",
       "      <td>Some Things</td>\n",
       "      <td>373.422</td>\n",
       "    </tr>\n",
       "    <tr>\n",
       "      <th>5563</th>\n",
       "      <td>16/04/2022 17:25</td>\n",
       "      <td>Eluzai</td>\n",
       "      <td>call my friends...</td>\n",
       "      <td>371.614</td>\n",
       "    </tr>\n",
       "    <tr>\n",
       "      <th>17198</th>\n",
       "      <td>12/05/2022 04:06</td>\n",
       "      <td>The Weeknd</td>\n",
       "      <td>Wasted Times</td>\n",
       "      <td>371.014</td>\n",
       "    </tr>\n",
       "  </tbody>\n",
       "</table>\n",
       "</div>"
      ],
      "text/plain": [
       "                endTime         artist  \\\n",
       "28415  12/02/2022 17:02    Neanderthal   \n",
       "8180   20/02/2022 20:26   Metro Boomin   \n",
       "10085  13/08/2021 15:07         Khalid   \n",
       "14633  03/12/2021 18:09       Lil Tjay   \n",
       "2965   29/09/2021 10:09  PARTYNEXTDOOR   \n",
       "10708  04/11/2021 21:06       Lil Tjay   \n",
       "27696  27/09/2021 15:07    Neanderthal   \n",
       "30662  06/03/2022 18:15            T78   \n",
       "36220  19/05/2022 08:18     Marc Seguí   \n",
       "6250   15/04/2022 07:51     The Weeknd   \n",
       "11526  21/09/2021 12:25          6LACK   \n",
       "4730   26/02/2022 11:50    Aaron Smith   \n",
       "21117  31/05/2022 18:54          Powfu   \n",
       "5441   16/05/2022 10:02  PARTYNEXTDOOR   \n",
       "3938   18/04/2022 15:43          Gunna   \n",
       "19196  20/07/2021 05:35     Izzamuzzic   \n",
       "13937  28/02/2022 23:20   Metro Boomin   \n",
       "29218  24/11/2021 16:11       Verzache   \n",
       "5563   16/04/2022 17:25         Eluzai   \n",
       "17198  12/05/2022 04:06     The Weeknd   \n",
       "\n",
       "                                                   track     time  \n",
       "28415                                         White Lies  930.462  \n",
       "8180        Dreamcatcher (feat. Swae Lee & Travis Scott)  689.912  \n",
       "10085                                             Better  680.091  \n",
       "14633                                              20/20  585.679  \n",
       "2965                       Come and See Me (feat. Drake)  565.210  \n",
       "10708                                   Calling My Phone  540.495  \n",
       "27696                                 Get Out of My Head  526.758  \n",
       "30662                                       The Antidote  484.690  \n",
       "36220                                    Tiroteo - Remix  466.454  \n",
       "6250                                         After Hours  448.434  \n",
       "11526                                      ATL Freestyle  408.107  \n",
       "4730                                Dancin - Krono Remix  402.962  \n",
       "21117                                   Life Is Changing  399.268  \n",
       "5441                                         SHOWING YOU  384.293  \n",
       "3938                 Car Sick (feat. NAV & Metro Boomin)  381.374  \n",
       "19196                           Adventure - Original Mix  374.960  \n",
       "13937  No More (feat. Travis Scott, Kodak Black & 21 ...  374.293  \n",
       "29218                                        Some Things  373.422  \n",
       "5563                                  call my friends...  371.614  \n",
       "17198                                       Wasted Times  371.014  "
      ]
     },
     "execution_count": 63,
     "metadata": {},
     "output_type": "execute_result"
    }
   ],
   "source": [
    "final_df.head(20)"
   ]
  },
  {
   "cell_type": "code",
   "execution_count": 64,
   "metadata": {},
   "outputs": [
    {
     "data": {
      "text/html": [
       "<div>\n",
       "<style scoped>\n",
       "    .dataframe tbody tr th:only-of-type {\n",
       "        vertical-align: middle;\n",
       "    }\n",
       "\n",
       "    .dataframe tbody tr th {\n",
       "        vertical-align: top;\n",
       "    }\n",
       "\n",
       "    .dataframe thead th {\n",
       "        text-align: right;\n",
       "    }\n",
       "</style>\n",
       "<table border=\"1\" class=\"dataframe\">\n",
       "  <thead>\n",
       "    <tr style=\"text-align: right;\">\n",
       "      <th></th>\n",
       "      <th>endTime</th>\n",
       "      <th>artist</th>\n",
       "      <th>time</th>\n",
       "    </tr>\n",
       "  </thead>\n",
       "  <tbody>\n",
       "    <tr>\n",
       "      <th>10513</th>\n",
       "      <td>05/11/2021 23:59</td>\n",
       "      <td>The Weeknd</td>\n",
       "      <td>8693.730</td>\n",
       "    </tr>\n",
       "    <tr>\n",
       "      <th>1250</th>\n",
       "      <td>08/12/2021 23:26</td>\n",
       "      <td>Drake</td>\n",
       "      <td>4905.789</td>\n",
       "    </tr>\n",
       "    <tr>\n",
       "      <th>27758</th>\n",
       "      <td>17/05/2022 19:00</td>\n",
       "      <td>Juice WRLD</td>\n",
       "      <td>3785.362</td>\n",
       "    </tr>\n",
       "    <tr>\n",
       "      <th>3070</th>\n",
       "      <td>10/01/2022 00:30</td>\n",
       "      <td>NAV</td>\n",
       "      <td>3171.886</td>\n",
       "    </tr>\n",
       "    <tr>\n",
       "      <th>20707</th>\n",
       "      <td>11/09/2021 08:01</td>\n",
       "      <td>Post Malone</td>\n",
       "      <td>2439.854</td>\n",
       "    </tr>\n",
       "    <tr>\n",
       "      <th>9479</th>\n",
       "      <td>05/03/2022 10:21</td>\n",
       "      <td>6LACK</td>\n",
       "      <td>2362.203</td>\n",
       "    </tr>\n",
       "    <tr>\n",
       "      <th>25781</th>\n",
       "      <td>03/05/2022 15:46</td>\n",
       "      <td>Khalid</td>\n",
       "      <td>2283.785</td>\n",
       "    </tr>\n",
       "    <tr>\n",
       "      <th>4516</th>\n",
       "      <td>06/03/2022 12:58</td>\n",
       "      <td>Metro Boomin</td>\n",
       "      <td>2096.858</td>\n",
       "    </tr>\n",
       "    <tr>\n",
       "      <th>6293</th>\n",
       "      <td>05/02/2022 11:53</td>\n",
       "      <td>Lil Tjay</td>\n",
       "      <td>1848.782</td>\n",
       "    </tr>\n",
       "    <tr>\n",
       "      <th>15798</th>\n",
       "      <td>14/03/2022 01:05</td>\n",
       "      <td>Jeremy Zucker</td>\n",
       "      <td>1751.549</td>\n",
       "    </tr>\n",
       "    <tr>\n",
       "      <th>14828</th>\n",
       "      <td>31/05/2022 14:05</td>\n",
       "      <td>PARTYNEXTDOOR</td>\n",
       "      <td>1576.153</td>\n",
       "    </tr>\n",
       "    <tr>\n",
       "      <th>37160</th>\n",
       "      <td>28/09/2021 15:05</td>\n",
       "      <td>Neanderthal</td>\n",
       "      <td>1457.646</td>\n",
       "    </tr>\n",
       "    <tr>\n",
       "      <th>13756</th>\n",
       "      <td>25/10/2021 11:22</td>\n",
       "      <td>Kina</td>\n",
       "      <td>1356.144</td>\n",
       "    </tr>\n",
       "    <tr>\n",
       "      <th>5543</th>\n",
       "      <td>01/01/2022 21:18</td>\n",
       "      <td>J. Cole</td>\n",
       "      <td>1251.939</td>\n",
       "    </tr>\n",
       "    <tr>\n",
       "      <th>7235</th>\n",
       "      <td>23/03/2022 16:41</td>\n",
       "      <td>Lauv</td>\n",
       "      <td>1238.471</td>\n",
       "    </tr>\n",
       "    <tr>\n",
       "      <th>21639</th>\n",
       "      <td>24/08/2021 15:32</td>\n",
       "      <td>Russ</td>\n",
       "      <td>1227.115</td>\n",
       "    </tr>\n",
       "    <tr>\n",
       "      <th>17168</th>\n",
       "      <td>01/03/2022 16:44</td>\n",
       "      <td>G-Eazy</td>\n",
       "      <td>1141.886</td>\n",
       "    </tr>\n",
       "    <tr>\n",
       "      <th>23376</th>\n",
       "      <td>20/06/2022 12:26</td>\n",
       "      <td>Kendrick Lamar</td>\n",
       "      <td>1110.409</td>\n",
       "    </tr>\n",
       "    <tr>\n",
       "      <th>10045</th>\n",
       "      <td>12/04/2022 17:18</td>\n",
       "      <td>One Direction</td>\n",
       "      <td>1028.360</td>\n",
       "    </tr>\n",
       "    <tr>\n",
       "      <th>34186</th>\n",
       "      <td>08/08/2021 21:24</td>\n",
       "      <td>Pritam</td>\n",
       "      <td>968.289</td>\n",
       "    </tr>\n",
       "  </tbody>\n",
       "</table>\n",
       "</div>"
      ],
      "text/plain": [
       "                endTime          artist      time\n",
       "10513  05/11/2021 23:59      The Weeknd  8693.730\n",
       "1250   08/12/2021 23:26           Drake  4905.789\n",
       "27758  17/05/2022 19:00      Juice WRLD  3785.362\n",
       "3070   10/01/2022 00:30             NAV  3171.886\n",
       "20707  11/09/2021 08:01     Post Malone  2439.854\n",
       "9479   05/03/2022 10:21           6LACK  2362.203\n",
       "25781  03/05/2022 15:46          Khalid  2283.785\n",
       "4516   06/03/2022 12:58    Metro Boomin  2096.858\n",
       "6293   05/02/2022 11:53        Lil Tjay  1848.782\n",
       "15798  14/03/2022 01:05   Jeremy Zucker  1751.549\n",
       "14828  31/05/2022 14:05   PARTYNEXTDOOR  1576.153\n",
       "37160  28/09/2021 15:05     Neanderthal  1457.646\n",
       "13756  25/10/2021 11:22            Kina  1356.144\n",
       "5543   01/01/2022 21:18         J. Cole  1251.939\n",
       "7235   23/03/2022 16:41            Lauv  1238.471\n",
       "21639  24/08/2021 15:32            Russ  1227.115\n",
       "17168  01/03/2022 16:44          G-Eazy  1141.886\n",
       "23376  20/06/2022 12:26  Kendrick Lamar  1110.409\n",
       "10045  12/04/2022 17:18   One Direction  1028.360\n",
       "34186  08/08/2021 21:24          Pritam   968.289"
      ]
     },
     "execution_count": 64,
     "metadata": {},
     "output_type": "execute_result"
    }
   ],
   "source": [
    "final_df2.head(20)"
   ]
  },
  {
   "cell_type": "code",
   "execution_count": 65,
   "metadata": {
    "collapsed": false,
    "pycharm": {
     "name": "#%%\n"
    }
   },
   "outputs": [
    {
     "data": {
      "text/plain": [
       "(50.0, 0.0)"
      ]
     },
     "execution_count": 65,
     "metadata": {},
     "output_type": "execute_result"
    },
    {
     "data": {
      "image/png": "[encoded data removed]",
      "text/plain": [
       "<Figure size 864x720 with 1 Axes>"
      ]
     },
     "metadata": {
      "needs_background": "light"
     },
     "output_type": "display_data"
    }
   ],
   "source": [
    "plt.figure(figsize=(12, 10))\n",
    "sns.barplot(data=final_df, x='time', y='track', palette= 'crest')\n",
    "sns.despine(left=True, bottom=True)\n",
    "plt.ylim(50, 0)"
   ]
  },
  {
   "cell_type": "code",
   "execution_count": 70,
   "metadata": {},
   "outputs": [
    {
     "data": {
      "text/plain": [
       "(50.0, 0.0)"
      ]
     },
     "execution_count": 70,
     "metadata": {},
     "output_type": "execute_result"
    },
    {
     "data": {
      "image/png": "[encoded data removed]",
      "text/plain": [
       "<Figure size 864x720 with 1 Axes>"
      ]
     },
     "metadata": {
      "needs_background": "light"
     },
     "output_type": "display_data"
    }
   ],
   "source": [
    "plt.figure(figsize=(12, 10))\n",
    "sns.barplot(data=final_df2, x='time', y='artist', color='lightblue', ci=None)\n",
    "sns.despine(left=True, bottom=True)\n",
    "plt.ylim(50, 0)"
   ]
  }
 ],
 "metadata": {
  "kernelspec": {
   "display_name": "Python 3.10.0 ('dataSci')",
   "language": "python",
   "name": "python3"
  },
  "language_info": {
   "codemirror_mode": {
    "name": "ipython",
    "version": 3
   },
   "file_extension": ".py",
   "mimetype": "text/x-python",
   "name": "python",
   "nbconvert_exporter": "python",
   "pygments_lexer": "ipython3",
   "version": "3.10.0"
  },
  "vscode": {
   "interpreter": {
    "hash": "7acad10c90d0830569aa5e16e1db80068540a62def00df14baaf46831ea3f98e"
   }
  }
 },
 "nbformat": 4,
 "nbformat_minor": 0
}
