{
 "cells": [
  {
   "cell_type": "code",
   "execution_count": 21,
   "metadata": {
    "collapsed": true
   },
   "outputs": [],
   "source": [
    "import pandas as pd\n",
    "import seaborn as sns\n",
    "from matplotlib import pyplot as plt"
   ]
  },
  {
   "cell_type": "code",
   "execution_count": 8,
   "outputs": [],
   "source": [
    "temp_df = pd.read_csv('C:\\\\Users\\\\sansk\\\\Desktop\\\\github\\\\spotify\\\\combined-csv\\\\ldsp.csv')"
   ],
   "metadata": {
    "collapsed": false,
    "pycharm": {
     "name": "#%%\n"
    }
   }
  },
  {
   "cell_type": "code",
   "execution_count": 9,
   "outputs": [
    {
     "data": {
      "text/plain": "(10000, 4)"
     },
     "execution_count": 9,
     "metadata": {},
     "output_type": "execute_result"
    }
   ],
   "source": [
    "temp_df.head()\n",
    "temp_df.shape"
   ],
   "metadata": {
    "collapsed": false,
    "pycharm": {
     "name": "#%%\n"
    }
   }
  },
  {
   "cell_type": "code",
   "execution_count": 11,
   "outputs": [
    {
     "data": {
      "text/plain": "    artistName                           trackName  msPlayed\n0  dontaskalex                              Heaven     97895\n1       Offset  Ric Flair Drip (with Metro Boomin)       983\n2    DJ Khaled               POPSTAR (feat. Drake)       644\n3    Pop Smoke                                Dior      2848\n4        Drake    Chicago Freestyle (feat. Giveon)      5020",
      "text/html": "<div>\n<style scoped>\n    .dataframe tbody tr th:only-of-type {\n        vertical-align: middle;\n    }\n\n    .dataframe tbody tr th {\n        vertical-align: top;\n    }\n\n    .dataframe thead th {\n        text-align: right;\n    }\n</style>\n<table border=\"1\" class=\"dataframe\">\n  <thead>\n    <tr style=\"text-align: right;\">\n      <th></th>\n      <th>artistName</th>\n      <th>trackName</th>\n      <th>msPlayed</th>\n    </tr>\n  </thead>\n  <tbody>\n    <tr>\n      <th>0</th>\n      <td>dontaskalex</td>\n      <td>Heaven</td>\n      <td>97895</td>\n    </tr>\n    <tr>\n      <th>1</th>\n      <td>Offset</td>\n      <td>Ric Flair Drip (with Metro Boomin)</td>\n      <td>983</td>\n    </tr>\n    <tr>\n      <th>2</th>\n      <td>DJ Khaled</td>\n      <td>POPSTAR (feat. Drake)</td>\n      <td>644</td>\n    </tr>\n    <tr>\n      <th>3</th>\n      <td>Pop Smoke</td>\n      <td>Dior</td>\n      <td>2848</td>\n    </tr>\n    <tr>\n      <th>4</th>\n      <td>Drake</td>\n      <td>Chicago Freestyle (feat. Giveon)</td>\n      <td>5020</td>\n    </tr>\n  </tbody>\n</table>\n</div>"
     },
     "execution_count": 11,
     "metadata": {},
     "output_type": "execute_result"
    }
   ],
   "source": [
    "df = temp_df.copy(deep=True)\n",
    "df.drop(['endTime'], inplace=True, axis=1)\n",
    "df.head()"
   ],
   "metadata": {
    "collapsed": false,
    "pycharm": {
     "name": "#%%\n"
    }
   }
  },
  {
   "cell_type": "code",
   "execution_count": 12,
   "outputs": [
    {
     "data": {
      "text/plain": "        artist                               track   time\n0  dontaskalex                              Heaven  97895\n1       Offset  Ric Flair Drip (with Metro Boomin)    983\n2    DJ Khaled               POPSTAR (feat. Drake)    644\n3    Pop Smoke                                Dior   2848\n4        Drake    Chicago Freestyle (feat. Giveon)   5020",
      "text/html": "<div>\n<style scoped>\n    .dataframe tbody tr th:only-of-type {\n        vertical-align: middle;\n    }\n\n    .dataframe tbody tr th {\n        vertical-align: top;\n    }\n\n    .dataframe thead th {\n        text-align: right;\n    }\n</style>\n<table border=\"1\" class=\"dataframe\">\n  <thead>\n    <tr style=\"text-align: right;\">\n      <th></th>\n      <th>artist</th>\n      <th>track</th>\n      <th>time</th>\n    </tr>\n  </thead>\n  <tbody>\n    <tr>\n      <th>0</th>\n      <td>dontaskalex</td>\n      <td>Heaven</td>\n      <td>97895</td>\n    </tr>\n    <tr>\n      <th>1</th>\n      <td>Offset</td>\n      <td>Ric Flair Drip (with Metro Boomin)</td>\n      <td>983</td>\n    </tr>\n    <tr>\n      <th>2</th>\n      <td>DJ Khaled</td>\n      <td>POPSTAR (feat. Drake)</td>\n      <td>644</td>\n    </tr>\n    <tr>\n      <th>3</th>\n      <td>Pop Smoke</td>\n      <td>Dior</td>\n      <td>2848</td>\n    </tr>\n    <tr>\n      <th>4</th>\n      <td>Drake</td>\n      <td>Chicago Freestyle (feat. Giveon)</td>\n      <td>5020</td>\n    </tr>\n  </tbody>\n</table>\n</div>"
     },
     "execution_count": 12,
     "metadata": {},
     "output_type": "execute_result"
    }
   ],
   "source": [
    "df = df.rename(columns={'artistName':'artist', 'trackName':'track', 'msPlayed':'time'})\n",
    "df.head()"
   ],
   "metadata": {
    "collapsed": false,
    "pycharm": {
     "name": "#%%\n"
    }
   }
  },
  {
   "cell_type": "code",
   "execution_count": 13,
   "outputs": [
    {
     "data": {
      "text/plain": "(10000, 3)"
     },
     "execution_count": 13,
     "metadata": {},
     "output_type": "execute_result"
    }
   ],
   "source": [
    "df.shape"
   ],
   "metadata": {
    "collapsed": false,
    "pycharm": {
     "name": "#%%\n"
    }
   }
  },
  {
   "cell_type": "code",
   "execution_count": 14,
   "outputs": [],
   "source": [
    "df9 = pd.DataFrame(df.groupby(['track', 'artist']).sum())"
   ],
   "metadata": {
    "collapsed": false,
    "pycharm": {
     "name": "#%%\n"
    }
   }
  },
  {
   "cell_type": "code",
   "execution_count": 15,
   "outputs": [
    {
     "data": {
      "text/plain": "(1758, 1)"
     },
     "execution_count": 15,
     "metadata": {},
     "output_type": "execute_result"
    }
   ],
   "source": [
    "df9.shape"
   ],
   "metadata": {
    "collapsed": false,
    "pycharm": {
     "name": "#%%\n"
    }
   }
  },
  {
   "cell_type": "code",
   "execution_count": 16,
   "outputs": [
    {
     "data": {
      "text/plain": "                                                                    time\ntrack                                        artist                     \n!I'll Be Back!                               Rilès                117946\n(I Can't Get No) Satisfaction - Mono Version The Rolling Stones   222813\n(i hope you) miss me                         Joseph Black          78056\n03:00                                        Finding Hope        1122421\n03:15                                        Bazzi               3432660",
      "text/html": "<div>\n<style scoped>\n    .dataframe tbody tr th:only-of-type {\n        vertical-align: middle;\n    }\n\n    .dataframe tbody tr th {\n        vertical-align: top;\n    }\n\n    .dataframe thead th {\n        text-align: right;\n    }\n</style>\n<table border=\"1\" class=\"dataframe\">\n  <thead>\n    <tr style=\"text-align: right;\">\n      <th></th>\n      <th></th>\n      <th>time</th>\n    </tr>\n    <tr>\n      <th>track</th>\n      <th>artist</th>\n      <th></th>\n    </tr>\n  </thead>\n  <tbody>\n    <tr>\n      <th>!I'll Be Back!</th>\n      <th>Rilès</th>\n      <td>117946</td>\n    </tr>\n    <tr>\n      <th>(I Can't Get No) Satisfaction - Mono Version</th>\n      <th>The Rolling Stones</th>\n      <td>222813</td>\n    </tr>\n    <tr>\n      <th>(i hope you) miss me</th>\n      <th>Joseph Black</th>\n      <td>78056</td>\n    </tr>\n    <tr>\n      <th>03:00</th>\n      <th>Finding Hope</th>\n      <td>1122421</td>\n    </tr>\n    <tr>\n      <th>03:15</th>\n      <th>Bazzi</th>\n      <td>3432660</td>\n    </tr>\n  </tbody>\n</table>\n</div>"
     },
     "execution_count": 16,
     "metadata": {},
     "output_type": "execute_result"
    }
   ],
   "source": [
    "df9.head()"
   ],
   "metadata": {
    "collapsed": false,
    "pycharm": {
     "name": "#%%\n"
    }
   }
  },
  {
   "cell_type": "code",
   "execution_count": 17,
   "outputs": [
    {
     "data": {
      "text/plain": "                                                                    time\ntrack                                        artist                     \n!I'll Be Back!                               Rilès                117946\n(I Can't Get No) Satisfaction - Mono Version The Rolling Stones   222813\n(i hope you) miss me                         Joseph Black          78056\n03:00                                        Finding Hope        1122421\n03:15                                        Bazzi               3432660\n...                                                                  ...\nworst day                                    sagun                133902\nyou don't have to cry                        Nohidea              801033\nyou were good to me                          Jeremy Zucker        843708\nyou're not lost                              eaup                 148037\nÉxtasis                                      Pablo Alborán        238013\n\n[1686 rows x 1 columns]",
      "text/html": "<div>\n<style scoped>\n    .dataframe tbody tr th:only-of-type {\n        vertical-align: middle;\n    }\n\n    .dataframe tbody tr th {\n        vertical-align: top;\n    }\n\n    .dataframe thead th {\n        text-align: right;\n    }\n</style>\n<table border=\"1\" class=\"dataframe\">\n  <thead>\n    <tr style=\"text-align: right;\">\n      <th></th>\n      <th></th>\n      <th>time</th>\n    </tr>\n    <tr>\n      <th>track</th>\n      <th>artist</th>\n      <th></th>\n    </tr>\n  </thead>\n  <tbody>\n    <tr>\n      <th>!I'll Be Back!</th>\n      <th>Rilès</th>\n      <td>117946</td>\n    </tr>\n    <tr>\n      <th>(I Can't Get No) Satisfaction - Mono Version</th>\n      <th>The Rolling Stones</th>\n      <td>222813</td>\n    </tr>\n    <tr>\n      <th>(i hope you) miss me</th>\n      <th>Joseph Black</th>\n      <td>78056</td>\n    </tr>\n    <tr>\n      <th>03:00</th>\n      <th>Finding Hope</th>\n      <td>1122421</td>\n    </tr>\n    <tr>\n      <th>03:15</th>\n      <th>Bazzi</th>\n      <td>3432660</td>\n    </tr>\n    <tr>\n      <th>...</th>\n      <th>...</th>\n      <td>...</td>\n    </tr>\n    <tr>\n      <th>worst day</th>\n      <th>sagun</th>\n      <td>133902</td>\n    </tr>\n    <tr>\n      <th>you don't have to cry</th>\n      <th>Nohidea</th>\n      <td>801033</td>\n    </tr>\n    <tr>\n      <th>you were good to me</th>\n      <th>Jeremy Zucker</th>\n      <td>843708</td>\n    </tr>\n    <tr>\n      <th>you're not lost</th>\n      <th>eaup</th>\n      <td>148037</td>\n    </tr>\n    <tr>\n      <th>Éxtasis</th>\n      <th>Pablo Alborán</th>\n      <td>238013</td>\n    </tr>\n  </tbody>\n</table>\n<p>1686 rows × 1 columns</p>\n</div>"
     },
     "execution_count": 17,
     "metadata": {},
     "output_type": "execute_result"
    }
   ],
   "source": [
    "df9.drop_duplicates()"
   ],
   "metadata": {
    "collapsed": false,
    "pycharm": {
     "name": "#%%\n"
    }
   }
  },
  {
   "cell_type": "code",
   "execution_count": 18,
   "outputs": [
    {
     "data": {
      "text/plain": "(1758, 1)"
     },
     "execution_count": 18,
     "metadata": {},
     "output_type": "execute_result"
    }
   ],
   "source": [
    "df9.shape"
   ],
   "metadata": {
    "collapsed": false,
    "pycharm": {
     "name": "#%%\n"
    }
   }
  },
  {
   "cell_type": "code",
   "execution_count": 19,
   "outputs": [
    {
     "data": {
      "text/plain": "                                                               time\ntrack                                        artist                \nDreamcatcher (feat. Swae Lee & Travis Scott) Metro Boomin  18573207\n20/20                                        Lil Tjay      12570568\nCalling My Phone                             Lil Tjay      11338600\nATL Freestyle                                6LACK         11258072\nGREECE (feat. Drake)                         DJ Khaled     10063158\nCar Sick (feat. NAV & Metro Boomin)          Gunna          9743293\ntoo many feelings                            Ruel           8773575\nLaugh Now Cry Later (feat. Lil Durk)         Drake          8732166\nSpace Cadet (feat. Gunna)                    Metro Boomin   8722707\nSome Things                                  Verzache       8018271",
      "text/html": "<div>\n<style scoped>\n    .dataframe tbody tr th:only-of-type {\n        vertical-align: middle;\n    }\n\n    .dataframe tbody tr th {\n        vertical-align: top;\n    }\n\n    .dataframe thead th {\n        text-align: right;\n    }\n</style>\n<table border=\"1\" class=\"dataframe\">\n  <thead>\n    <tr style=\"text-align: right;\">\n      <th></th>\n      <th></th>\n      <th>time</th>\n    </tr>\n    <tr>\n      <th>track</th>\n      <th>artist</th>\n      <th></th>\n    </tr>\n  </thead>\n  <tbody>\n    <tr>\n      <th>Dreamcatcher (feat. Swae Lee &amp; Travis Scott)</th>\n      <th>Metro Boomin</th>\n      <td>18573207</td>\n    </tr>\n    <tr>\n      <th>20/20</th>\n      <th>Lil Tjay</th>\n      <td>12570568</td>\n    </tr>\n    <tr>\n      <th>Calling My Phone</th>\n      <th>Lil Tjay</th>\n      <td>11338600</td>\n    </tr>\n    <tr>\n      <th>ATL Freestyle</th>\n      <th>6LACK</th>\n      <td>11258072</td>\n    </tr>\n    <tr>\n      <th>GREECE (feat. Drake)</th>\n      <th>DJ Khaled</th>\n      <td>10063158</td>\n    </tr>\n    <tr>\n      <th>Car Sick (feat. NAV &amp; Metro Boomin)</th>\n      <th>Gunna</th>\n      <td>9743293</td>\n    </tr>\n    <tr>\n      <th>too many feelings</th>\n      <th>Ruel</th>\n      <td>8773575</td>\n    </tr>\n    <tr>\n      <th>Laugh Now Cry Later (feat. Lil Durk)</th>\n      <th>Drake</th>\n      <td>8732166</td>\n    </tr>\n    <tr>\n      <th>Space Cadet (feat. Gunna)</th>\n      <th>Metro Boomin</th>\n      <td>8722707</td>\n    </tr>\n    <tr>\n      <th>Some Things</th>\n      <th>Verzache</th>\n      <td>8018271</td>\n    </tr>\n  </tbody>\n</table>\n</div>"
     },
     "execution_count": 19,
     "metadata": {},
     "output_type": "execute_result"
    }
   ],
   "source": [
    "final_df = df9.sort_values(by=['time'], ascending=False)\n",
    "final_df.head(10)"
   ],
   "metadata": {
    "collapsed": false,
    "pycharm": {
     "name": "#%%\n"
    }
   }
  },
  {
   "cell_type": "code",
   "execution_count": 23,
   "outputs": [
    {
     "ename": "ValueError",
     "evalue": "Could not interpret input 'track'",
     "output_type": "error",
     "traceback": [
      "\u001B[1;31m---------------------------------------------------------------------------\u001B[0m",
      "\u001B[1;31mValueError\u001B[0m                                Traceback (most recent call last)",
      "Input \u001B[1;32mIn [23]\u001B[0m, in \u001B[0;36m<cell line: 2>\u001B[1;34m()\u001B[0m\n\u001B[0;32m      1\u001B[0m plt\u001B[38;5;241m.\u001B[39mfigure(figsize\u001B[38;5;241m=\u001B[39m(\u001B[38;5;241m12\u001B[39m, \u001B[38;5;241m10\u001B[39m))\n\u001B[1;32m----> 2\u001B[0m \u001B[43msns\u001B[49m\u001B[38;5;241;43m.\u001B[39;49m\u001B[43mbarplot\u001B[49m\u001B[43m(\u001B[49m\u001B[43mdata\u001B[49m\u001B[38;5;241;43m=\u001B[39;49m\u001B[43mfinal_df\u001B[49m\u001B[43m,\u001B[49m\u001B[43m \u001B[49m\u001B[43mx\u001B[49m\u001B[38;5;241;43m=\u001B[39;49m\u001B[38;5;124;43m'\u001B[39;49m\u001B[38;5;124;43mtime\u001B[39;49m\u001B[38;5;124;43m'\u001B[39;49m\u001B[43m,\u001B[49m\u001B[43m \u001B[49m\u001B[43my\u001B[49m\u001B[38;5;241;43m=\u001B[39;49m\u001B[38;5;124;43m'\u001B[39;49m\u001B[38;5;124;43mtrack\u001B[39;49m\u001B[38;5;124;43m'\u001B[39;49m\u001B[43m)\u001B[49m\n\u001B[0;32m      3\u001B[0m sns\u001B[38;5;241m.\u001B[39mdespine(left\u001B[38;5;241m=\u001B[39m\u001B[38;5;28;01mTrue\u001B[39;00m, bottom\u001B[38;5;241m=\u001B[39m\u001B[38;5;28;01mTrue\u001B[39;00m)\n\u001B[0;32m      4\u001B[0m plt\u001B[38;5;241m.\u001B[39mylim(\u001B[38;5;241m40\u001B[39m, \u001B[38;5;241m0\u001B[39m)\n",
      "File \u001B[1;32m~\\anaconda3\\envs\\dataSci\\lib\\site-packages\\seaborn\\_decorators.py:46\u001B[0m, in \u001B[0;36m_deprecate_positional_args.<locals>.inner_f\u001B[1;34m(*args, **kwargs)\u001B[0m\n\u001B[0;32m     36\u001B[0m     warnings\u001B[38;5;241m.\u001B[39mwarn(\n\u001B[0;32m     37\u001B[0m         \u001B[38;5;124m\"\u001B[39m\u001B[38;5;124mPass the following variable\u001B[39m\u001B[38;5;132;01m{}\u001B[39;00m\u001B[38;5;124m as \u001B[39m\u001B[38;5;132;01m{}\u001B[39;00m\u001B[38;5;124mkeyword arg\u001B[39m\u001B[38;5;132;01m{}\u001B[39;00m\u001B[38;5;124m: \u001B[39m\u001B[38;5;132;01m{}\u001B[39;00m\u001B[38;5;124m. \u001B[39m\u001B[38;5;124m\"\u001B[39m\n\u001B[0;32m     38\u001B[0m         \u001B[38;5;124m\"\u001B[39m\u001B[38;5;124mFrom version 0.12, the only valid positional argument \u001B[39m\u001B[38;5;124m\"\u001B[39m\n\u001B[1;32m   (...)\u001B[0m\n\u001B[0;32m     43\u001B[0m         \u001B[38;5;167;01mFutureWarning\u001B[39;00m\n\u001B[0;32m     44\u001B[0m     )\n\u001B[0;32m     45\u001B[0m kwargs\u001B[38;5;241m.\u001B[39mupdate({k: arg \u001B[38;5;28;01mfor\u001B[39;00m k, arg \u001B[38;5;129;01min\u001B[39;00m \u001B[38;5;28mzip\u001B[39m(sig\u001B[38;5;241m.\u001B[39mparameters, args)})\n\u001B[1;32m---> 46\u001B[0m \u001B[38;5;28;01mreturn\u001B[39;00m f(\u001B[38;5;241m*\u001B[39m\u001B[38;5;241m*\u001B[39mkwargs)\n",
      "File \u001B[1;32m~\\anaconda3\\envs\\dataSci\\lib\\site-packages\\seaborn\\categorical.py:3182\u001B[0m, in \u001B[0;36mbarplot\u001B[1;34m(x, y, hue, data, order, hue_order, estimator, ci, n_boot, units, seed, orient, color, palette, saturation, errcolor, errwidth, capsize, dodge, ax, **kwargs)\u001B[0m\n\u001B[0;32m   3169\u001B[0m \u001B[38;5;129m@_deprecate_positional_args\u001B[39m\n\u001B[0;32m   3170\u001B[0m \u001B[38;5;28;01mdef\u001B[39;00m \u001B[38;5;21mbarplot\u001B[39m(\n\u001B[0;32m   3171\u001B[0m     \u001B[38;5;241m*\u001B[39m,\n\u001B[1;32m   (...)\u001B[0m\n\u001B[0;32m   3179\u001B[0m     \u001B[38;5;241m*\u001B[39m\u001B[38;5;241m*\u001B[39mkwargs,\n\u001B[0;32m   3180\u001B[0m ):\n\u001B[1;32m-> 3182\u001B[0m     plotter \u001B[38;5;241m=\u001B[39m \u001B[43m_BarPlotter\u001B[49m\u001B[43m(\u001B[49m\u001B[43mx\u001B[49m\u001B[43m,\u001B[49m\u001B[43m \u001B[49m\u001B[43my\u001B[49m\u001B[43m,\u001B[49m\u001B[43m \u001B[49m\u001B[43mhue\u001B[49m\u001B[43m,\u001B[49m\u001B[43m \u001B[49m\u001B[43mdata\u001B[49m\u001B[43m,\u001B[49m\u001B[43m \u001B[49m\u001B[43morder\u001B[49m\u001B[43m,\u001B[49m\u001B[43m \u001B[49m\u001B[43mhue_order\u001B[49m\u001B[43m,\u001B[49m\n\u001B[0;32m   3183\u001B[0m \u001B[43m                          \u001B[49m\u001B[43mestimator\u001B[49m\u001B[43m,\u001B[49m\u001B[43m \u001B[49m\u001B[43mci\u001B[49m\u001B[43m,\u001B[49m\u001B[43m \u001B[49m\u001B[43mn_boot\u001B[49m\u001B[43m,\u001B[49m\u001B[43m \u001B[49m\u001B[43munits\u001B[49m\u001B[43m,\u001B[49m\u001B[43m \u001B[49m\u001B[43mseed\u001B[49m\u001B[43m,\u001B[49m\n\u001B[0;32m   3184\u001B[0m \u001B[43m                          \u001B[49m\u001B[43morient\u001B[49m\u001B[43m,\u001B[49m\u001B[43m \u001B[49m\u001B[43mcolor\u001B[49m\u001B[43m,\u001B[49m\u001B[43m \u001B[49m\u001B[43mpalette\u001B[49m\u001B[43m,\u001B[49m\u001B[43m \u001B[49m\u001B[43msaturation\u001B[49m\u001B[43m,\u001B[49m\n\u001B[0;32m   3185\u001B[0m \u001B[43m                          \u001B[49m\u001B[43merrcolor\u001B[49m\u001B[43m,\u001B[49m\u001B[43m \u001B[49m\u001B[43merrwidth\u001B[49m\u001B[43m,\u001B[49m\u001B[43m \u001B[49m\u001B[43mcapsize\u001B[49m\u001B[43m,\u001B[49m\u001B[43m \u001B[49m\u001B[43mdodge\u001B[49m\u001B[43m)\u001B[49m\n\u001B[0;32m   3187\u001B[0m     \u001B[38;5;28;01mif\u001B[39;00m ax \u001B[38;5;129;01mis\u001B[39;00m \u001B[38;5;28;01mNone\u001B[39;00m:\n\u001B[0;32m   3188\u001B[0m         ax \u001B[38;5;241m=\u001B[39m plt\u001B[38;5;241m.\u001B[39mgca()\n",
      "File \u001B[1;32m~\\anaconda3\\envs\\dataSci\\lib\\site-packages\\seaborn\\categorical.py:1584\u001B[0m, in \u001B[0;36m_BarPlotter.__init__\u001B[1;34m(self, x, y, hue, data, order, hue_order, estimator, ci, n_boot, units, seed, orient, color, palette, saturation, errcolor, errwidth, capsize, dodge)\u001B[0m\n\u001B[0;32m   1579\u001B[0m \u001B[38;5;28;01mdef\u001B[39;00m \u001B[38;5;21m__init__\u001B[39m(\u001B[38;5;28mself\u001B[39m, x, y, hue, data, order, hue_order,\n\u001B[0;32m   1580\u001B[0m              estimator, ci, n_boot, units, seed,\n\u001B[0;32m   1581\u001B[0m              orient, color, palette, saturation, errcolor,\n\u001B[0;32m   1582\u001B[0m              errwidth, capsize, dodge):\n\u001B[0;32m   1583\u001B[0m     \u001B[38;5;124;03m\"\"\"Initialize the plotter.\"\"\"\u001B[39;00m\n\u001B[1;32m-> 1584\u001B[0m     \u001B[38;5;28;43mself\u001B[39;49m\u001B[38;5;241;43m.\u001B[39;49m\u001B[43mestablish_variables\u001B[49m\u001B[43m(\u001B[49m\u001B[43mx\u001B[49m\u001B[43m,\u001B[49m\u001B[43m \u001B[49m\u001B[43my\u001B[49m\u001B[43m,\u001B[49m\u001B[43m \u001B[49m\u001B[43mhue\u001B[49m\u001B[43m,\u001B[49m\u001B[43m \u001B[49m\u001B[43mdata\u001B[49m\u001B[43m,\u001B[49m\u001B[43m \u001B[49m\u001B[43morient\u001B[49m\u001B[43m,\u001B[49m\n\u001B[0;32m   1585\u001B[0m \u001B[43m                             \u001B[49m\u001B[43morder\u001B[49m\u001B[43m,\u001B[49m\u001B[43m \u001B[49m\u001B[43mhue_order\u001B[49m\u001B[43m,\u001B[49m\u001B[43m \u001B[49m\u001B[43munits\u001B[49m\u001B[43m)\u001B[49m\n\u001B[0;32m   1586\u001B[0m     \u001B[38;5;28mself\u001B[39m\u001B[38;5;241m.\u001B[39mestablish_colors(color, palette, saturation)\n\u001B[0;32m   1587\u001B[0m     \u001B[38;5;28mself\u001B[39m\u001B[38;5;241m.\u001B[39mestimate_statistic(estimator, ci, n_boot, seed)\n",
      "File \u001B[1;32m~\\anaconda3\\envs\\dataSci\\lib\\site-packages\\seaborn\\categorical.py:153\u001B[0m, in \u001B[0;36m_CategoricalPlotter.establish_variables\u001B[1;34m(self, x, y, hue, data, orient, order, hue_order, units)\u001B[0m\n\u001B[0;32m    151\u001B[0m     \u001B[38;5;28;01mif\u001B[39;00m \u001B[38;5;28misinstance\u001B[39m(var, \u001B[38;5;28mstr\u001B[39m):\n\u001B[0;32m    152\u001B[0m         err \u001B[38;5;241m=\u001B[39m \u001B[38;5;124m\"\u001B[39m\u001B[38;5;124mCould not interpret input \u001B[39m\u001B[38;5;124m'\u001B[39m\u001B[38;5;132;01m{}\u001B[39;00m\u001B[38;5;124m'\u001B[39m\u001B[38;5;124m\"\u001B[39m\u001B[38;5;241m.\u001B[39mformat(var)\n\u001B[1;32m--> 153\u001B[0m         \u001B[38;5;28;01mraise\u001B[39;00m \u001B[38;5;167;01mValueError\u001B[39;00m(err)\n\u001B[0;32m    155\u001B[0m \u001B[38;5;66;03m# Figure out the plotting orientation\u001B[39;00m\n\u001B[0;32m    156\u001B[0m orient \u001B[38;5;241m=\u001B[39m infer_orient(\n\u001B[0;32m    157\u001B[0m     x, y, orient, require_numeric\u001B[38;5;241m=\u001B[39m\u001B[38;5;28mself\u001B[39m\u001B[38;5;241m.\u001B[39mrequire_numeric\n\u001B[0;32m    158\u001B[0m )\n",
      "\u001B[1;31mValueError\u001B[0m: Could not interpret input 'track'"
     ]
    },
    {
     "data": {
      "text/plain": "<Figure size 864x720 with 0 Axes>"
     },
     "metadata": {},
     "output_type": "display_data"
    }
   ],
   "source": [
    "plt.figure(figsize=(12, 10))\n",
    "sns.barplot(data=final_df, x='time', y='track')\n",
    "sns.despine(left=True, bottom=True)\n",
    "plt.ylim(40, 0)"
   ],
   "metadata": {
    "collapsed": false,
    "pycharm": {
     "name": "#%%\n"
    }
   }
  }
 ],
 "metadata": {
  "kernelspec": {
   "display_name": "Python 3",
   "language": "python",
   "name": "python3"
  },
  "language_info": {
   "codemirror_mode": {
    "name": "ipython",
    "version": 2
   },
   "file_extension": ".py",
   "mimetype": "text/x-python",
   "name": "python",
   "nbconvert_exporter": "python",
   "pygments_lexer": "ipython2",
   "version": "2.7.6"
  }
 },
 "nbformat": 4,
 "nbformat_minor": 0
}