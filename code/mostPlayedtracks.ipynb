{
 "cells": [
  {
   "cell_type": "code",
   "execution_count": 14,
   "metadata": {
    "collapsed": true
   },
   "outputs": [],
   "source": [
    "import pandas as pd\n",
    "import seaborn as sns"
   ]
  },
  {
   "cell_type": "code",
   "execution_count": 15,
   "outputs": [],
   "source": [
    "temp_df = pd.read_csv('combined-data/spotify-data.csv')"
   ],
   "metadata": {
    "collapsed": false,
    "pycharm": {
     "name": "#%%\n"
    }
   }
  },
  {
   "cell_type": "code",
   "execution_count": 16,
   "outputs": [
    {
     "data": {
      "text/plain": "(28762, 5)"
     },
     "execution_count": 16,
     "metadata": {},
     "output_type": "execute_result"
    }
   ],
   "source": [
    "temp_df.head()\n",
    "temp_df.shape"
   ],
   "metadata": {
    "collapsed": false,
    "pycharm": {
     "name": "#%%\n"
    }
   }
  },
  {
   "cell_type": "code",
   "execution_count": 17,
   "outputs": [
    {
     "data": {
      "text/plain": "       artistName                                     trackName  msPlayed\n0   Billie Eilish                                    i love you    205230\n1      Atif Aslam                                   Tu Jaane Na    341933\n2      Atif Aslam                                         Aadat    333740\n3  Akhil Sachdeva       Humsafar (From \"Badrinath Ki Dulhania\")    268463\n4    Arijit Singh  Tujhe Kitna Chahne Lage (From \"Kabir Singh\")    284779",
      "text/html": "<div>\n<style scoped>\n    .dataframe tbody tr th:only-of-type {\n        vertical-align: middle;\n    }\n\n    .dataframe tbody tr th {\n        vertical-align: top;\n    }\n\n    .dataframe thead th {\n        text-align: right;\n    }\n</style>\n<table border=\"1\" class=\"dataframe\">\n  <thead>\n    <tr style=\"text-align: right;\">\n      <th></th>\n      <th>artistName</th>\n      <th>trackName</th>\n      <th>msPlayed</th>\n    </tr>\n  </thead>\n  <tbody>\n    <tr>\n      <th>0</th>\n      <td>Billie Eilish</td>\n      <td>i love you</td>\n      <td>205230</td>\n    </tr>\n    <tr>\n      <th>1</th>\n      <td>Atif Aslam</td>\n      <td>Tu Jaane Na</td>\n      <td>341933</td>\n    </tr>\n    <tr>\n      <th>2</th>\n      <td>Atif Aslam</td>\n      <td>Aadat</td>\n      <td>333740</td>\n    </tr>\n    <tr>\n      <th>3</th>\n      <td>Akhil Sachdeva</td>\n      <td>Humsafar (From \"Badrinath Ki Dulhania\")</td>\n      <td>268463</td>\n    </tr>\n    <tr>\n      <th>4</th>\n      <td>Arijit Singh</td>\n      <td>Tujhe Kitna Chahne Lage (From \"Kabir Singh\")</td>\n      <td>284779</td>\n    </tr>\n  </tbody>\n</table>\n</div>"
     },
     "execution_count": 17,
     "metadata": {},
     "output_type": "execute_result"
    }
   ],
   "source": [
    "df = temp_df.copy(deep=True)\n",
    "df.drop(['endTime', 'Language'], inplace=True, axis=1)\n",
    "df.head()"
   ],
   "metadata": {
    "collapsed": false,
    "pycharm": {
     "name": "#%%\n"
    }
   }
  },
  {
   "cell_type": "code",
   "execution_count": 18,
   "outputs": [
    {
     "data": {
      "text/plain": "           artist                                         track    time\n0   Billie Eilish                                    i love you  205230\n1      Atif Aslam                                   Tu Jaane Na  341933\n2      Atif Aslam                                         Aadat  333740\n3  Akhil Sachdeva       Humsafar (From \"Badrinath Ki Dulhania\")  268463\n4    Arijit Singh  Tujhe Kitna Chahne Lage (From \"Kabir Singh\")  284779",
      "text/html": "<div>\n<style scoped>\n    .dataframe tbody tr th:only-of-type {\n        vertical-align: middle;\n    }\n\n    .dataframe tbody tr th {\n        vertical-align: top;\n    }\n\n    .dataframe thead th {\n        text-align: right;\n    }\n</style>\n<table border=\"1\" class=\"dataframe\">\n  <thead>\n    <tr style=\"text-align: right;\">\n      <th></th>\n      <th>artist</th>\n      <th>track</th>\n      <th>time</th>\n    </tr>\n  </thead>\n  <tbody>\n    <tr>\n      <th>0</th>\n      <td>Billie Eilish</td>\n      <td>i love you</td>\n      <td>205230</td>\n    </tr>\n    <tr>\n      <th>1</th>\n      <td>Atif Aslam</td>\n      <td>Tu Jaane Na</td>\n      <td>341933</td>\n    </tr>\n    <tr>\n      <th>2</th>\n      <td>Atif Aslam</td>\n      <td>Aadat</td>\n      <td>333740</td>\n    </tr>\n    <tr>\n      <th>3</th>\n      <td>Akhil Sachdeva</td>\n      <td>Humsafar (From \"Badrinath Ki Dulhania\")</td>\n      <td>268463</td>\n    </tr>\n    <tr>\n      <th>4</th>\n      <td>Arijit Singh</td>\n      <td>Tujhe Kitna Chahne Lage (From \"Kabir Singh\")</td>\n      <td>284779</td>\n    </tr>\n  </tbody>\n</table>\n</div>"
     },
     "execution_count": 18,
     "metadata": {},
     "output_type": "execute_result"
    }
   ],
   "source": [
    "df = df.rename(columns={'artistName':'artist', 'trackName':'track', 'msPlayed':'time'})\n",
    "df.head()"
   ],
   "metadata": {
    "collapsed": false,
    "pycharm": {
     "name": "#%%\n"
    }
   }
  },
  {
   "cell_type": "code",
   "execution_count": 19,
   "outputs": [
    {
     "data": {
      "text/plain": "(28762, 3)"
     },
     "execution_count": 19,
     "metadata": {},
     "output_type": "execute_result"
    }
   ],
   "source": [
    "df.shape"
   ],
   "metadata": {
    "collapsed": false,
    "pycharm": {
     "name": "#%%\n"
    }
   }
  },
  {
   "cell_type": "code",
   "execution_count": 20,
   "outputs": [],
   "source": [
    "df9 = pd.DataFrame(df.groupby(['track', 'artist']).sum())"
   ],
   "metadata": {
    "collapsed": false,
    "pycharm": {
     "name": "#%%\n"
    }
   }
  },
  {
   "cell_type": "code",
   "execution_count": 21,
   "outputs": [
    {
     "data": {
      "text/plain": "(3275, 1)"
     },
     "execution_count": 21,
     "metadata": {},
     "output_type": "execute_result"
    }
   ],
   "source": [
    "df9.shape"
   ],
   "metadata": {
    "collapsed": false,
    "pycharm": {
     "name": "#%%\n"
    }
   }
  },
  {
   "cell_type": "code",
   "execution_count": 22,
   "outputs": [
    {
     "data": {
      "text/plain": "                                                                    time\ntrack                                        artist                     \n!I'll Be Back!                               Rilès                117946\n$orries                                      Peachy!             3163396\n(Everything I Do) I Do It For You            Bryan Adams           13023\n(I Can't Get No) Satisfaction - Mono Version The Rolling Stones   222813\n(i hope you) miss me                         Joseph Black          78056",
      "text/html": "<div>\n<style scoped>\n    .dataframe tbody tr th:only-of-type {\n        vertical-align: middle;\n    }\n\n    .dataframe tbody tr th {\n        vertical-align: top;\n    }\n\n    .dataframe thead th {\n        text-align: right;\n    }\n</style>\n<table border=\"1\" class=\"dataframe\">\n  <thead>\n    <tr style=\"text-align: right;\">\n      <th></th>\n      <th></th>\n      <th>time</th>\n    </tr>\n    <tr>\n      <th>track</th>\n      <th>artist</th>\n      <th></th>\n    </tr>\n  </thead>\n  <tbody>\n    <tr>\n      <th>!I'll Be Back!</th>\n      <th>Rilès</th>\n      <td>117946</td>\n    </tr>\n    <tr>\n      <th>$orries</th>\n      <th>Peachy!</th>\n      <td>3163396</td>\n    </tr>\n    <tr>\n      <th>(Everything I Do) I Do It For You</th>\n      <th>Bryan Adams</th>\n      <td>13023</td>\n    </tr>\n    <tr>\n      <th>(I Can't Get No) Satisfaction - Mono Version</th>\n      <th>The Rolling Stones</th>\n      <td>222813</td>\n    </tr>\n    <tr>\n      <th>(i hope you) miss me</th>\n      <th>Joseph Black</th>\n      <td>78056</td>\n    </tr>\n  </tbody>\n</table>\n</div>"
     },
     "execution_count": 22,
     "metadata": {},
     "output_type": "execute_result"
    }
   ],
   "source": [
    "df9.head()"
   ],
   "metadata": {
    "collapsed": false,
    "pycharm": {
     "name": "#%%\n"
    }
   }
  },
  {
   "cell_type": "code",
   "execution_count": 23,
   "outputs": [
    {
     "data": {
      "text/plain": "                                                                    time\ntrack                                        artist                     \n!I'll Be Back!                               Rilès                117946\n$orries                                      Peachy!             3163396\n(Everything I Do) I Do It For You            Bryan Adams           13023\n(I Can't Get No) Satisfaction - Mono Version The Rolling Stones   222813\n(i hope you) miss me                         Joseph Black          78056\n...                                                                  ...\nyou were good to me                          Jeremy Zucker       3971111\nyou're not lost                              eaup                 148037\nÉxtasis                                      Pablo Alborán        238013\nМалыш - XZEEZ & Ablaikan Remix               JANAGA               274133\nРАТАТАТАТА                                   MORGENSHTERN         155366\n\n[3155 rows x 1 columns]",
      "text/html": "<div>\n<style scoped>\n    .dataframe tbody tr th:only-of-type {\n        vertical-align: middle;\n    }\n\n    .dataframe tbody tr th {\n        vertical-align: top;\n    }\n\n    .dataframe thead th {\n        text-align: right;\n    }\n</style>\n<table border=\"1\" class=\"dataframe\">\n  <thead>\n    <tr style=\"text-align: right;\">\n      <th></th>\n      <th></th>\n      <th>time</th>\n    </tr>\n    <tr>\n      <th>track</th>\n      <th>artist</th>\n      <th></th>\n    </tr>\n  </thead>\n  <tbody>\n    <tr>\n      <th>!I'll Be Back!</th>\n      <th>Rilès</th>\n      <td>117946</td>\n    </tr>\n    <tr>\n      <th>$orries</th>\n      <th>Peachy!</th>\n      <td>3163396</td>\n    </tr>\n    <tr>\n      <th>(Everything I Do) I Do It For You</th>\n      <th>Bryan Adams</th>\n      <td>13023</td>\n    </tr>\n    <tr>\n      <th>(I Can't Get No) Satisfaction - Mono Version</th>\n      <th>The Rolling Stones</th>\n      <td>222813</td>\n    </tr>\n    <tr>\n      <th>(i hope you) miss me</th>\n      <th>Joseph Black</th>\n      <td>78056</td>\n    </tr>\n    <tr>\n      <th>...</th>\n      <th>...</th>\n      <td>...</td>\n    </tr>\n    <tr>\n      <th>you were good to me</th>\n      <th>Jeremy Zucker</th>\n      <td>3971111</td>\n    </tr>\n    <tr>\n      <th>you're not lost</th>\n      <th>eaup</th>\n      <td>148037</td>\n    </tr>\n    <tr>\n      <th>Éxtasis</th>\n      <th>Pablo Alborán</th>\n      <td>238013</td>\n    </tr>\n    <tr>\n      <th>Малыш - XZEEZ &amp; Ablaikan Remix</th>\n      <th>JANAGA</th>\n      <td>274133</td>\n    </tr>\n    <tr>\n      <th>РАТАТАТАТА</th>\n      <th>MORGENSHTERN</th>\n      <td>155366</td>\n    </tr>\n  </tbody>\n</table>\n<p>3155 rows × 1 columns</p>\n</div>"
     },
     "execution_count": 23,
     "metadata": {},
     "output_type": "execute_result"
    }
   ],
   "source": [
    "df9.drop_duplicates()"
   ],
   "metadata": {
    "collapsed": false,
    "pycharm": {
     "name": "#%%\n"
    }
   }
  },
  {
   "cell_type": "code",
   "execution_count": 24,
   "outputs": [
    {
     "data": {
      "text/plain": "                                                                time\ntrack                                        artist                 \n20/20                                        Lil Tjay       33924863\nCalling My Phone                             Lil Tjay       30549381\nDreamcatcher (feat. Swae Lee & Travis Scott) Metro Boomin   26472923\nCome and See Me (feat. Drake)                PARTYNEXTDOOR  22827141\nCar Sick (feat. NAV & Metro Boomin)          Gunna          20147759\nDancin - Krono Remix                         Aaron Smith    19045919\nSoul Ties                                    Kaash Paige    18783030\nMy Affection (with PARTYNEXTDOOR)            Summer Walker  18646089\nLove Galore (feat. Travis Scott)             SZA            18321221\nExchange                                     Bryson Tiller  17948818",
      "text/html": "<div>\n<style scoped>\n    .dataframe tbody tr th:only-of-type {\n        vertical-align: middle;\n    }\n\n    .dataframe tbody tr th {\n        vertical-align: top;\n    }\n\n    .dataframe thead th {\n        text-align: right;\n    }\n</style>\n<table border=\"1\" class=\"dataframe\">\n  <thead>\n    <tr style=\"text-align: right;\">\n      <th></th>\n      <th></th>\n      <th>time</th>\n    </tr>\n    <tr>\n      <th>track</th>\n      <th>artist</th>\n      <th></th>\n    </tr>\n  </thead>\n  <tbody>\n    <tr>\n      <th>20/20</th>\n      <th>Lil Tjay</th>\n      <td>33924863</td>\n    </tr>\n    <tr>\n      <th>Calling My Phone</th>\n      <th>Lil Tjay</th>\n      <td>30549381</td>\n    </tr>\n    <tr>\n      <th>Dreamcatcher (feat. Swae Lee &amp; Travis Scott)</th>\n      <th>Metro Boomin</th>\n      <td>26472923</td>\n    </tr>\n    <tr>\n      <th>Come and See Me (feat. Drake)</th>\n      <th>PARTYNEXTDOOR</th>\n      <td>22827141</td>\n    </tr>\n    <tr>\n      <th>Car Sick (feat. NAV &amp; Metro Boomin)</th>\n      <th>Gunna</th>\n      <td>20147759</td>\n    </tr>\n    <tr>\n      <th>Dancin - Krono Remix</th>\n      <th>Aaron Smith</th>\n      <td>19045919</td>\n    </tr>\n    <tr>\n      <th>Soul Ties</th>\n      <th>Kaash Paige</th>\n      <td>18783030</td>\n    </tr>\n    <tr>\n      <th>My Affection (with PARTYNEXTDOOR)</th>\n      <th>Summer Walker</th>\n      <td>18646089</td>\n    </tr>\n    <tr>\n      <th>Love Galore (feat. Travis Scott)</th>\n      <th>SZA</th>\n      <td>18321221</td>\n    </tr>\n    <tr>\n      <th>Exchange</th>\n      <th>Bryson Tiller</th>\n      <td>17948818</td>\n    </tr>\n  </tbody>\n</table>\n</div>"
     },
     "execution_count": 24,
     "metadata": {},
     "output_type": "execute_result"
    }
   ],
   "source": [
    "final_df = df9.sort_values(by=['time'], ascending=False)\n",
    "final_df.head(10)"
   ],
   "metadata": {
    "collapsed": false,
    "pycharm": {
     "name": "#%%\n"
    }
   }
  },
  {
   "cell_type": "code",
   "execution_count": 25,
   "outputs": [
    {
     "ename": "KeyError",
     "evalue": "'artist'",
     "output_type": "error",
     "traceback": [
      "\u001B[1;31m---------------------------------------------------------------------------\u001B[0m",
      "\u001B[1;31mKeyError\u001B[0m                                  Traceback (most recent call last)",
      "File \u001B[1;32m~\\anaconda3\\envs\\dataSci\\lib\\site-packages\\pandas\\core\\indexes\\base.py:3621\u001B[0m, in \u001B[0;36mIndex.get_loc\u001B[1;34m(self, key, method, tolerance)\u001B[0m\n\u001B[0;32m   3620\u001B[0m \u001B[38;5;28;01mtry\u001B[39;00m:\n\u001B[1;32m-> 3621\u001B[0m     \u001B[38;5;28;01mreturn\u001B[39;00m \u001B[38;5;28;43mself\u001B[39;49m\u001B[38;5;241;43m.\u001B[39;49m\u001B[43m_engine\u001B[49m\u001B[38;5;241;43m.\u001B[39;49m\u001B[43mget_loc\u001B[49m\u001B[43m(\u001B[49m\u001B[43mcasted_key\u001B[49m\u001B[43m)\u001B[49m\n\u001B[0;32m   3622\u001B[0m \u001B[38;5;28;01mexcept\u001B[39;00m \u001B[38;5;167;01mKeyError\u001B[39;00m \u001B[38;5;28;01mas\u001B[39;00m err:\n",
      "File \u001B[1;32m~\\anaconda3\\envs\\dataSci\\lib\\site-packages\\pandas\\_libs\\index.pyx:136\u001B[0m, in \u001B[0;36mpandas._libs.index.IndexEngine.get_loc\u001B[1;34m()\u001B[0m\n",
      "File \u001B[1;32m~\\anaconda3\\envs\\dataSci\\lib\\site-packages\\pandas\\_libs\\index.pyx:163\u001B[0m, in \u001B[0;36mpandas._libs.index.IndexEngine.get_loc\u001B[1;34m()\u001B[0m\n",
      "File \u001B[1;32mpandas\\_libs\\hashtable_class_helper.pxi:5198\u001B[0m, in \u001B[0;36mpandas._libs.hashtable.PyObjectHashTable.get_item\u001B[1;34m()\u001B[0m\n",
      "File \u001B[1;32mpandas\\_libs\\hashtable_class_helper.pxi:5206\u001B[0m, in \u001B[0;36mpandas._libs.hashtable.PyObjectHashTable.get_item\u001B[1;34m()\u001B[0m\n",
      "\u001B[1;31mKeyError\u001B[0m: 'artist'",
      "\nThe above exception was the direct cause of the following exception:\n",
      "\u001B[1;31mKeyError\u001B[0m                                  Traceback (most recent call last)",
      "Input \u001B[1;32mIn [25]\u001B[0m, in \u001B[0;36m<cell line: 1>\u001B[1;34m()\u001B[0m\n\u001B[1;32m----> 1\u001B[0m final_df[\u001B[38;5;124m'\u001B[39m\u001B[38;5;124martist\u001B[39m\u001B[38;5;124m'\u001B[39m] \u001B[38;5;241m=\u001B[39m \u001B[43mfinal_df\u001B[49m\u001B[43m[\u001B[49m\u001B[38;5;124;43m'\u001B[39;49m\u001B[38;5;124;43martist\u001B[39;49m\u001B[38;5;124;43m'\u001B[39;49m\u001B[43m]\u001B[49m\u001B[38;5;241m.\u001B[39mastype(\u001B[38;5;124m\"\u001B[39m\u001B[38;5;124mstring\u001B[39m\u001B[38;5;124m\"\u001B[39m)\n\u001B[0;32m      2\u001B[0m final_df[\u001B[38;5;124m'\u001B[39m\u001B[38;5;124mtrack\u001B[39m\u001B[38;5;124m'\u001B[39m] \u001B[38;5;241m=\u001B[39m final_df[\u001B[38;5;124m'\u001B[39m\u001B[38;5;124mtrack\u001B[39m\u001B[38;5;124m'\u001B[39m]\u001B[38;5;241m.\u001B[39mastype(\u001B[38;5;124m\"\u001B[39m\u001B[38;5;124mstring\u001B[39m\u001B[38;5;124m\"\u001B[39m)\n\u001B[0;32m      3\u001B[0m sns\u001B[38;5;241m.\u001B[39mbarplot(x\u001B[38;5;241m=\u001B[39m\u001B[38;5;124m'\u001B[39m\u001B[38;5;124mtrack\u001B[39m\u001B[38;5;124m'\u001B[39m, y\u001B[38;5;241m=\u001B[39m\u001B[38;5;124m'\u001B[39m\u001B[38;5;124mtime\u001B[39m\u001B[38;5;124m'\u001B[39m, data\u001B[38;5;241m=\u001B[39mfinal_df)\n",
      "File \u001B[1;32m~\\anaconda3\\envs\\dataSci\\lib\\site-packages\\pandas\\core\\frame.py:3505\u001B[0m, in \u001B[0;36mDataFrame.__getitem__\u001B[1;34m(self, key)\u001B[0m\n\u001B[0;32m   3503\u001B[0m \u001B[38;5;28;01mif\u001B[39;00m \u001B[38;5;28mself\u001B[39m\u001B[38;5;241m.\u001B[39mcolumns\u001B[38;5;241m.\u001B[39mnlevels \u001B[38;5;241m>\u001B[39m \u001B[38;5;241m1\u001B[39m:\n\u001B[0;32m   3504\u001B[0m     \u001B[38;5;28;01mreturn\u001B[39;00m \u001B[38;5;28mself\u001B[39m\u001B[38;5;241m.\u001B[39m_getitem_multilevel(key)\n\u001B[1;32m-> 3505\u001B[0m indexer \u001B[38;5;241m=\u001B[39m \u001B[38;5;28;43mself\u001B[39;49m\u001B[38;5;241;43m.\u001B[39;49m\u001B[43mcolumns\u001B[49m\u001B[38;5;241;43m.\u001B[39;49m\u001B[43mget_loc\u001B[49m\u001B[43m(\u001B[49m\u001B[43mkey\u001B[49m\u001B[43m)\u001B[49m\n\u001B[0;32m   3506\u001B[0m \u001B[38;5;28;01mif\u001B[39;00m is_integer(indexer):\n\u001B[0;32m   3507\u001B[0m     indexer \u001B[38;5;241m=\u001B[39m [indexer]\n",
      "File \u001B[1;32m~\\anaconda3\\envs\\dataSci\\lib\\site-packages\\pandas\\core\\indexes\\base.py:3623\u001B[0m, in \u001B[0;36mIndex.get_loc\u001B[1;34m(self, key, method, tolerance)\u001B[0m\n\u001B[0;32m   3621\u001B[0m     \u001B[38;5;28;01mreturn\u001B[39;00m \u001B[38;5;28mself\u001B[39m\u001B[38;5;241m.\u001B[39m_engine\u001B[38;5;241m.\u001B[39mget_loc(casted_key)\n\u001B[0;32m   3622\u001B[0m \u001B[38;5;28;01mexcept\u001B[39;00m \u001B[38;5;167;01mKeyError\u001B[39;00m \u001B[38;5;28;01mas\u001B[39;00m err:\n\u001B[1;32m-> 3623\u001B[0m     \u001B[38;5;28;01mraise\u001B[39;00m \u001B[38;5;167;01mKeyError\u001B[39;00m(key) \u001B[38;5;28;01mfrom\u001B[39;00m \u001B[38;5;21;01merr\u001B[39;00m\n\u001B[0;32m   3624\u001B[0m \u001B[38;5;28;01mexcept\u001B[39;00m \u001B[38;5;167;01mTypeError\u001B[39;00m:\n\u001B[0;32m   3625\u001B[0m     \u001B[38;5;66;03m# If we have a listlike key, _check_indexing_error will raise\u001B[39;00m\n\u001B[0;32m   3626\u001B[0m     \u001B[38;5;66;03m#  InvalidIndexError. Otherwise we fall through and re-raise\u001B[39;00m\n\u001B[0;32m   3627\u001B[0m     \u001B[38;5;66;03m#  the TypeError.\u001B[39;00m\n\u001B[0;32m   3628\u001B[0m     \u001B[38;5;28mself\u001B[39m\u001B[38;5;241m.\u001B[39m_check_indexing_error(key)\n",
      "\u001B[1;31mKeyError\u001B[0m: 'artist'"
     ]
    }
   ],
   "source": [
    "final_df['artist'] = final_df['artist'].astype(\"string\")\n",
    "final_df['track'] = final_df['track'].astype(\"string\")\n",
    "sns.barplot(x='track', y='time', data=final_df)"
   ],
   "metadata": {
    "collapsed": false,
    "pycharm": {
     "name": "#%%\n"
    }
   }
  }
 ],
 "metadata": {
  "kernelspec": {
   "display_name": "Python 3",
   "language": "python",
   "name": "python3"
  },
  "language_info": {
   "codemirror_mode": {
    "name": "ipython",
    "version": 2
   },
   "file_extension": ".py",
   "mimetype": "text/x-python",
   "name": "python",
   "nbconvert_exporter": "python",
   "pygments_lexer": "ipython2",
   "version": "2.7.6"
  }
 },
 "nbformat": 4,
 "nbformat_minor": 0
}