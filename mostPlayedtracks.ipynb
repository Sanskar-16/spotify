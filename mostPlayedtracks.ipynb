{
 "cells": [
  {
   "cell_type": "code",
   "execution_count": 172,
   "metadata": {
    "collapsed": true
   },
   "outputs": [],
   "source": [
    "import pandas as pd\n",
    "import seaborn as sns"
   ]
  },
  {
   "cell_type": "code",
   "execution_count": 173,
   "outputs": [],
   "source": [
    "temp_df = pd.read_csv('combined-data/spotify-data.csv')"
   ],
   "metadata": {
    "collapsed": false,
    "pycharm": {
     "name": "#%%\n"
    }
   }
  },
  {
   "cell_type": "code",
   "execution_count": 174,
   "outputs": [
    {
     "data": {
      "text/plain": "(28762, 5)"
     },
     "execution_count": 174,
     "metadata": {},
     "output_type": "execute_result"
    }
   ],
   "source": [
    "temp_df.head()\n",
    "temp_df.shape"
   ],
   "metadata": {
    "collapsed": false,
    "pycharm": {
     "name": "#%%\n"
    }
   }
  },
  {
   "cell_type": "code",
   "execution_count": 175,
   "outputs": [
    {
     "data": {
      "text/plain": "       artistName                                     trackName  msPlayed\n0   Billie Eilish                                    i love you    205230\n1      Atif Aslam                                   Tu Jaane Na    341933\n2      Atif Aslam                                         Aadat    333740\n3  Akhil Sachdeva       Humsafar (From \"Badrinath Ki Dulhania\")    268463\n4    Arijit Singh  Tujhe Kitna Chahne Lage (From \"Kabir Singh\")    284779",
      "text/html": "<div>\n<style scoped>\n    .dataframe tbody tr th:only-of-type {\n        vertical-align: middle;\n    }\n\n    .dataframe tbody tr th {\n        vertical-align: top;\n    }\n\n    .dataframe thead th {\n        text-align: right;\n    }\n</style>\n<table border=\"1\" class=\"dataframe\">\n  <thead>\n    <tr style=\"text-align: right;\">\n      <th></th>\n      <th>artistName</th>\n      <th>trackName</th>\n      <th>msPlayed</th>\n    </tr>\n  </thead>\n  <tbody>\n    <tr>\n      <th>0</th>\n      <td>Billie Eilish</td>\n      <td>i love you</td>\n      <td>205230</td>\n    </tr>\n    <tr>\n      <th>1</th>\n      <td>Atif Aslam</td>\n      <td>Tu Jaane Na</td>\n      <td>341933</td>\n    </tr>\n    <tr>\n      <th>2</th>\n      <td>Atif Aslam</td>\n      <td>Aadat</td>\n      <td>333740</td>\n    </tr>\n    <tr>\n      <th>3</th>\n      <td>Akhil Sachdeva</td>\n      <td>Humsafar (From \"Badrinath Ki Dulhania\")</td>\n      <td>268463</td>\n    </tr>\n    <tr>\n      <th>4</th>\n      <td>Arijit Singh</td>\n      <td>Tujhe Kitna Chahne Lage (From \"Kabir Singh\")</td>\n      <td>284779</td>\n    </tr>\n  </tbody>\n</table>\n</div>"
     },
     "execution_count": 175,
     "metadata": {},
     "output_type": "execute_result"
    }
   ],
   "source": [
    "df = temp_df.copy(deep=True)\n",
    "df.drop(['endTime', 'Language'], inplace=True, axis=1)\n",
    "df.head()"
   ],
   "metadata": {
    "collapsed": false,
    "pycharm": {
     "name": "#%%\n"
    }
   }
  },
  {
   "cell_type": "code",
   "execution_count": 176,
   "outputs": [
    {
     "data": {
      "text/plain": "           artist                                         track    time\n0   Billie Eilish                                    i love you  205230\n1      Atif Aslam                                   Tu Jaane Na  341933\n2      Atif Aslam                                         Aadat  333740\n3  Akhil Sachdeva       Humsafar (From \"Badrinath Ki Dulhania\")  268463\n4    Arijit Singh  Tujhe Kitna Chahne Lage (From \"Kabir Singh\")  284779",
      "text/html": "<div>\n<style scoped>\n    .dataframe tbody tr th:only-of-type {\n        vertical-align: middle;\n    }\n\n    .dataframe tbody tr th {\n        vertical-align: top;\n    }\n\n    .dataframe thead th {\n        text-align: right;\n    }\n</style>\n<table border=\"1\" class=\"dataframe\">\n  <thead>\n    <tr style=\"text-align: right;\">\n      <th></th>\n      <th>artist</th>\n      <th>track</th>\n      <th>time</th>\n    </tr>\n  </thead>\n  <tbody>\n    <tr>\n      <th>0</th>\n      <td>Billie Eilish</td>\n      <td>i love you</td>\n      <td>205230</td>\n    </tr>\n    <tr>\n      <th>1</th>\n      <td>Atif Aslam</td>\n      <td>Tu Jaane Na</td>\n      <td>341933</td>\n    </tr>\n    <tr>\n      <th>2</th>\n      <td>Atif Aslam</td>\n      <td>Aadat</td>\n      <td>333740</td>\n    </tr>\n    <tr>\n      <th>3</th>\n      <td>Akhil Sachdeva</td>\n      <td>Humsafar (From \"Badrinath Ki Dulhania\")</td>\n      <td>268463</td>\n    </tr>\n    <tr>\n      <th>4</th>\n      <td>Arijit Singh</td>\n      <td>Tujhe Kitna Chahne Lage (From \"Kabir Singh\")</td>\n      <td>284779</td>\n    </tr>\n  </tbody>\n</table>\n</div>"
     },
     "execution_count": 176,
     "metadata": {},
     "output_type": "execute_result"
    }
   ],
   "source": [
    "df = df.rename(columns={'artistName':'artist', 'trackName':'track', 'msPlayed':'time'})\n",
    "df.head()"
   ],
   "metadata": {
    "collapsed": false,
    "pycharm": {
     "name": "#%%\n"
    }
   }
  },
  {
   "cell_type": "code",
   "execution_count": 177,
   "outputs": [
    {
     "data": {
      "text/plain": "(28762, 3)"
     },
     "execution_count": 177,
     "metadata": {},
     "output_type": "execute_result"
    }
   ],
   "source": [
    "df.shape"
   ],
   "metadata": {
    "collapsed": false,
    "pycharm": {
     "name": "#%%\n"
    }
   }
  },
  {
   "cell_type": "code",
   "execution_count": 178,
   "outputs": [],
   "source": [
    "df = pd.DataFrame(df.groupby(['track', 'artist']).sum())"
   ],
   "metadata": {
    "collapsed": false,
    "pycharm": {
     "name": "#%%\n"
    }
   }
  },
  {
   "cell_type": "code",
   "execution_count": 179,
   "outputs": [
    {
     "data": {
      "text/plain": "(3275, 1)"
     },
     "execution_count": 179,
     "metadata": {},
     "output_type": "execute_result"
    }
   ],
   "source": [
    "df.shape"
   ],
   "metadata": {
    "collapsed": false,
    "pycharm": {
     "name": "#%%\n"
    }
   }
  },
  {
   "cell_type": "code",
   "execution_count": 180,
   "outputs": [
    {
     "data": {
      "text/plain": "                                                                    time\ntrack                                        artist                     \n!I'll Be Back!                               Rilès                117946\n$orries                                      Peachy!             3163396\n(Everything I Do) I Do It For You            Bryan Adams           13023\n(I Can't Get No) Satisfaction - Mono Version The Rolling Stones   222813\n(i hope you) miss me                         Joseph Black          78056",
      "text/html": "<div>\n<style scoped>\n    .dataframe tbody tr th:only-of-type {\n        vertical-align: middle;\n    }\n\n    .dataframe tbody tr th {\n        vertical-align: top;\n    }\n\n    .dataframe thead th {\n        text-align: right;\n    }\n</style>\n<table border=\"1\" class=\"dataframe\">\n  <thead>\n    <tr style=\"text-align: right;\">\n      <th></th>\n      <th></th>\n      <th>time</th>\n    </tr>\n    <tr>\n      <th>track</th>\n      <th>artist</th>\n      <th></th>\n    </tr>\n  </thead>\n  <tbody>\n    <tr>\n      <th>!I'll Be Back!</th>\n      <th>Rilès</th>\n      <td>117946</td>\n    </tr>\n    <tr>\n      <th>$orries</th>\n      <th>Peachy!</th>\n      <td>3163396</td>\n    </tr>\n    <tr>\n      <th>(Everything I Do) I Do It For You</th>\n      <th>Bryan Adams</th>\n      <td>13023</td>\n    </tr>\n    <tr>\n      <th>(I Can't Get No) Satisfaction - Mono Version</th>\n      <th>The Rolling Stones</th>\n      <td>222813</td>\n    </tr>\n    <tr>\n      <th>(i hope you) miss me</th>\n      <th>Joseph Black</th>\n      <td>78056</td>\n    </tr>\n  </tbody>\n</table>\n</div>"
     },
     "execution_count": 180,
     "metadata": {},
     "output_type": "execute_result"
    }
   ],
   "source": [
    "df.head()"
   ],
   "metadata": {
    "collapsed": false,
    "pycharm": {
     "name": "#%%\n"
    }
   }
  },
  {
   "cell_type": "code",
   "execution_count": 181,
   "outputs": [
    {
     "data": {
      "text/plain": "                                                                    time\ntrack                                        artist                     \n!I'll Be Back!                               Rilès                117946\n$orries                                      Peachy!             3163396\n(Everything I Do) I Do It For You            Bryan Adams           13023\n(I Can't Get No) Satisfaction - Mono Version The Rolling Stones   222813\n(i hope you) miss me                         Joseph Black          78056\n...                                                                  ...\nyou were good to me                          Jeremy Zucker       3971111\nyou're not lost                              eaup                 148037\nÉxtasis                                      Pablo Alborán        238013\nМалыш - XZEEZ & Ablaikan Remix               JANAGA               274133\nРАТАТАТАТА                                   MORGENSHTERN         155366\n\n[3155 rows x 1 columns]",
      "text/html": "<div>\n<style scoped>\n    .dataframe tbody tr th:only-of-type {\n        vertical-align: middle;\n    }\n\n    .dataframe tbody tr th {\n        vertical-align: top;\n    }\n\n    .dataframe thead th {\n        text-align: right;\n    }\n</style>\n<table border=\"1\" class=\"dataframe\">\n  <thead>\n    <tr style=\"text-align: right;\">\n      <th></th>\n      <th></th>\n      <th>time</th>\n    </tr>\n    <tr>\n      <th>track</th>\n      <th>artist</th>\n      <th></th>\n    </tr>\n  </thead>\n  <tbody>\n    <tr>\n      <th>!I'll Be Back!</th>\n      <th>Rilès</th>\n      <td>117946</td>\n    </tr>\n    <tr>\n      <th>$orries</th>\n      <th>Peachy!</th>\n      <td>3163396</td>\n    </tr>\n    <tr>\n      <th>(Everything I Do) I Do It For You</th>\n      <th>Bryan Adams</th>\n      <td>13023</td>\n    </tr>\n    <tr>\n      <th>(I Can't Get No) Satisfaction - Mono Version</th>\n      <th>The Rolling Stones</th>\n      <td>222813</td>\n    </tr>\n    <tr>\n      <th>(i hope you) miss me</th>\n      <th>Joseph Black</th>\n      <td>78056</td>\n    </tr>\n    <tr>\n      <th>...</th>\n      <th>...</th>\n      <td>...</td>\n    </tr>\n    <tr>\n      <th>you were good to me</th>\n      <th>Jeremy Zucker</th>\n      <td>3971111</td>\n    </tr>\n    <tr>\n      <th>you're not lost</th>\n      <th>eaup</th>\n      <td>148037</td>\n    </tr>\n    <tr>\n      <th>Éxtasis</th>\n      <th>Pablo Alborán</th>\n      <td>238013</td>\n    </tr>\n    <tr>\n      <th>Малыш - XZEEZ &amp; Ablaikan Remix</th>\n      <th>JANAGA</th>\n      <td>274133</td>\n    </tr>\n    <tr>\n      <th>РАТАТАТАТА</th>\n      <th>MORGENSHTERN</th>\n      <td>155366</td>\n    </tr>\n  </tbody>\n</table>\n<p>3155 rows × 1 columns</p>\n</div>"
     },
     "execution_count": 181,
     "metadata": {},
     "output_type": "execute_result"
    }
   ],
   "source": [
    "df.drop_duplicates()"
   ],
   "metadata": {
    "collapsed": false,
    "pycharm": {
     "name": "#%%\n"
    }
   }
  },
  {
   "cell_type": "code",
   "execution_count": 182,
   "outputs": [
    {
     "data": {
      "text/plain": "                                                                time\ntrack                                        artist                 \n20/20                                        Lil Tjay       33924863\nCalling My Phone                             Lil Tjay       30549381\nDreamcatcher (feat. Swae Lee & Travis Scott) Metro Boomin   26472923\nCome and See Me (feat. Drake)                PARTYNEXTDOOR  22827141\nCar Sick (feat. NAV & Metro Boomin)          Gunna          20147759\nDancin - Krono Remix                         Aaron Smith    19045919\nSoul Ties                                    Kaash Paige    18783030\nMy Affection (with PARTYNEXTDOOR)            Summer Walker  18646089\nLove Galore (feat. Travis Scott)             SZA            18321221\nExchange                                     Bryson Tiller  17948818",
      "text/html": "<div>\n<style scoped>\n    .dataframe tbody tr th:only-of-type {\n        vertical-align: middle;\n    }\n\n    .dataframe tbody tr th {\n        vertical-align: top;\n    }\n\n    .dataframe thead th {\n        text-align: right;\n    }\n</style>\n<table border=\"1\" class=\"dataframe\">\n  <thead>\n    <tr style=\"text-align: right;\">\n      <th></th>\n      <th></th>\n      <th>time</th>\n    </tr>\n    <tr>\n      <th>track</th>\n      <th>artist</th>\n      <th></th>\n    </tr>\n  </thead>\n  <tbody>\n    <tr>\n      <th>20/20</th>\n      <th>Lil Tjay</th>\n      <td>33924863</td>\n    </tr>\n    <tr>\n      <th>Calling My Phone</th>\n      <th>Lil Tjay</th>\n      <td>30549381</td>\n    </tr>\n    <tr>\n      <th>Dreamcatcher (feat. Swae Lee &amp; Travis Scott)</th>\n      <th>Metro Boomin</th>\n      <td>26472923</td>\n    </tr>\n    <tr>\n      <th>Come and See Me (feat. Drake)</th>\n      <th>PARTYNEXTDOOR</th>\n      <td>22827141</td>\n    </tr>\n    <tr>\n      <th>Car Sick (feat. NAV &amp; Metro Boomin)</th>\n      <th>Gunna</th>\n      <td>20147759</td>\n    </tr>\n    <tr>\n      <th>Dancin - Krono Remix</th>\n      <th>Aaron Smith</th>\n      <td>19045919</td>\n    </tr>\n    <tr>\n      <th>Soul Ties</th>\n      <th>Kaash Paige</th>\n      <td>18783030</td>\n    </tr>\n    <tr>\n      <th>My Affection (with PARTYNEXTDOOR)</th>\n      <th>Summer Walker</th>\n      <td>18646089</td>\n    </tr>\n    <tr>\n      <th>Love Galore (feat. Travis Scott)</th>\n      <th>SZA</th>\n      <td>18321221</td>\n    </tr>\n    <tr>\n      <th>Exchange</th>\n      <th>Bryson Tiller</th>\n      <td>17948818</td>\n    </tr>\n  </tbody>\n</table>\n</div>"
     },
     "execution_count": 182,
     "metadata": {},
     "output_type": "execute_result"
    }
   ],
   "source": [
    "final_df = df.sort_values(by=['time'], ascending=False)\n",
    "final_df.head(10)"
   ],
   "metadata": {
    "collapsed": false,
    "pycharm": {
     "name": "#%%\n"
    }
   }
  }
 ],
 "metadata": {
  "kernelspec": {
   "display_name": "Python 3",
   "language": "python",
   "name": "python3"
  },
  "language_info": {
   "codemirror_mode": {
    "name": "ipython",
    "version": 2
   },
   "file_extension": ".py",
   "mimetype": "text/x-python",
   "name": "python",
   "nbconvert_exporter": "python",
   "pygments_lexer": "ipython2",
   "version": "2.7.6"
  }
 },
 "nbformat": 4,
 "nbformat_minor": 0
}